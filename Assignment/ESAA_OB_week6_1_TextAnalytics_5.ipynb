{
  "nbformat": 4,
  "nbformat_minor": 0,
  "metadata": {
    "colab": {
      "provenance": []
    },
    "kernelspec": {
      "name": "python3",
      "display_name": "Python 3"
    },
    "language_info": {
      "name": "python"
    }
  },
  "cells": [
    {
      "cell_type": "markdown",
      "source": [
        "파이썬 머신러닝 완벽 가이드 개정2판\n",
        "ch8.10-11\n",
        " p.566-583"
      ],
      "metadata": {
        "id": "rydCheNuhQrW"
      }
    },
    {
      "cell_type": "code",
      "source": [
        "from google.colab import drive\n",
        "drive.mount('/content/drive')"
      ],
      "metadata": {
        "colab": {
          "base_uri": "https://localhost:8080/"
        },
        "outputId": "f4b268fd-309b-41a3-8e70-6386de490fe7",
        "id": "-iqx8PVwQ7xX"
      },
      "execution_count": 1,
      "outputs": [
        {
          "output_type": "stream",
          "name": "stdout",
          "text": [
            "Drive already mounted at /content/drive; to attempt to forcibly remount, call drive.mount(\"/content/drive\", force_remount=True).\n"
          ]
        }
      ]
    },
    {
      "cell_type": "markdown",
      "source": [
        "# 8. 텍스트 분석\n",
        "## 10. 텍스트 분석 실습 - 캐글 Mercari Price Suggestion Challenge\n",
        "\n",
        "https://www.kaggle.com/competitions/mercari-price-suggestion-challenge\n",
        "\n",
        "일본의 대형 온라인 쇼핑몰인 Mercari사의 제품에 대해 가격을 예측하는 과제\n",
        "- 데이터 세트 : 제품에 대한 여러 속성 및 제품 설명 등의 텍스틑 데이터\n",
        "- 제품의 예측 가격을 판매자에게 제공할 수 있음"
      ],
      "metadata": {
        "id": "kbfc_FhLhaSW"
      }
    },
    {
      "cell_type": "markdown",
      "source": [
        "- train_id : 데이터 id\n",
        "- name : 제품명\n",
        "- item_condition_id : 판매자가 제공하는 제품 상태\n",
        "- category_naem : 카테고리 명\n",
        "- brand_name : 브랜드 이름\n",
        "- price : 제품 가격, 예측을 위한 타깃 속성\n",
        "- shipping : 배송비 무료 여부. 1이면 무료, 0이면 유료\n",
        "- item_description : 제품에 대한 설명\n",
        "\n",
        "=> price: 타깃 값\n",
        "회귀로 피처를 학습한 뒤 price를 예측"
      ],
      "metadata": {
        "id": "AqwKgkoyjzUU"
      }
    },
    {
      "cell_type": "markdown",
      "source": [
        "### [데이터 전처리]\n"
      ],
      "metadata": {
        "id": "DwE7aWaHkMOL"
      }
    },
    {
      "cell_type": "code",
      "source": [
        "from sklearn.linear_model import Ridge, LogisticRegression\n",
        "from sklearn.model_selection import train_test_split, cross_val_score\n",
        "from sklearn.feature_extraction.text import CountVectorizer, TfidfVectorizer\n",
        "import pandas as pd\n",
        "\n",
        "mercari_df = pd.read_csv('/content/drive/MyDrive/2025-1/2025-1 ESAA OB/과제/data/mercari_train.tsv', sep='\\t')\n",
        "print(mercari_df.shape)\n",
        "mercari_df.head(3)"
      ],
      "metadata": {
        "colab": {
          "base_uri": "https://localhost:8080/",
          "height": 162
        },
        "id": "Jr0GhEADkOqR",
        "outputId": "0c04f951-ca81-40f7-f6e0-0dbcd7f38900"
      },
      "execution_count": 2,
      "outputs": [
        {
          "output_type": "stream",
          "name": "stdout",
          "text": [
            "(1482535, 8)\n"
          ]
        },
        {
          "output_type": "execute_result",
          "data": {
            "text/plain": [
              "   train_id                                 name  item_condition_id  \\\n",
              "0         0  MLB Cincinnati Reds T Shirt Size XL                  3   \n",
              "1         1     Razer BlackWidow Chroma Keyboard                  3   \n",
              "2         2                       AVA-VIV Blouse                  1   \n",
              "\n",
              "                                       category_name brand_name  price  \\\n",
              "0                                  Men/Tops/T-shirts        NaN   10.0   \n",
              "1  Electronics/Computers & Tablets/Components & P...      Razer   52.0   \n",
              "2                        Women/Tops & Blouses/Blouse     Target   10.0   \n",
              "\n",
              "   shipping                                   item_description  \n",
              "0         1                                 No description yet  \n",
              "1         0  This keyboard is in great condition and works ...  \n",
              "2         1  Adorable top with a hint of lace and a key hol...  "
            ],
            "text/html": [
              "\n",
              "  <div id=\"df-caeeb874-aeb3-4e82-b195-5639234d87a1\" class=\"colab-df-container\">\n",
              "    <div>\n",
              "<style scoped>\n",
              "    .dataframe tbody tr th:only-of-type {\n",
              "        vertical-align: middle;\n",
              "    }\n",
              "\n",
              "    .dataframe tbody tr th {\n",
              "        vertical-align: top;\n",
              "    }\n",
              "\n",
              "    .dataframe thead th {\n",
              "        text-align: right;\n",
              "    }\n",
              "</style>\n",
              "<table border=\"1\" class=\"dataframe\">\n",
              "  <thead>\n",
              "    <tr style=\"text-align: right;\">\n",
              "      <th></th>\n",
              "      <th>train_id</th>\n",
              "      <th>name</th>\n",
              "      <th>item_condition_id</th>\n",
              "      <th>category_name</th>\n",
              "      <th>brand_name</th>\n",
              "      <th>price</th>\n",
              "      <th>shipping</th>\n",
              "      <th>item_description</th>\n",
              "    </tr>\n",
              "  </thead>\n",
              "  <tbody>\n",
              "    <tr>\n",
              "      <th>0</th>\n",
              "      <td>0</td>\n",
              "      <td>MLB Cincinnati Reds T Shirt Size XL</td>\n",
              "      <td>3</td>\n",
              "      <td>Men/Tops/T-shirts</td>\n",
              "      <td>NaN</td>\n",
              "      <td>10.0</td>\n",
              "      <td>1</td>\n",
              "      <td>No description yet</td>\n",
              "    </tr>\n",
              "    <tr>\n",
              "      <th>1</th>\n",
              "      <td>1</td>\n",
              "      <td>Razer BlackWidow Chroma Keyboard</td>\n",
              "      <td>3</td>\n",
              "      <td>Electronics/Computers &amp; Tablets/Components &amp; P...</td>\n",
              "      <td>Razer</td>\n",
              "      <td>52.0</td>\n",
              "      <td>0</td>\n",
              "      <td>This keyboard is in great condition and works ...</td>\n",
              "    </tr>\n",
              "    <tr>\n",
              "      <th>2</th>\n",
              "      <td>2</td>\n",
              "      <td>AVA-VIV Blouse</td>\n",
              "      <td>1</td>\n",
              "      <td>Women/Tops &amp; Blouses/Blouse</td>\n",
              "      <td>Target</td>\n",
              "      <td>10.0</td>\n",
              "      <td>1</td>\n",
              "      <td>Adorable top with a hint of lace and a key hol...</td>\n",
              "    </tr>\n",
              "  </tbody>\n",
              "</table>\n",
              "</div>\n",
              "    <div class=\"colab-df-buttons\">\n",
              "\n",
              "  <div class=\"colab-df-container\">\n",
              "    <button class=\"colab-df-convert\" onclick=\"convertToInteractive('df-caeeb874-aeb3-4e82-b195-5639234d87a1')\"\n",
              "            title=\"Convert this dataframe to an interactive table.\"\n",
              "            style=\"display:none;\">\n",
              "\n",
              "  <svg xmlns=\"http://www.w3.org/2000/svg\" height=\"24px\" viewBox=\"0 -960 960 960\">\n",
              "    <path d=\"M120-120v-720h720v720H120Zm60-500h600v-160H180v160Zm220 220h160v-160H400v160Zm0 220h160v-160H400v160ZM180-400h160v-160H180v160Zm440 0h160v-160H620v160ZM180-180h160v-160H180v160Zm440 0h160v-160H620v160Z\"/>\n",
              "  </svg>\n",
              "    </button>\n",
              "\n",
              "  <style>\n",
              "    .colab-df-container {\n",
              "      display:flex;\n",
              "      gap: 12px;\n",
              "    }\n",
              "\n",
              "    .colab-df-convert {\n",
              "      background-color: #E8F0FE;\n",
              "      border: none;\n",
              "      border-radius: 50%;\n",
              "      cursor: pointer;\n",
              "      display: none;\n",
              "      fill: #1967D2;\n",
              "      height: 32px;\n",
              "      padding: 0 0 0 0;\n",
              "      width: 32px;\n",
              "    }\n",
              "\n",
              "    .colab-df-convert:hover {\n",
              "      background-color: #E2EBFA;\n",
              "      box-shadow: 0px 1px 2px rgba(60, 64, 67, 0.3), 0px 1px 3px 1px rgba(60, 64, 67, 0.15);\n",
              "      fill: #174EA6;\n",
              "    }\n",
              "\n",
              "    .colab-df-buttons div {\n",
              "      margin-bottom: 4px;\n",
              "    }\n",
              "\n",
              "    [theme=dark] .colab-df-convert {\n",
              "      background-color: #3B4455;\n",
              "      fill: #D2E3FC;\n",
              "    }\n",
              "\n",
              "    [theme=dark] .colab-df-convert:hover {\n",
              "      background-color: #434B5C;\n",
              "      box-shadow: 0px 1px 3px 1px rgba(0, 0, 0, 0.15);\n",
              "      filter: drop-shadow(0px 1px 2px rgba(0, 0, 0, 0.3));\n",
              "      fill: #FFFFFF;\n",
              "    }\n",
              "  </style>\n",
              "\n",
              "    <script>\n",
              "      const buttonEl =\n",
              "        document.querySelector('#df-caeeb874-aeb3-4e82-b195-5639234d87a1 button.colab-df-convert');\n",
              "      buttonEl.style.display =\n",
              "        google.colab.kernel.accessAllowed ? 'block' : 'none';\n",
              "\n",
              "      async function convertToInteractive(key) {\n",
              "        const element = document.querySelector('#df-caeeb874-aeb3-4e82-b195-5639234d87a1');\n",
              "        const dataTable =\n",
              "          await google.colab.kernel.invokeFunction('convertToInteractive',\n",
              "                                                    [key], {});\n",
              "        if (!dataTable) return;\n",
              "\n",
              "        const docLinkHtml = 'Like what you see? Visit the ' +\n",
              "          '<a target=\"_blank\" href=https://colab.research.google.com/notebooks/data_table.ipynb>data table notebook</a>'\n",
              "          + ' to learn more about interactive tables.';\n",
              "        element.innerHTML = '';\n",
              "        dataTable['output_type'] = 'display_data';\n",
              "        await google.colab.output.renderOutput(dataTable, element);\n",
              "        const docLink = document.createElement('div');\n",
              "        docLink.innerHTML = docLinkHtml;\n",
              "        element.appendChild(docLink);\n",
              "      }\n",
              "    </script>\n",
              "  </div>\n",
              "\n",
              "\n",
              "<div id=\"df-d3af9172-5e03-4d37-ac3a-ac9598853fc2\">\n",
              "  <button class=\"colab-df-quickchart\" onclick=\"quickchart('df-d3af9172-5e03-4d37-ac3a-ac9598853fc2')\"\n",
              "            title=\"Suggest charts\"\n",
              "            style=\"display:none;\">\n",
              "\n",
              "<svg xmlns=\"http://www.w3.org/2000/svg\" height=\"24px\"viewBox=\"0 0 24 24\"\n",
              "     width=\"24px\">\n",
              "    <g>\n",
              "        <path d=\"M19 3H5c-1.1 0-2 .9-2 2v14c0 1.1.9 2 2 2h14c1.1 0 2-.9 2-2V5c0-1.1-.9-2-2-2zM9 17H7v-7h2v7zm4 0h-2V7h2v10zm4 0h-2v-4h2v4z\"/>\n",
              "    </g>\n",
              "</svg>\n",
              "  </button>\n",
              "\n",
              "<style>\n",
              "  .colab-df-quickchart {\n",
              "      --bg-color: #E8F0FE;\n",
              "      --fill-color: #1967D2;\n",
              "      --hover-bg-color: #E2EBFA;\n",
              "      --hover-fill-color: #174EA6;\n",
              "      --disabled-fill-color: #AAA;\n",
              "      --disabled-bg-color: #DDD;\n",
              "  }\n",
              "\n",
              "  [theme=dark] .colab-df-quickchart {\n",
              "      --bg-color: #3B4455;\n",
              "      --fill-color: #D2E3FC;\n",
              "      --hover-bg-color: #434B5C;\n",
              "      --hover-fill-color: #FFFFFF;\n",
              "      --disabled-bg-color: #3B4455;\n",
              "      --disabled-fill-color: #666;\n",
              "  }\n",
              "\n",
              "  .colab-df-quickchart {\n",
              "    background-color: var(--bg-color);\n",
              "    border: none;\n",
              "    border-radius: 50%;\n",
              "    cursor: pointer;\n",
              "    display: none;\n",
              "    fill: var(--fill-color);\n",
              "    height: 32px;\n",
              "    padding: 0;\n",
              "    width: 32px;\n",
              "  }\n",
              "\n",
              "  .colab-df-quickchart:hover {\n",
              "    background-color: var(--hover-bg-color);\n",
              "    box-shadow: 0 1px 2px rgba(60, 64, 67, 0.3), 0 1px 3px 1px rgba(60, 64, 67, 0.15);\n",
              "    fill: var(--button-hover-fill-color);\n",
              "  }\n",
              "\n",
              "  .colab-df-quickchart-complete:disabled,\n",
              "  .colab-df-quickchart-complete:disabled:hover {\n",
              "    background-color: var(--disabled-bg-color);\n",
              "    fill: var(--disabled-fill-color);\n",
              "    box-shadow: none;\n",
              "  }\n",
              "\n",
              "  .colab-df-spinner {\n",
              "    border: 2px solid var(--fill-color);\n",
              "    border-color: transparent;\n",
              "    border-bottom-color: var(--fill-color);\n",
              "    animation:\n",
              "      spin 1s steps(1) infinite;\n",
              "  }\n",
              "\n",
              "  @keyframes spin {\n",
              "    0% {\n",
              "      border-color: transparent;\n",
              "      border-bottom-color: var(--fill-color);\n",
              "      border-left-color: var(--fill-color);\n",
              "    }\n",
              "    20% {\n",
              "      border-color: transparent;\n",
              "      border-left-color: var(--fill-color);\n",
              "      border-top-color: var(--fill-color);\n",
              "    }\n",
              "    30% {\n",
              "      border-color: transparent;\n",
              "      border-left-color: var(--fill-color);\n",
              "      border-top-color: var(--fill-color);\n",
              "      border-right-color: var(--fill-color);\n",
              "    }\n",
              "    40% {\n",
              "      border-color: transparent;\n",
              "      border-right-color: var(--fill-color);\n",
              "      border-top-color: var(--fill-color);\n",
              "    }\n",
              "    60% {\n",
              "      border-color: transparent;\n",
              "      border-right-color: var(--fill-color);\n",
              "    }\n",
              "    80% {\n",
              "      border-color: transparent;\n",
              "      border-right-color: var(--fill-color);\n",
              "      border-bottom-color: var(--fill-color);\n",
              "    }\n",
              "    90% {\n",
              "      border-color: transparent;\n",
              "      border-bottom-color: var(--fill-color);\n",
              "    }\n",
              "  }\n",
              "</style>\n",
              "\n",
              "  <script>\n",
              "    async function quickchart(key) {\n",
              "      const quickchartButtonEl =\n",
              "        document.querySelector('#' + key + ' button');\n",
              "      quickchartButtonEl.disabled = true;  // To prevent multiple clicks.\n",
              "      quickchartButtonEl.classList.add('colab-df-spinner');\n",
              "      try {\n",
              "        const charts = await google.colab.kernel.invokeFunction(\n",
              "            'suggestCharts', [key], {});\n",
              "      } catch (error) {\n",
              "        console.error('Error during call to suggestCharts:', error);\n",
              "      }\n",
              "      quickchartButtonEl.classList.remove('colab-df-spinner');\n",
              "      quickchartButtonEl.classList.add('colab-df-quickchart-complete');\n",
              "    }\n",
              "    (() => {\n",
              "      let quickchartButtonEl =\n",
              "        document.querySelector('#df-d3af9172-5e03-4d37-ac3a-ac9598853fc2 button');\n",
              "      quickchartButtonEl.style.display =\n",
              "        google.colab.kernel.accessAllowed ? 'block' : 'none';\n",
              "    })();\n",
              "  </script>\n",
              "</div>\n",
              "\n",
              "    </div>\n",
              "  </div>\n"
            ],
            "application/vnd.google.colaboratory.intrinsic+json": {
              "type": "dataframe",
              "variable_name": "mercari_df"
            }
          },
          "metadata": {},
          "execution_count": 2
        }
      ]
    },
    {
      "cell_type": "markdown",
      "source": [
        "-> 1482535개의 레코드를 가지고 있는 데이터 세트"
      ],
      "metadata": {
        "id": "ZNsmuIH8klDR"
      }
    },
    {
      "cell_type": "code",
      "source": [
        "print(mercari_df.info())"
      ],
      "metadata": {
        "colab": {
          "base_uri": "https://localhost:8080/"
        },
        "id": "GJ2K7BxakoO9",
        "outputId": "3953b474-99ac-4540-b2c7-355d0cdec69a"
      },
      "execution_count": 3,
      "outputs": [
        {
          "output_type": "stream",
          "name": "stdout",
          "text": [
            "<class 'pandas.core.frame.DataFrame'>\n",
            "RangeIndex: 1482535 entries, 0 to 1482534\n",
            "Data columns (total 8 columns):\n",
            " #   Column             Non-Null Count    Dtype  \n",
            "---  ------             --------------    -----  \n",
            " 0   train_id           1482535 non-null  int64  \n",
            " 1   name               1482535 non-null  object \n",
            " 2   item_condition_id  1482535 non-null  int64  \n",
            " 3   category_name      1476208 non-null  object \n",
            " 4   brand_name         849853 non-null   object \n",
            " 5   price              1482535 non-null  float64\n",
            " 6   shipping           1482535 non-null  int64  \n",
            " 7   item_description   1482529 non-null  object \n",
            "dtypes: float64(1), int64(3), object(4)\n",
            "memory usage: 90.5+ MB\n",
            "None\n"
          ]
        }
      ]
    },
    {
      "cell_type": "markdown",
      "source": [
        "Null 데이터 존재 -> 이후에 적절한 문자열로 치환하기\n",
        "\n"
      ],
      "metadata": {
        "id": "wLtCMwqlkp8T"
      }
    },
    {
      "cell_type": "markdown",
      "source": [
        "**Target 값인 price 칼럼**\n",
        "\n",
        "데이터 분포도 살펴보기"
      ],
      "metadata": {
        "id": "DlGiSH8slg2a"
      }
    },
    {
      "cell_type": "code",
      "source": [
        "import matplotlib.pyplot as plt\n",
        "import seaborn as sns\n",
        "\n",
        "y_train_df = mercari_df['price']\n",
        "plt.figure(figsize=(6,4))\n",
        "sns.histplot(y_train_df, bins=100)\n",
        "plt.show()"
      ],
      "metadata": {
        "colab": {
          "base_uri": "https://localhost:8080/",
          "height": 388
        },
        "id": "9a6ccBVGk5MJ",
        "outputId": "cb0ac2eb-dd32-4c0d-9c18-6734e65bb0df"
      },
      "execution_count": 4,
      "outputs": [
        {
          "output_type": "display_data",
          "data": {
            "text/plain": [
              "<Figure size 600x400 with 1 Axes>"
            ],
            "image/png": "[encoded data removed]"
          },
          "metadata": {}
        }
      ]
    },
    {
      "cell_type": "markdown",
      "source": [
        "로그 변환하기"
      ],
      "metadata": {
        "id": "BV1ySRGflDrW"
      }
    },
    {
      "cell_type": "code",
      "source": [
        "import numpy as np\n",
        "\n",
        "y_train_df = np.log1p(y_train_df)\n",
        "sns.histplot(y_train_df, bins=50)\n",
        "plt.show()"
      ],
      "metadata": {
        "colab": {
          "base_uri": "https://localhost:8080/",
          "height": 449
        },
        "id": "pyYTKsDSlEim",
        "outputId": "68ca7c88-5350-4327-c1ca-8b52596c0b41"
      },
      "execution_count": 5,
      "outputs": [
        {
          "output_type": "display_data",
          "data": {
            "text/plain": [
              "<Figure size 640x480 with 1 Axes>"
            ],
            "image/png": "[encoded data removed]"
          },
          "metadata": {}
        }
      ]
    },
    {
      "cell_type": "markdown",
      "source": [
        "-> 비교적 정규 분포에 가까운 데이터를 이룸"
      ],
      "metadata": {
        "id": "MNn1TcC7lN27"
      }
    },
    {
      "cell_type": "code",
      "source": [
        "mercari_df['price'] = np.log1p(mercari_df['price'])\n",
        "mercari_df['price'].head(3)"
      ],
      "metadata": {
        "colab": {
          "base_uri": "https://localhost:8080/",
          "height": 178
        },
        "id": "s6Zy-u5qlRnm",
        "outputId": "cd3c03bd-d78f-4374-b2d7-015faa90d9a4"
      },
      "execution_count": 6,
      "outputs": [
        {
          "output_type": "execute_result",
          "data": {
            "text/plain": [
              "0    2.397895\n",
              "1    3.970292\n",
              "2    2.397895\n",
              "Name: price, dtype: float64"
            ],
            "text/html": [
              "<div>\n",
              "<style scoped>\n",
              "    .dataframe tbody tr th:only-of-type {\n",
              "        vertical-align: middle;\n",
              "    }\n",
              "\n",
              "    .dataframe tbody tr th {\n",
              "        vertical-align: top;\n",
              "    }\n",
              "\n",
              "    .dataframe thead th {\n",
              "        text-align: right;\n",
              "    }\n",
              "</style>\n",
              "<table border=\"1\" class=\"dataframe\">\n",
              "  <thead>\n",
              "    <tr style=\"text-align: right;\">\n",
              "      <th></th>\n",
              "      <th>price</th>\n",
              "    </tr>\n",
              "  </thead>\n",
              "  <tbody>\n",
              "    <tr>\n",
              "      <th>0</th>\n",
              "      <td>2.397895</td>\n",
              "    </tr>\n",
              "    <tr>\n",
              "      <th>1</th>\n",
              "      <td>3.970292</td>\n",
              "    </tr>\n",
              "    <tr>\n",
              "      <th>2</th>\n",
              "      <td>2.397895</td>\n",
              "    </tr>\n",
              "  </tbody>\n",
              "</table>\n",
              "</div><br><label><b>dtype:</b> float64</label>"
            ]
          },
          "metadata": {},
          "execution_count": 6
        }
      ]
    },
    {
      "cell_type": "markdown",
      "source": [
        "**shipping과 item_condition_id**"
      ],
      "metadata": {
        "id": "gX4WZmFclin_"
      }
    },
    {
      "cell_type": "code",
      "source": [
        "print('Shipping 값 유형 : \\n', mercari_df['shipping'].value_counts())\n",
        "print('item_condition_id 값 유형 : \\n', mercari_df['item_condition_id'].value_counts())"
      ],
      "metadata": {
        "colab": {
          "base_uri": "https://localhost:8080/"
        },
        "id": "lhc6w6a9lmv9",
        "outputId": "8d1e3852-1d84-4d12-cbea-0111b356998f"
      },
      "execution_count": 7,
      "outputs": [
        {
          "output_type": "stream",
          "name": "stdout",
          "text": [
            "Shipping 값 유형 : \n",
            " shipping\n",
            "0    819435\n",
            "1    663100\n",
            "Name: count, dtype: int64\n",
            "item_condition_id 값 유형 : \n",
            " item_condition_id\n",
            "1    640549\n",
            "3    432161\n",
            "2    375479\n",
            "4     31962\n",
            "5      2384\n",
            "Name: count, dtype: int64\n"
          ]
        }
      ]
    },
    {
      "cell_type": "markdown",
      "source": [
        "\n",
        "- Shipping : 배송비 유무, 값이 비교적 균일\n",
        "- Item_condition_id : 판매자가 제공하는 제품 상태, 1, 2, 3 값이 주를 이룸"
      ],
      "metadata": {
        "id": "uIPrZVGyYWFy"
      }
    },
    {
      "cell_type": "markdown",
      "source": [
        "**item_description**"
      ],
      "metadata": {
        "id": "goxqUxM0YdMZ"
      }
    },
    {
      "cell_type": "code",
      "source": [
        "boolean_cond = mercari_df['item_description'] == 'No description yet'\n",
        "mercari_df[boolean_cond]['item_description'].count()"
      ],
      "metadata": {
        "colab": {
          "base_uri": "https://localhost:8080/"
        },
        "id": "urdu1hi-UUkE",
        "outputId": "f91b16b4-0dbb-49c6-a098-65c851787f4c"
      },
      "execution_count": 8,
      "outputs": [
        {
          "output_type": "execute_result",
          "data": {
            "text/plain": [
              "np.int64(82489)"
            ]
          },
          "metadata": {},
          "execution_count": 8
        }
      ]
    },
    {
      "cell_type": "markdown",
      "source": [
        "- 별도 설명이 없는 경우 'No descrioption yet' 값으로 돼 있음\n"
      ],
      "metadata": {
        "id": "iwztJR4tYf8Y"
      }
    },
    {
      "cell_type": "markdown",
      "source": [
        "**category_name**"
      ],
      "metadata": {
        "id": "PO9wiUzPUgJL"
      }
    },
    {
      "cell_type": "markdown",
      "source": [
        "- '/'로 분리된 카테고리를 하나의 문자열로 나타냄\n",
        "- 'Men/Tops/T-shirts' : 대분류 'Men', 중분류 'Tops', 소분류 'T-shirts'"
      ],
      "metadata": {
        "id": "lMtxgvFdYpZU"
      }
    },
    {
      "cell_type": "code",
      "source": [
        "def split_cat(category_name):\n",
        "  try:\n",
        "    return category_name.split('/')\n",
        "  except:\n",
        "    return ['Other_Null', 'Other_Null', 'Other_Null']\n",
        "\n",
        "mercari_df['cat_dae'], mercari_df['cat_jung'], mercari_df['cat_so'] = zip(*mercari_df['category_name'].apply(lambda x: split_cat(x)))\n",
        "\n",
        "print('대분류 유형:\\n', mercari_df['cat_dae'].value_counts())\n",
        "print('중분류 개수:', mercari_df['cat_jung'].nunique())\n",
        "print('소분류 개수:', mercari_df['cat_so'].nunique())"
      ],
      "metadata": {
        "colab": {
          "base_uri": "https://localhost:8080/"
        },
        "id": "RkHxYCtqWl2j",
        "outputId": "2204c5d3-f3cf-4dc8-ac3b-634f937b5eac"
      },
      "execution_count": 9,
      "outputs": [
        {
          "output_type": "stream",
          "name": "stdout",
          "text": [
            "대분류 유형:\n",
            " cat_dae\n",
            "Women                     664385\n",
            "Beauty                    207828\n",
            "Kids                      171689\n",
            "Electronics               122690\n",
            "Men                        93680\n",
            "Home                       67871\n",
            "Vintage & Collectibles     46530\n",
            "Other                      45351\n",
            "Handmade                   30842\n",
            "Sports & Outdoors          25342\n",
            "Other_Null                  6327\n",
            "Name: count, dtype: int64\n",
            "중분류 개수: 114\n",
            "소분류 개수: 871\n"
          ]
        }
      ]
    },
    {
      "cell_type": "code",
      "source": [
        "mercari_df['brand_name'] = mercari_df['brand_name'].fillna(value='Other_Null')\n",
        "mercari_df['catergory_name'] = mercari_df['category_name'].fillna(value='Other_Null')\n",
        "mercari_df['item_description'] = mercari_df['item_description'].fillna(value='Other_Null')\n",
        "\n",
        "# 각 칼럼별로 Null 값 건수 확인. 모두 0이 나와야 함\n",
        "mercari_df.isnull().sum()"
      ],
      "metadata": {
        "colab": {
          "base_uri": "https://localhost:8080/",
          "height": 460
        },
        "id": "9rP8RwjuY_7Z",
        "outputId": "84a74f5b-2fbd-4c95-b01c-21c59c0049ba"
      },
      "execution_count": 10,
      "outputs": [
        {
          "output_type": "execute_result",
          "data": {
            "text/plain": [
              "train_id                0\n",
              "name                    0\n",
              "item_condition_id       0\n",
              "category_name        6327\n",
              "brand_name              0\n",
              "price                   0\n",
              "shipping                0\n",
              "item_description        0\n",
              "cat_dae                 0\n",
              "cat_jung                0\n",
              "cat_so                  0\n",
              "catergory_name          0\n",
              "dtype: int64"
            ],
            "text/html": [
              "<div>\n",
              "<style scoped>\n",
              "    .dataframe tbody tr th:only-of-type {\n",
              "        vertical-align: middle;\n",
              "    }\n",
              "\n",
              "    .dataframe tbody tr th {\n",
              "        vertical-align: top;\n",
              "    }\n",
              "\n",
              "    .dataframe thead th {\n",
              "        text-align: right;\n",
              "    }\n",
              "</style>\n",
              "<table border=\"1\" class=\"dataframe\">\n",
              "  <thead>\n",
              "    <tr style=\"text-align: right;\">\n",
              "      <th></th>\n",
              "      <th>0</th>\n",
              "    </tr>\n",
              "  </thead>\n",
              "  <tbody>\n",
              "    <tr>\n",
              "      <th>train_id</th>\n",
              "      <td>0</td>\n",
              "    </tr>\n",
              "    <tr>\n",
              "      <th>name</th>\n",
              "      <td>0</td>\n",
              "    </tr>\n",
              "    <tr>\n",
              "      <th>item_condition_id</th>\n",
              "      <td>0</td>\n",
              "    </tr>\n",
              "    <tr>\n",
              "      <th>category_name</th>\n",
              "      <td>6327</td>\n",
              "    </tr>\n",
              "    <tr>\n",
              "      <th>brand_name</th>\n",
              "      <td>0</td>\n",
              "    </tr>\n",
              "    <tr>\n",
              "      <th>price</th>\n",
              "      <td>0</td>\n",
              "    </tr>\n",
              "    <tr>\n",
              "      <th>shipping</th>\n",
              "      <td>0</td>\n",
              "    </tr>\n",
              "    <tr>\n",
              "      <th>item_description</th>\n",
              "      <td>0</td>\n",
              "    </tr>\n",
              "    <tr>\n",
              "      <th>cat_dae</th>\n",
              "      <td>0</td>\n",
              "    </tr>\n",
              "    <tr>\n",
              "      <th>cat_jung</th>\n",
              "      <td>0</td>\n",
              "    </tr>\n",
              "    <tr>\n",
              "      <th>cat_so</th>\n",
              "      <td>0</td>\n",
              "    </tr>\n",
              "    <tr>\n",
              "      <th>catergory_name</th>\n",
              "      <td>0</td>\n",
              "    </tr>\n",
              "  </tbody>\n",
              "</table>\n",
              "</div><br><label><b>dtype:</b> int64</label>"
            ]
          },
          "metadata": {},
          "execution_count": 10
        }
      ]
    },
    {
      "cell_type": "markdown",
      "source": [
        "### [피처 인코딩과 피처 벡터화]\n",
        "선형 회귀 모델과 회귀 트리 모델 모두 적용\n",
        "- 원-핫 인코딩 적용\n",
        "- 피처 벡터화\n",
        "  * 짧은 텍스트 : Count 기반의 벡터화\n",
        "  * 긴 텍스트 : TD-IDF 기반의 벡터화\n",
        "\n"
      ],
      "metadata": {
        "id": "gQ6Rsi4VX-Ij"
      }
    },
    {
      "cell_type": "markdown",
      "source": [
        "**brand_name**\n",
        "\n",
        ": 상품의 브랜드명"
      ],
      "metadata": {
        "id": "0imhwi1Wacml"
      }
    },
    {
      "cell_type": "code",
      "source": [
        "print('brand name 의 유형 건수 : ', mercari_df['brand_name'].nunique())\n",
        "print('brand name sample 5건 :\\n', mercari_df['brand_name'].value_counts()[:5])"
      ],
      "metadata": {
        "colab": {
          "base_uri": "https://localhost:8080/"
        },
        "id": "a4RCbFwIajXl",
        "outputId": "1b0d2f31-3a09-4a0a-a149-2b44c2021c37"
      },
      "execution_count": 11,
      "outputs": [
        {
          "output_type": "stream",
          "name": "stdout",
          "text": [
            "brand name 의 유형 건수 :  4810\n",
            "brand name sample 5건 :\n",
            " brand_name\n",
            "Other_Null           632682\n",
            "PINK                  54088\n",
            "Nike                  54043\n",
            "Victoria's Secret     48036\n",
            "LuLaRoe               31024\n",
            "Name: count, dtype: int64\n"
          ]
        }
      ]
    },
    {
      "cell_type": "markdown",
      "source": [
        "- 명료한 문자열로 돼 있음\n",
        "- 별도의 피처 벡터화 형태로 만들 필요 없이 인코딩 변환 적용하기\n",
        "- 원-핫 인코딩 변환"
      ],
      "metadata": {
        "id": "lNDnRF7uaxmh"
      }
    },
    {
      "cell_type": "markdown",
      "source": [
        "**name**\n",
        "\n",
        ": 상품명"
      ],
      "metadata": {
        "id": "qTckgx4BbCzu"
      }
    },
    {
      "cell_type": "code",
      "source": [
        "print('name 의 종류 개수 :', mercari_df['name'].nunique())\n",
        "print('name sample 7건: \\n', mercari_df['name'][:7])"
      ],
      "metadata": {
        "colab": {
          "base_uri": "https://localhost:8080/"
        },
        "id": "2tphjqsCbFgN",
        "outputId": "f601263e-16c9-4ab1-e9f2-f5da7b800f31"
      },
      "execution_count": 12,
      "outputs": [
        {
          "output_type": "stream",
          "name": "stdout",
          "text": [
            "name 의 종류 개수 : 1225273\n",
            "name sample 7건: \n",
            " 0    MLB Cincinnati Reds T Shirt Size XL\n",
            "1       Razer BlackWidow Chroma Keyboard\n",
            "2                         AVA-VIV Blouse\n",
            "3                  Leather Horse Statues\n",
            "4                   24K GOLD plated rose\n",
            "5       Bundled items requested for Ruie\n",
            "6     Acacia pacific tides santorini top\n",
            "Name: name, dtype: object\n"
          ]
        }
      ]
    },
    {
      "cell_type": "markdown",
      "source": [
        "- 거의 고유한 상품명\n",
        "- Count 기반으로 피처 벡터화 변환 적용하기"
      ],
      "metadata": {
        "id": "CjLf8c3ebRhU"
      }
    },
    {
      "cell_type": "markdown",
      "source": [
        "**category_name**\n",
        "\n",
        "- cat_dae, cat_jung, cat_so 칼럼\n",
        "- 원-핫 인코딩"
      ],
      "metadata": {
        "id": "9h5NK_YsbdrY"
      }
    },
    {
      "cell_type": "markdown",
      "source": [
        "**shipping**\n",
        "\n",
        "- 0과 1 두 가지 유형\n",
        "- 원-핫 인코딩\n",
        "\n",
        "**item_condition**\n",
        "\n",
        "- 1,2,3,4,5 다섯 가지 유형의 값\n",
        "- 원-핫 인코딩"
      ],
      "metadata": {
        "id": "SH8r_1FVbnG0"
      }
    },
    {
      "cell_type": "markdown",
      "source": [
        "**item_description**\n",
        "\n",
        ": 상품에 대한 간단 설명\n",
        "\n",
        "- 데이터 세트에서 가장 긴 텍스트\n",
        "- 평균 문자열 크기와 2개 정도의 텍스트만 추출하기"
      ],
      "metadata": {
        "id": "kLPGp8ecb3hu"
      }
    },
    {
      "cell_type": "code",
      "source": [
        "pd.set_option('max_colwidth', 200)\n",
        "\n",
        "# item_description의 평균 문자열 크기\n",
        "print('item_description 평균 문자열 크기:', mercari_df['item_description'].str.len().mean())\n",
        "\n",
        "mercari_df['item_description'][:2]"
      ],
      "metadata": {
        "colab": {
          "base_uri": "https://localhost:8080/",
          "height": 165
        },
        "id": "gGbDuz4BcCLk",
        "outputId": "b258f9b9-9c8a-460e-a84e-96fd32def6f0"
      },
      "execution_count": 13,
      "outputs": [
        {
          "output_type": "stream",
          "name": "stdout",
          "text": [
            "item_description 평균 문자열 크기: 145.71139703278507\n"
          ]
        },
        {
          "output_type": "execute_result",
          "data": {
            "text/plain": [
              "0                                                                                                                                                                              No description yet\n",
              "1    This keyboard is in great condition and works like it came out of the box. All of the ports are tested and work perfectly. The lights are customizable via the Razer Synapse app on your PC.\n",
              "Name: item_description, dtype: object"
            ],
            "text/html": [
              "<div>\n",
              "<style scoped>\n",
              "    .dataframe tbody tr th:only-of-type {\n",
              "        vertical-align: middle;\n",
              "    }\n",
              "\n",
              "    .dataframe tbody tr th {\n",
              "        vertical-align: top;\n",
              "    }\n",
              "\n",
              "    .dataframe thead th {\n",
              "        text-align: right;\n",
              "    }\n",
              "</style>\n",
              "<table border=\"1\" class=\"dataframe\">\n",
              "  <thead>\n",
              "    <tr style=\"text-align: right;\">\n",
              "      <th></th>\n",
              "      <th>item_description</th>\n",
              "    </tr>\n",
              "  </thead>\n",
              "  <tbody>\n",
              "    <tr>\n",
              "      <th>0</th>\n",
              "      <td>No description yet</td>\n",
              "    </tr>\n",
              "    <tr>\n",
              "      <th>1</th>\n",
              "      <td>This keyboard is in great condition and works like it came out of the box. All of the ports are tested and work perfectly. The lights are customizable via the Razer Synapse app on your PC.</td>\n",
              "    </tr>\n",
              "  </tbody>\n",
              "</table>\n",
              "</div><br><label><b>dtype:</b> object</label>"
            ]
          },
          "metadata": {},
          "execution_count": 13
        }
      ]
    },
    {
      "cell_type": "markdown",
      "source": [
        "- 평균 문자열이 145자\n",
        "- TF-IDF 변환하기"
      ],
      "metadata": {
        "id": "rYosMb8AcQuk"
      }
    },
    {
      "cell_type": "markdown",
      "source": [
        "**주요 칼럼 인코딩 및 피처 벡터화 변환하기**\n",
        "- name, item_description 칼럼을 피처 벡터화\n",
        " * name : CountVectorizer 변환\n",
        " * item_description : TfidfVectorizer 변환\n"
      ],
      "metadata": {
        "id": "2cLU2yRDccsA"
      }
    },
    {
      "cell_type": "code",
      "source": [
        "# name 속성에 대한 피처 벡터화 변환\n",
        "cnt_vec = CountVectorizer()\n",
        "X_name = cnt_vec.fit_transform(mercari_df.name)\n",
        "\n",
        "# item_description에 대한 피처 벡터화 변환\n",
        "tfidf_descp = TfidfVectorizer(max_features = 50000, ngram_range=(1,3), stop_words='english')\n",
        "X_descp = tfidf_descp.fit_transform(mercari_df['item_description'])\n",
        "\n",
        "print('name vectorization shape:', X_name.shape)\n",
        "print('item_description vectorization shape:', X_descp.shape)"
      ],
      "metadata": {
        "colab": {
          "base_uri": "https://localhost:8080/"
        },
        "id": "Uv0at9WJcuUV",
        "outputId": "bdb40d5b-cf02-4bfd-8cb8-cd971fa7bd4a"
      },
      "execution_count": 14,
      "outputs": [
        {
          "output_type": "stream",
          "name": "stdout",
          "text": [
            "name vectorization shape: (1482535, 105757)\n",
            "item_description vectorization shape: (1482535, 50000)\n"
          ]
        }
      ]
    },
    {
      "cell_type": "markdown",
      "source": [
        "- CountVectorizer, TfidfVectorizer가 fit_transform()을 통해 반환하는 데이터는 희소 행렬 형태\n",
        "- 인코딩 대성 칼럼을 희소 행렬 형태로 인코딩 적용한 후, 함께 결합하기\n",
        "- 사이킷런이 원-핫 인코딩을 위해 OneHotEncoder, LabelBinarizer 클래스를 제공"
      ],
      "metadata": {
        "id": "uOVq_OYCdoM5"
      }
    },
    {
      "cell_type": "code",
      "source": [
        "from sklearn.preprocessing import LabelBinarizer\n",
        "\n",
        "# brand_name, item_condition_id, shipping 각 피처들을 희소 행렬 원-핫 인코딩 변환\n",
        "lb_brand_name = LabelBinarizer(sparse_output=True)\n",
        "\n",
        "X_brand = lb_brand_name.fit_transform(mercari_df['brand_name'])\n",
        "lb_item_cond_id = LabelBinarizer(sparse_output = True)\n",
        "X_item_cond_id = lb_item_cond_id.fit_transform(mercari_df['item_condition_id'])\n",
        "lb_shipping = LabelBinarizer(sparse_output=True)\n",
        "X_shipping = lb_shipping.fit_transform(mercari_df['shipping'])\n",
        "\n",
        "# cat_dae, cat_jung, cat_so 각 피처들을 희소 행렬 원-핫 인코딩 변환\n",
        "lb_cat_dae = LabelBinarizer(sparse_output = True)\n",
        "X_cat_dae = lb_cat_dae.fit_transform(mercari_df['cat_dae'])\n",
        "lb_cat_jung = LabelBinarizer(sparse_output = True)\n",
        "X_cat_jung = lb_cat_dae.fit_transform(mercari_df['cat_jung'])\n",
        "lb_cat_so = LabelBinarizer(sparse_output = True)\n",
        "X_cat_so = lb_cat_dae.fit_transform(mercari_df['cat_so'])"
      ],
      "metadata": {
        "id": "vOHYIhdBdG4G"
      },
      "execution_count": 15,
      "outputs": []
    },
    {
      "cell_type": "code",
      "source": [
        "print(type(X_brand), type(X_item_cond_id), type(X_shipping))\n",
        "print('X_brand shpae:{0}, X_item_cond_id shape:{1}'.format(X_brand.shape, X_item_cond_id.shape))\n",
        "print('X_shipping shpae:{0}, X_cat_dae shape:{1}'.format(X_shipping.shape, X_cat_dae.shape))\n",
        "print('X_cat_jung shpae:{0}, X_cat_so shape:{1}'.format(X_cat_jung.shape, X_cat_so.shape))"
      ],
      "metadata": {
        "colab": {
          "base_uri": "https://localhost:8080/"
        },
        "id": "-iQcXTNKfB77",
        "outputId": "7e65d08e-9252-4c36-a734-899528ca06d1"
      },
      "execution_count": 16,
      "outputs": [
        {
          "output_type": "stream",
          "name": "stdout",
          "text": [
            "<class 'scipy.sparse._csr.csr_matrix'> <class 'scipy.sparse._csr.csr_matrix'> <class 'scipy.sparse._csr.csr_matrix'>\n",
            "X_brand shpae:(1482535, 4810), X_item_cond_id shape:(1482535, 5)\n",
            "X_shipping shpae:(1482535, 1), X_cat_dae shape:(1482535, 11)\n",
            "X_cat_jung shpae:(1482535, 114), X_cat_so shape:(1482535, 871)\n"
          ]
        }
      ]
    },
    {
      "cell_type": "markdown",
      "source": [
        "- 인코딩 변환된 데이터 세트 : CSR 형태로 변환된 csr_matrix 타입\n",
        "- 인코딩으로 변환하며 인코딩 칼럼이 매우 많이 생겼지만, 피처 벡터화로 텍스트 형태의 문자열을 가지는 벡터 형태의 많은 칼럼과 결합되므로 문제되지 않음"
      ],
      "metadata": {
        "id": "3H7005-yfh3C"
      }
    },
    {
      "cell_type": "markdown",
      "source": [
        "**피처 벡터화 변환한 데이터 세트와 희소 인코딩 변환된 데이터 세트를 결합하기**\n",
        "- hstack() 이용"
      ],
      "metadata": {
        "id": "S6QV100mf1y_"
      }
    },
    {
      "cell_type": "code",
      "source": [
        "from scipy.sparse import hstack\n",
        "import gc\n",
        "\n",
        "sparse_matrix_list = (X_name, X_descp, X_brand, X_item_cond_id, \\\n",
        "                      X_shipping, X_cat_dae, X_cat_jung, X_cat_dae)\n",
        "\n",
        "# hstack 함술르 이용해 인코딩과 벡터화를 수행한 데이터 세트를 모두 결합\n",
        "X_features_sparse = hstack(sparse_matrix_list).tocsr()\n",
        "print(type(X_features_sparse), X_features_sparse.shape)\n",
        "\n",
        "# 데이터 세트가 메모리를 많이 차지하므로 사용 목적이 끝났으면 바로 메모리에서 삭제\n",
        "del X_features_sparse\n",
        "gc.collect()"
      ],
      "metadata": {
        "colab": {
          "base_uri": "https://localhost:8080/"
        },
        "id": "DL67C8zFgWNG",
        "outputId": "086cccf5-d9ec-4a4b-ee35-c496986e900e"
      },
      "execution_count": 17,
      "outputs": [
        {
          "output_type": "stream",
          "name": "stdout",
          "text": [
            "<class 'scipy.sparse._csr.csr_matrix'> (1482535, 160709)\n"
          ]
        },
        {
          "output_type": "execute_result",
          "data": {
            "text/plain": [
              "0"
            ]
          },
          "metadata": {},
          "execution_count": 17
        }
      ]
    },
    {
      "cell_type": "markdown",
      "source": [
        "- csr_matrix 타입"
      ],
      "metadata": {
        "id": "gV1P9Be9g8SQ"
      }
    },
    {
      "cell_type": "markdown",
      "source": [
        "### [릿지 회귀 모델 구축 및 평가]\n",
        "\n",
        "평가 지표 RMSLE 방식\n",
        "- RMSLE : 오류 값에 로그를 취해 RMSE를 구하는 방식\n",
        "- ![image.png](data:image/png;base64,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)"
      ],
      "metadata": {
        "id": "EjJrT-rWg-x7"
      }
    },
    {
      "cell_type": "code",
      "source": [
        "def rmsle(y, y_pred):\n",
        "    # underflow, overflow를 막기 위해 log가 아닌 log1p로 rmsle 계산\n",
        "    return np.sqrt(np.mean(np.power(np.log1p(y) - np.log1p(y_pred),2)))\n",
        "\n",
        "def evaluate_org_price(y_test, preds):\n",
        "    # 원본 데이터는 log1p로 변환되었으므로 exmpm1로 원복 필요\n",
        "    preds_exmpm = np.expm1(preds)\n",
        "    y_test_exmpm = np.expm1(y_test)\n",
        "\n",
        "    # rmsle로 RMSLE 값 추출\n",
        "    rmsle_result = rmsle(y_test_exmpm, preds_exmpm)\n",
        "    return rmsle_result"
      ],
      "metadata": {
        "id": "VNlxK-rzhVge"
      },
      "execution_count": 18,
      "outputs": []
    },
    {
      "cell_type": "markdown",
      "source": [
        "학습용 데이터 생성하고 모델을 학습/예측하는 로직을 함수로 만들기"
      ],
      "metadata": {
        "id": "N-81v8sIh_nF"
      }
    },
    {
      "cell_type": "code",
      "source": [
        "import gc\n",
        "from scipy.sparse import hstack\n",
        "\n",
        "def model_train_predict(model, matrix_list):\n",
        "    # scipy.sparse 모듈의 hstack을 이용해 희소 행렬 결합\n",
        "    X = hstack(matrix_list).tocsr()\n",
        "    X_train, X_test, y_train, y_test = train_test_split(X, mercari_df['price'], test_size=0.2, random_state=156)\n",
        "\n",
        "    # 모델 학습 및 예측\n",
        "    model.fit(X_train, y_train)\n",
        "    preds = model.predict(X_test)\n",
        "\n",
        "    del X, X_train, X_test, y_train\n",
        "    gc.collect()\n",
        "\n",
        "    return preds, y_test"
      ],
      "metadata": {
        "id": "9bvDorRMiDzp"
      },
      "execution_count": 19,
      "outputs": []
    },
    {
      "cell_type": "markdown",
      "source": [
        "Ridge를 이용해 Mercari Price의 회귀 예측을 수행하기"
      ],
      "metadata": {
        "id": "76ggRZY5vnXG"
      }
    },
    {
      "cell_type": "code",
      "source": [
        "linear_model = Ridge(solver = \"lsqr\", fit_intercept=False)\n",
        "\n",
        "sparse_matrix_list = (X_name, X_brand, X_item_cond_id,\n",
        "                      X_shipping, X_cat_dae, X_cat_jung, X_cat_so)\n",
        "linear_preds , y_test = model_train_predict(model=linear_model ,matrix_list=sparse_matrix_list)\n",
        "print('Item Description을 제외했을 때 rmsle 값:', evaluate_org_price(y_test , linear_preds))\n",
        "\n",
        "sparse_matrix_list = (X_descp, X_name, X_brand, X_item_cond_id,\n",
        "                      X_shipping, X_cat_dae, X_cat_jung, X_cat_so)\n",
        "linear_preds , y_test = model_train_predict(model=linear_model , matrix_list=sparse_matrix_list)\n",
        "print('Item Description을 포함한 rmsle 값:',  evaluate_org_price(y_test ,linear_preds))\n"
      ],
      "metadata": {
        "colab": {
          "base_uri": "https://localhost:8080/"
        },
        "id": "sWXXEgLtikH1",
        "outputId": "2222fc43-954b-4227-bd6a-9799e38c709b"
      },
      "execution_count": 20,
      "outputs": [
        {
          "output_type": "stream",
          "name": "stdout",
          "text": [
            "Item Description을 제외했을 때 rmsle 값: 0.4983990938999374\n",
            "Item Description을 포함한 rmsle 값: 0.4680432471796771\n"
          ]
        }
      ]
    },
    {
      "cell_type": "markdown",
      "source": [
        "- Item Description 을 포함했을 때 rmsle 값이 많이 감소함"
      ],
      "metadata": {
        "id": "PjYogBH4vyru"
      }
    },
    {
      "cell_type": "markdown",
      "source": [
        "### [LightGBM 회귀 모델 구축과 앙상블을 이용한 최종 예측 평가]\n",
        "\n",
        "LightGBM을 이용해 회귀를 수행\n",
        "\n",
        "-> 릿지 모델 예측값과 LightGBM 모델 에측값을 간단한 앙상블 방식으로 섞어서 최종 회귀 예측값 평가"
      ],
      "metadata": {
        "id": "fQDMychSv33y"
      }
    },
    {
      "cell_type": "code",
      "source": [
        "from lightgbm import LGBMRegressor\n",
        "\n",
        "sparse_matrix_list = (X_descp, X_name, X_brand, X_item_cond_id,\n",
        "                      X_shipping, X_cat_dae, X_cat_jung, X_cat_so)\n",
        "\n",
        "lgbm_model = LGBMRegressor(n_estimators=200, learning_rate=0.5, num_leaves=125, random_state=156)\n",
        "# lgbm_preds , y_test = model_train_predict(model = lgbm_model , matrix_list=sparse_matrix_list)\n",
        "# print('LightGBM rmsle 값:',  evaluate_org_price(y_test , lgbm_preds))"
      ],
      "metadata": {
        "colab": {
          "base_uri": "https://localhost:8080/"
        },
        "id": "V98xYImljGJ4",
        "outputId": "3bdcda9f-1331-46a2-8adf-f3771917c19c"
      },
      "execution_count": null,
      "outputs": [
        {
          "metadata": {
            "tags": null
          },
          "name": "stderr",
          "output_type": "stream",
          "text": [
            "/usr/local/lib/python3.11/dist-packages/sklearn/utils/deprecation.py:151: FutureWarning: 'force_all_finite' was renamed to 'ensure_all_finite' in 1.6 and will be removed in 1.8.\n",
            "  warnings.warn(\n"
          ]
        }
      ]
    },
    {
      "cell_type": "code",
      "source": [
        "# preds = lgbm_preds * 0.45 + linear_preds * 0.55\n",
        "# print('LightGBM과 Ridge를 ensemble한 최종 rmsle 값:',  evaluate_org_price(y_test , preds))"
      ],
      "metadata": {
        "id": "9oDFUcf7jH6T"
      },
      "execution_count": null,
      "outputs": []
    }
  ]
}