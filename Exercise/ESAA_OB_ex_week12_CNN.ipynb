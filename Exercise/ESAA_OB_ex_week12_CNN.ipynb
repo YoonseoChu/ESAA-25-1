{
  "nbformat": 4,
  "nbformat_minor": 0,
  "metadata": {
    "colab": {
      "provenance": []
    },
    "kernelspec": {
      "name": "python3",
      "display_name": "Python 3"
    },
    "language_info": {
      "name": "python"
    }
  },
  "cells": [
    {
      "cell_type": "code",
      "source": [],
      "metadata": {
        "id": "_yQaWWSxrMDm"
      },
      "execution_count": null,
      "outputs": []
    },
    {
      "cell_type": "markdown",
      "source": [
        "## 1. CIFAR-10 데이터셋을 이용한 CNN 모델"
      ],
      "metadata": {
        "id": "5KQ4Ly0Fl5xn"
      }
    },
    {
      "cell_type": "markdown",
      "source": [
        "## Step 1. 필요한 라이브러리 임포트"
      ],
      "metadata": {
        "id": "eR6HscVwmibX"
      }
    },
    {
      "cell_type": "code",
      "source": [
        "# 필요한 라이브러리 불러오기\n",
        "import torch\n",
        "import torch.nn as nn\n",
        "import torch.nn.functional as F\n",
        "import torchvision\n",
        "import torchvision.transforms as transforms\n",
        "from torch.utils.data import DataLoader\n",
        "from torch.autograd import Variable"
      ],
      "metadata": {
        "id": "6mH-Vy4imibb"
      },
      "execution_count": null,
      "outputs": []
    },
    {
      "cell_type": "code",
      "source": [
        "# 디바이스 설정 (GPU 사용 가능하면 GPU, 없으면 CPU)\n",
        "device = torch.device(\"cuda\" if torch.cuda.is_available() else \"cpu\")"
      ],
      "metadata": {
        "id": "mNWYU24Wmibc"
      },
      "execution_count": null,
      "outputs": []
    },
    {
      "cell_type": "markdown",
      "source": [
        "## Step 2. CIFAR-10 데이터셋 다운로드"
      ],
      "metadata": {
        "id": "752mnx4Rmibd"
      }
    },
    {
      "cell_type": "code",
      "source": [
        "transform = transforms.Compose([\n",
        "    transforms.ToTensor(),\n",
        "    transforms.Normalize((0.5, 0.5, 0.5), (0.5, 0.5, 0.5))  # 정규화 추가\n",
        "])\n",
        "\n",
        "# 데이터셋 로드\n",
        "train_dataset = torchvision.datasets.CIFAR10(root='./data', train=True, transform=transform, download=True)\n",
        "test_dataset = torchvision.datasets.CIFAR10(root='./data', train=False, transform=transform, download=True)\n"
      ],
      "metadata": {
        "id": "yVAQm3YDmibd"
      },
      "execution_count": null,
      "outputs": []
    },
    {
      "cell_type": "markdown",
      "source": [
        "##Step 3. DataLoader 설정"
      ],
      "metadata": {
        "id": "J3bAh-Pnmibe"
      }
    },
    {
      "cell_type": "code",
      "source": [
        "# DataLoader를 사용하여 배치 크기 64로 데이터를 로드하세요.\n",
        "train_loader = DataLoader(dataset=train_dataset, batch_size=64, shuffle=True)\n",
        "test_loader = DataLoader(dataset=test_dataset, batch_size=64, shuffle=False)"
      ],
      "metadata": {
        "id": "wWfXeICBmibf"
      },
      "execution_count": null,
      "outputs": []
    },
    {
      "cell_type": "markdown",
      "source": [
        "## Step 4. CNN 모델 정의"
      ],
      "metadata": {
        "id": "W8iMVxm0mibf"
      }
    },
    {
      "cell_type": "code",
      "source": [
        "# CNN 모델 정의\n",
        "\n",
        "class CIFAR10_CNN(nn.Module):\n",
        "    def __init__(self):\n",
        "        super(CIFAR10_CNN, self).__init__()\n",
        "        self.conv1 = nn.Conv2d(in_channels=3, out_channels=32, kernel_size=3, padding=1)  # 입력 채널 3\n",
        "        self.bn1 = nn.BatchNorm2d(32)\n",
        "        self.conv2 = nn.Conv2d(in_channels=32, out_channels=64, kernel_size=3)\n",
        "        self.bn2 = nn.BatchNorm2d(64)\n",
        "        self.conv3 = nn.Conv2d(in_channels=64, out_channels=128, kernel_size=3)\n",
        "        self.bn3 = nn.BatchNorm2d(128)\n",
        "        self.pool = nn.MaxPool2d(kernel_size=2, stride=2)\n",
        "        self.fc1 = nn.Linear(128 * 2* 2, 512)  # CIFAR-10은 32x32 크기\n",
        "        self.fc2 = nn.Linear(512, 256)\n",
        "        self.fc3 = nn.Linear(256, 10)\n",
        "        self.dropout = nn.Dropout(0.25)\n",
        "\n",
        "    def forward(self, x):\n",
        "        x = self.pool(F.relu(self.bn1(self.conv1(x))))\n",
        "        x = self.pool(F.relu(self.bn2(self.conv2(x))))\n",
        "        x = self.pool(F.relu(self.bn3(self.conv3(x))))\n",
        "        x = x.view(x.size(0), -1)\n",
        "        x = F.relu(self.fc1(x))\n",
        "        x = self.dropout(x)\n",
        "        x = F.relu(self.fc2(x))\n",
        "        x = self.fc3(x)\n",
        "        return x"
      ],
      "metadata": {
        "id": "ncMgMGBAmibg"
      },
      "execution_count": null,
      "outputs": []
    },
    {
      "cell_type": "markdown",
      "source": [
        "## Step 5. 모델 학습 설정"
      ],
      "metadata": {
        "id": "-YrsY8phmibh"
      }
    },
    {
      "cell_type": "code",
      "source": [
        "# 모델을 초기화하세요.\n",
        "model = CIFAR10_CNN().to(device)\n",
        "\n",
        "# 손실 함수 및 옵티마이저 설정\n",
        "criterion = nn.CrossEntropyLoss()\n",
        "optimizer = torch.optim.Adam(model.parameters(), lr=0.001)"
      ],
      "metadata": {
        "id": "MSF_avcImibh"
      },
      "execution_count": null,
      "outputs": []
    },
    {
      "cell_type": "markdown",
      "source": [
        "## Step 6. 모델 학습 루프"
      ],
      "metadata": {
        "id": "TRYIKHDHmibi"
      }
    },
    {
      "cell_type": "code",
      "source": [
        "# 모델 학습을 위한 루프를 작성하세요. 에폭 수는 3로 설정합니다.\n",
        "# 런타임 약 6분\n",
        "num_epochs = 3\n",
        "for epoch in range(num_epochs):\n",
        "    for images, labels in train_loader:\n",
        "        images, labels = images.to(device), labels.to(device)\n",
        "\n",
        "        # 모델을 통해 예측값을 계산\n",
        "        outputs = model(images)\n",
        "\n",
        "        # 손실 계산\n",
        "        loss = criterion(outputs, labels)\n",
        "\n",
        "        # 경사 초기화\n",
        "        optimizer.zero_grad()\n",
        "\n",
        "        # 역전파\n",
        "        loss.backward()\n",
        "\n",
        "        # 최적화\n",
        "        optimizer.step()\n",
        "\n",
        "    print(f\"Epoch [{epoch+1}/{num_epochs}], Loss: {loss.item():.4f}\")"
      ],
      "metadata": {
        "id": "DzYLLWfKmibi",
        "colab": {
          "base_uri": "https://localhost:8080/"
        },
        "outputId": "ab5bb74a-3f80-40c1-97e3-91f5e6453993"
      },
      "execution_count": null,
      "outputs": [
        {
          "output_type": "stream",
          "name": "stdout",
          "text": [
            "Epoch [1/3], Loss: 1.5892\n",
            "Epoch [2/3], Loss: 0.6251\n",
            "Epoch [3/3], Loss: 0.9237\n"
          ]
        }
      ]
    },
    {
      "cell_type": "markdown",
      "source": [
        "## Step 7. 테스트 정확도 평가"
      ],
      "metadata": {
        "id": "J0r0WxOwmibj"
      }
    },
    {
      "cell_type": "code",
      "source": [
        "# 모델의 성능 평가\n",
        "\n",
        "correct = 0\n",
        "total = 0\n",
        "with torch.no_grad():\n",
        "    for images, labels in test_loader:\n",
        "        images, labels = images.to(device), labels.to(device)\n",
        "        outputs = model(images)\n",
        "        _, predicted = torch.max(outputs.data, 1)\n",
        "        total += labels.size(0)\n",
        "        correct += (predicted == labels).sum().item()\n",
        "\n",
        "print(f\"Test Accuracy: {100 * correct / total:.2f}%\")"
      ],
      "metadata": {
        "id": "cmhKrVFsmibk",
        "colab": {
          "base_uri": "https://localhost:8080/"
        },
        "outputId": "31b4a980-dceb-4b54-a242-77b30cabf21e"
      },
      "execution_count": null,
      "outputs": [
        {
          "output_type": "stream",
          "name": "stdout",
          "text": [
            "Test Accuracy: 71.56%\n"
          ]
        }
      ]
    },
    {
      "cell_type": "markdown",
      "source": [
        "# 2. MNIST 데이터셋 분류 모델\n",
        "\n",
        "\n"
      ],
      "metadata": {
        "id": "vi2mlIYBxwPZ"
      }
    },
    {
      "cell_type": "markdown",
      "source": [
        "## Step 1. 필요한 라이브러리 임포트"
      ],
      "metadata": {
        "id": "4eEeFeqRxpZe"
      }
    },
    {
      "cell_type": "code",
      "source": [
        "# 필요한 라이브러리 불러오기\n",
        "import torch\n",
        "import torch.nn as nn\n",
        "import torch.nn.functional as F\n",
        "import torchvision\n",
        "import torchvision.transforms as transforms\n",
        "from torch.utils.data import DataLoader\n",
        "from torch.autograd import Variable"
      ],
      "metadata": {
        "id": "d_mjMExqx575"
      },
      "execution_count": null,
      "outputs": []
    },
    {
      "cell_type": "code",
      "source": [
        "# 디바이스 설정 (GPU 사용 가능하면 GPU, 없으면 CPU)\n",
        "device = torch.device(\"cuba\" if torch.cuda.is_available() else \"cpu\")"
      ],
      "metadata": {
        "id": "6gHgBz3ngYwg"
      },
      "execution_count": null,
      "outputs": []
    },
    {
      "cell_type": "markdown",
      "source": [
        "## Step 2. MNIST 데이터셋 다운로드"
      ],
      "metadata": {
        "id": "8fbK_yAYx_Kp"
      }
    },
    {
      "cell_type": "code",
      "source": [
        "# MNIST 데이터셋을 다운로드하고, 텐서로 변환할 수 있도록 필요한 전처리 함수를 추가하세요.\n",
        "transform = transforms.Compose([transforms.ToTensor()])\n",
        "\n",
        "train_dataset = torchvision.datasets.MNIST(root='./data', train=True, transform=transform, download=True)\n",
        "test_dataset = torchvision.datasets.MNIST(root='./data', train=False, transform=transform, download=True)\n"
      ],
      "metadata": {
        "id": "24j1CT8GyCBK",
        "colab": {
          "base_uri": "https://localhost:8080/"
        },
        "outputId": "2acd040c-d3a2-4f44-a202-a8df75f345da"
      },
      "execution_count": null,
      "outputs": [
        {
          "output_type": "stream",
          "name": "stderr",
          "text": [
            "100%|██████████| 9.91M/9.91M [00:00<00:00, 16.0MB/s]\n",
            "100%|██████████| 28.9k/28.9k [00:00<00:00, 476kB/s]\n",
            "100%|██████████| 1.65M/1.65M [00:00<00:00, 4.39MB/s]\n",
            "100%|██████████| 4.54k/4.54k [00:00<00:00, 5.32MB/s]\n"
          ]
        }
      ]
    },
    {
      "cell_type": "markdown",
      "source": [
        "##Step 3. DataLoader 설정"
      ],
      "metadata": {
        "id": "LQM7ovBpyHHh"
      }
    },
    {
      "cell_type": "code",
      "source": [
        "# DataLoader를 사용하여 배치 크기 64로 데이터를 로드하세요.\n",
        "train_loader = DataLoader(dataset=train_dataset, batch_size=64, shuffle=True)\n",
        "test_loader = DataLoader(dataset=test_dataset, batch_size=64, shuffle=False)"
      ],
      "metadata": {
        "id": "JUq8sDovyKCE"
      },
      "execution_count": null,
      "outputs": []
    },
    {
      "cell_type": "markdown",
      "source": [
        "## Step 4. CNN 모델 정의"
      ],
      "metadata": {
        "id": "4RL3vxfCyH5k"
      }
    },
    {
      "cell_type": "code",
      "source": [
        "# CNN 모델 정의\n",
        "\n",
        "class MNIST_CNN(nn.Module):\n",
        "    def __init__(self):\n",
        "        super(MNIST_CNN, self).__init__()\n",
        "        self.conv1 = nn.Conv2d(in_channels=1, out_channels=32, kernel_size=3, padding=1)\n",
        "        self.bn1 = nn.BatchNorm2d(32)\n",
        "        self.conv2 = nn.Conv2d(in_channels=32, out_channels=64, kernel_size=3)\n",
        "        self.bn2 = nn.BatchNorm2d(64)\n",
        "        self.pool = nn.MaxPool2d(kernel_size=2, stride=2)\n",
        "        self.fc1 = nn.Linear(64*6*6, 600)\n",
        "        self.fc2 = nn.Linear(600, 120)\n",
        "        self.fc3 = nn.Linear(120, 10)\n",
        "        self.dropout = nn.Dropout2d(0.25)\n",
        "\n",
        "    def forward(self, x):\n",
        "        x = self.pool(F.relu(self.bn1(self.conv1(x))))\n",
        "        x = self.pool(F.relu(self.bn2(self.conv2(x))))\n",
        "        x = x.view(x.size(0), -1)\n",
        "        x = F.relu(self.fc1(x))\n",
        "        x = self.dropout(x)\n",
        "        x = F.relu(self.fc2(x))\n",
        "        x = self.fc3(x)\n",
        "        return x"
      ],
      "metadata": {
        "id": "zp3QPP1ayO4b"
      },
      "execution_count": null,
      "outputs": []
    },
    {
      "cell_type": "markdown",
      "source": [
        "## Step 5. 모델 학습 설정"
      ],
      "metadata": {
        "id": "ncD61g8LyRvB"
      }
    },
    {
      "cell_type": "code",
      "source": [
        "# 모델을 초기화 및 GPU 이동\n",
        "model = MNIST_CNN().to(device)\n",
        "\n",
        "# 손실 함수로 CrossEntropyLoss를 사용하고 옵티마이저는 Adam을 사용하세요.\n",
        "criterion = nn.CrossEntropyLoss()\n",
        "optimizer = torch.optim.Adam(model.parameters(), lr=0.001)\n"
      ],
      "metadata": {
        "id": "E7DmYJgKyThh"
      },
      "execution_count": null,
      "outputs": []
    },
    {
      "cell_type": "markdown",
      "source": [
        "## Step 6. 모델 학습 루프"
      ],
      "metadata": {
        "id": "eLtbtBNlyVI1"
      }
    },
    {
      "cell_type": "code",
      "source": [
        "# 모델 학습을 위한 루프를 작성하세요. 에폭 수는 3로 설정합니다.\n",
        "# 런타임 약 5분\n",
        "num_epochs = 3\n",
        "for epoch in range(num_epochs):\n",
        "    for images, labels in train_loader:\n",
        "        images, labels = images.to(device), labels.to(device)\n",
        "\n",
        "        # 이미지 차원 변환 (100, 1, 28, 28) 형태 유지\n",
        "        images = Variable(images)\n",
        "\n",
        "        # 모델을 통해 예측값을 계산\n",
        "        outputs = model(images)\n",
        "\n",
        "        # 손실 계산\n",
        "        loss = criterion(outputs, labels)\n",
        "\n",
        "        # 경사 초기화\n",
        "        optimizer.zero_grad()\n",
        "\n",
        "        # 역전파\n",
        "        loss.backward()\n",
        "\n",
        "        # 최적화\n",
        "        optimizer.step()\n",
        "\n",
        "    print(f\"Epoch [{epoch+1}/{num_epochs}], Loss: {loss.item():.4f}\")"
      ],
      "metadata": {
        "id": "z5YMgX7myX3_",
        "colab": {
          "base_uri": "https://localhost:8080/"
        },
        "outputId": "06f769c9-6e91-4871-aa82-bd6723efc3f3"
      },
      "execution_count": null,
      "outputs": [
        {
          "output_type": "stream",
          "name": "stderr",
          "text": [
            "/usr/local/lib/python3.11/dist-packages/torch/nn/functional.py:1538: UserWarning: dropout2d: Received a 2-D input to dropout2d, which is deprecated and will result in an error in a future release. To retain the behavior and silence this warning, please use dropout instead. Note that dropout2d exists to provide channel-wise dropout on inputs with 2 spatial dimensions, a channel dimension, and an optional batch dimension (i.e. 3D or 4D inputs).\n",
            "  warnings.warn(warn_msg)\n"
          ]
        },
        {
          "output_type": "stream",
          "name": "stdout",
          "text": [
            "Epoch [1/3], Loss: 0.0741\n",
            "Epoch [2/3], Loss: 0.2113\n",
            "Epoch [3/3], Loss: 0.0331\n"
          ]
        }
      ]
    },
    {
      "cell_type": "markdown",
      "source": [
        "## Step 7. 테스트 정확도 평가"
      ],
      "metadata": {
        "id": "_5wuHvXFiBMQ"
      }
    },
    {
      "cell_type": "code",
      "source": [
        "# 모델의 성능 평가\n",
        "\n",
        "correct = 0\n",
        "total = 0\n",
        "with torch.no_grad():\n",
        "    for images, labels in test_loader:\n",
        "        images, labels = images.to(device), labels.to(device)\n",
        "        outputs = model(images)\n",
        "        _, predicted = torch.max(outputs.data, 1)\n",
        "        total += labels.size(0)\n",
        "        correct += (predicted == labels).sum().item()\n",
        "\n",
        "print(f\"Test Accuracy: {100 * correct / total:.2f}%\")"
      ],
      "metadata": {
        "id": "s09XCrajiBMR",
        "colab": {
          "base_uri": "https://localhost:8080/"
        },
        "outputId": "484b2049-ca9d-410c-9f38-9c381e49490b"
      },
      "execution_count": null,
      "outputs": [
        {
          "output_type": "stream",
          "name": "stdout",
          "text": [
            "Test Accuracy: 99.01%\n"
          ]
        }
      ]
    }
  ]
}