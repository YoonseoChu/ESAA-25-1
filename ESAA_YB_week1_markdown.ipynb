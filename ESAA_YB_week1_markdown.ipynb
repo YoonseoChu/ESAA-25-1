{
  "nbformat": 4,
  "nbformat_minor": 0,
  "metadata": {
    "colab": {
      "provenance": [],
      "toc_visible": true
    },
    "kernelspec": {
      "name": "python3",
      "display_name": "Python 3"
    },
    "language_info": {
      "name": "python"
    }
  },
  "cells": [
    {
      "cell_type": "markdown",
      "source": [
        "\n",
        "\n",
        "파이썬 머신러닝 완벽 가이드\n",
        "\n",
        "1주차\n",
        "\n"
      ],
      "metadata": {
        "id": "M7jeUrBmWf0R"
      }
    },
    {
      "cell_type": "markdown",
      "source": [
        "## [1] 파이썬 기반의 머신러닝과 생태계 이해\n",
        "### 03. 넘파이\n",
        "\n",
        "* 넘파이 : 파이썬에서 선형대수 기반의 프로그램을 쉽게 만들 수 있도록 지원하는 대표적인 패키지\n"
      ],
      "metadata": {
        "id": "xgKDD1soWf0T"
      }
    },
    {
      "cell_type": "markdown",
      "source": [
        "### [넘파이 ndarray 개요]\n"
      ],
      "metadata": {
        "id": "g5_5vT_BWf0T"
      }
    },
    {
      "cell_type": "code",
      "execution_count": null,
      "metadata": {
        "id": "0hlqSq_NWf0U"
      },
      "outputs": [],
      "source": [
        "import numpy as np"
      ]
    },
    {
      "cell_type": "markdown",
      "source": [
        "* 넘파이의 기반 데이터 타입 :  ndarray\n",
        "* 넘파이 array() 함수 : 파이썬의 리스트와 같은 다양한 인자를 입력 받아서 ndarray로 변환하는 기능을 수행"
      ],
      "metadata": {
        "id": "l3XGuPr9Wf0U"
      }
    },
    {
      "cell_type": "code",
      "source": [
        "array1 = np.array([1,2,3])\n",
        "print('array1 type:', type(array1))\n",
        "print('array1 array 형태:', array1.shape)\n",
        "\n",
        "array2 = np.array([[1,2,3],\n",
        "                  [2,3,4]])\n",
        "print('array2 type:', type(array2))\n",
        "print('array2 array 형태:', array2.shape)\n",
        "\n",
        "array3 = np.array([[1,2,3]])\n",
        "print('array3 type:', type(array3))\n",
        "print('array3 array 형태:', array3.shape)"
      ],
      "metadata": {
        "colab": {
          "base_uri": "https://localhost:8080/"
        },
        "outputId": "ea6b256e-361f-48ff-86b1-7b2135b7f825",
        "id": "TVv6w_MeWf0V"
      },
      "execution_count": null,
      "outputs": [
        {
          "output_type": "stream",
          "name": "stdout",
          "text": [
            "array1 type: <class 'numpy.ndarray'>\n",
            "array1 array 형태: (3,)\n",
            "array2 type: <class 'numpy.ndarray'>\n",
            "array2 array 형태: (2, 3)\n",
            "array3 type: <class 'numpy.ndarray'>\n",
            "array3 array 형태: (1, 3)\n"
          ]
        }
      ]
    },
    {
      "cell_type": "markdown",
      "source": [
        "* 차원이 달라서 오류가 발생하는 경우가 빈번하여 차원 확인을 하는 것이 중요"
      ],
      "metadata": {
        "id": "qTHsFg93Wf0W"
      }
    },
    {
      "cell_type": "code",
      "source": [
        "# ndarray.ndim을 통해 각 array의 차원 확인\n",
        "\n",
        "print('array1: {:0}차원, array2: {:1}차원, array3: {:2}차원'. format(array1.ndim, array2.ndim, array3.ndim))"
      ],
      "metadata": {
        "colab": {
          "base_uri": "https://localhost:8080/"
        },
        "outputId": "ac998f66-4308-4037-92b5-1a33175573dc",
        "id": "aLvQirzPWf0W"
      },
      "execution_count": null,
      "outputs": [
        {
          "output_type": "stream",
          "name": "stdout",
          "text": [
            "array1: 1차원, array2: 2차원, array3:  2차원\n"
          ]
        }
      ]
    },
    {
      "cell_type": "markdown",
      "source": [
        "### [ndarrary의 데이터 타입]\n",
        "\n",
        "* ndarray 내의 데이터 타입은 같은 데이터 타입만 가능"
      ],
      "metadata": {
        "id": "ISMfbUNpWf0X"
      }
    },
    {
      "cell_type": "code",
      "source": [
        "# dtype 속성으로 ndarrary 내의 데이터 타입 확인하기\n",
        "\n",
        "list1 = [1,2,3]\n",
        "print(type(list1))\n",
        "array1 = np.array(list1)\n",
        "print(type(array1))\n",
        "print(array1, array1.dtype)"
      ],
      "metadata": {
        "colab": {
          "base_uri": "https://localhost:8080/"
        },
        "outputId": "bc8e422c-84bf-4379-b591-d8e61acf5c3a",
        "id": "bPioEMqyWf0X"
      },
      "execution_count": null,
      "outputs": [
        {
          "output_type": "stream",
          "name": "stdout",
          "text": [
            "<class 'list'>\n",
            "<class 'numpy.ndarray'>\n",
            "[1 2 3] int64\n"
          ]
        }
      ]
    },
    {
      "cell_type": "markdown",
      "source": [
        "* 다른 데이터 유형이 섞인 리스트를 ndarray로 변경하면 데이터 크기가 더 큰 데이터 타입으로 형 변환을 일괄 적용"
      ],
      "metadata": {
        "id": "5v8MFkagWf0Y"
      }
    },
    {
      "cell_type": "code",
      "source": [
        "# int형과 string 형이 섞여 있는 리스트\n",
        "list2 = [1,2,'test']\n",
        "array2 = np.array(list2)\n",
        "print(array2, array2.dtype) # 숫자형 값(int)가 문자열로 변환\n",
        "\n",
        "# int형과 float 형이 섞여 있는 리스트\n",
        "list3 = [1,2,3.0]\n",
        "array3 = np.array(list3)\n",
        "print(array3, array3.dtype) # int가 float으로 변환"
      ],
      "metadata": {
        "colab": {
          "base_uri": "https://localhost:8080/"
        },
        "outputId": "8cbc60e7-67fd-4f35-c131-4e8c370b7226",
        "id": "d6OP8U28Wf0Z"
      },
      "execution_count": null,
      "outputs": [
        {
          "output_type": "stream",
          "name": "stdout",
          "text": [
            "['1' '2' 'test'] <U21\n",
            "[1. 2. 3.] float64\n"
          ]
        }
      ]
    },
    {
      "cell_type": "markdown",
      "source": [
        "* astype() 를 이용하여 ndarray 내 데이터값의 타입 변경\n",
        "(메모리 절약을 위해 이용)"
      ],
      "metadata": {
        "id": "oqQ6p2wMWf0Z"
      }
    },
    {
      "cell_type": "code",
      "source": [
        "# int32형 데이터를 float64로 변환\n",
        "array_int = np.array([1,2,3])\n",
        "array_float = array_int.astype('float64')\n",
        "print(array_float, array_float.dtype)\n",
        "\n",
        "# float64를 int32로 변경\n",
        "array_int1 = array_float.astype('int32')\n",
        "print(array_int1, array_int1.dtype)\n",
        "\n",
        "# float을 int형으로 변경할 때 소수점 이하는 당연히 모두 없어짐\n",
        "array_float1 = np.array([1.1, 2.1, 3.1])\n",
        "array_int2 = array_float1.astype('int32')\n",
        "print(array_int2, array_int2.dtype)"
      ],
      "metadata": {
        "colab": {
          "base_uri": "https://localhost:8080/"
        },
        "outputId": "ea609d69-69fb-4fe3-9971-de4e13f6c5aa",
        "id": "Yr-v75P4Wf0c"
      },
      "execution_count": null,
      "outputs": [
        {
          "output_type": "stream",
          "name": "stdout",
          "text": [
            "[1. 2. 3.] float64\n",
            "[1 2 3] int32\n",
            "[1 2 3] int32\n"
          ]
        }
      ]
    },
    {
      "cell_type": "markdown",
      "source": [
        "### [ndarray를 편리하게 생성하기 - arange, zeros, ones]"
      ],
      "metadata": {
        "id": "r803KbPbWf0d"
      }
    },
    {
      "cell_type": "markdown",
      "source": [
        "* 특정 크기와 차원을 가진 ndarray를 연속값이나 0 또는 1로 초기화해 쉽게 생성해야 할 필요가 있는 경우에 사용"
      ],
      "metadata": {
        "id": "5Y7ajJEqnw-O"
      }
    },
    {
      "cell_type": "code",
      "source": [
        "# 0부터 함수 인자 값 -1까지의 값을 순차적으로 ndarray의 데이터값으로 변환\n",
        "\n",
        "# arange()\n",
        "sequence_array = np.arange(10)\n",
        "print(sequence_array)\n",
        "print(sequence_array.dtype, sequence_array.shape)"
      ],
      "metadata": {
        "colab": {
          "base_uri": "https://localhost:8080/"
        },
        "outputId": "e1fa916e-2c62-49ff-cdd3-a39e89db2c27",
        "id": "M1oH6kjHWf0e"
      },
      "execution_count": null,
      "outputs": [
        {
          "output_type": "stream",
          "name": "stdout",
          "text": [
            "[0 1 2 3 4 5 6 7 8 9]\n",
            "int64 (10,)\n"
          ]
        }
      ]
    },
    {
      "cell_type": "code",
      "source": [
        "#zeros()\n",
        "zero_array = np.zeros((3,2), dtype = 'int32')\n",
        "print(zero_array)\n",
        "print(zero_array.dtype, zero_array.shape)\n",
        "\n",
        "#ones()\n",
        "one_array = np.ones((3,2))\n",
        "print(one_array)\n",
        "print(one_array.dtype, one_array.shape)"
      ],
      "metadata": {
        "colab": {
          "base_uri": "https://localhost:8080/"
        },
        "outputId": "098a1a1c-2652-4fb2-ef98-f540c07f3618",
        "id": "RI7wdcO5Wf0f"
      },
      "execution_count": null,
      "outputs": [
        {
          "output_type": "stream",
          "name": "stdout",
          "text": [
            "[[0 0]\n",
            " [0 0]\n",
            " [0 0]]\n",
            "int32 (3, 2)\n",
            "[[1. 1.]\n",
            " [1. 1.]\n",
            " [1. 1.]]\n",
            "float64 (3, 2)\n"
          ]
        }
      ]
    },
    {
      "cell_type": "markdown",
      "source": [
        "### [ndarray의 차원과 크기를 변경하는 reshape()]\n",
        "\n"
      ],
      "metadata": {
        "id": "TH2UEBkQWf0f"
      }
    },
    {
      "cell_type": "markdown",
      "source": [
        "* reshape() : ndarray를 특정 차원 및 크기로 변환"
      ],
      "metadata": {
        "id": "BZNizsmcp8cP"
      }
    },
    {
      "cell_type": "code",
      "source": [
        "array1 = np.arange(10)\n",
        "print('array1:\\n', array1)\n",
        "\n",
        "array2 = array1.reshape(2,5)\n",
        "print('array2:\\n', array2)\n",
        "\n",
        "array3 = array1.reshape(5,2)\n",
        "print('array3:\\n', array3)"
      ],
      "metadata": {
        "colab": {
          "base_uri": "https://localhost:8080/"
        },
        "outputId": "77c29b54-6aa4-4876-a6a4-90cc1113b1ba",
        "id": "gbcx5dzcWf0g"
      },
      "execution_count": null,
      "outputs": [
        {
          "output_type": "stream",
          "name": "stdout",
          "text": [
            "array1:\n",
            " [0 1 2 3 4 5 6 7 8 9]\n",
            "array2:\n",
            " [[0 1 2 3 4]\n",
            " [5 6 7 8 9]]\n",
            "array3:\n",
            " [[0 1]\n",
            " [2 3]\n",
            " [4 5]\n",
            " [6 7]\n",
            " [8 9]]\n"
          ]
        }
      ]
    },
    {
      "cell_type": "markdown",
      "source": [
        "* 지정된 사이즈로 변경이 불가하면 오류가 발생"
      ],
      "metadata": {
        "id": "Y1Oi-az_rdN4"
      }
    },
    {
      "cell_type": "code",
      "source": [
        "array1.reshape(4,3)"
      ],
      "metadata": {
        "colab": {
          "base_uri": "https://localhost:8080/",
          "height": 149
        },
        "id": "XflphadaqKPq",
        "outputId": "51e8a2f6-f4bd-4760-859f-e7338663e847"
      },
      "execution_count": null,
      "outputs": [
        {
          "output_type": "error",
          "ename": "ValueError",
          "evalue": "cannot reshape array of size 10 into shape (4,3)",
          "traceback": [
            "\u001b[0;31m---------------------------------------------------------------------------\u001b[0m",
            "\u001b[0;31mValueError\u001b[0m                                Traceback (most recent call last)",
            "\u001b[0;32m<ipython-input-19-a40469ec5825>\u001b[0m in \u001b[0;36m<cell line: 1>\u001b[0;34m()\u001b[0m\n\u001b[0;32m----> 1\u001b[0;31m \u001b[0marray1\u001b[0m\u001b[0;34m.\u001b[0m\u001b[0mreshape\u001b[0m\u001b[0;34m(\u001b[0m\u001b[0;36m4\u001b[0m\u001b[0;34m,\u001b[0m\u001b[0;36m3\u001b[0m\u001b[0;34m)\u001b[0m\u001b[0;34m\u001b[0m\u001b[0;34m\u001b[0m\u001b[0m\n\u001b[0m",
            "\u001b[0;31mValueError\u001b[0m: cannot reshape array of size 10 into shape (4,3)"
          ]
        }
      ]
    },
    {
      "cell_type": "markdown",
      "source": [
        "* reshape()를 실전에서 더욱 효율적으로 사용하는 경우 : 인자로 -1을 적용하는 경우\n",
        "* 인자로 -1을 사용 : 원래 ndarray와 호환되는 새로운 shape로 변환"
      ],
      "metadata": {
        "id": "OmtTDu7_riah"
      }
    },
    {
      "cell_type": "code",
      "source": [
        "# 인자로 -1 적용\n",
        "\n",
        "array1 = np.arange(10)\n",
        "print(array1)\n",
        "\n",
        "array2 = array1.reshape(-1,5) # 칼럼은 5로 고정, 로우를 자동으로 생성해 변환하라\n",
        "print('array2 shape:', array2.shape) # 2x5\n",
        "\n",
        "array3 = array1.reshape(5,-1) # 로우는 5로 고정, 칼럼을 자동으로 생성해 변환하라\n",
        "print('array3 shape:', array3.shape) # 5x2"
      ],
      "metadata": {
        "colab": {
          "base_uri": "https://localhost:8080/"
        },
        "outputId": "c2701daa-69c7-451f-9a24-833f1df13823",
        "id": "hDtjtu_3Wf0h"
      },
      "execution_count": null,
      "outputs": [
        {
          "output_type": "stream",
          "name": "stdout",
          "text": [
            "[0 1 2 3 4 5 6 7 8 9]\n",
            "array2 shape: (2, 5)\n",
            "array3 shape: (5, 2)\n"
          ]
        }
      ]
    },
    {
      "cell_type": "code",
      "source": [
        "# 변경할 수 없으면 에러 발생\n",
        "\n",
        "array1 = np.arange(10)\n",
        "array4 = array1.reshape(-1,4)"
      ],
      "metadata": {
        "colab": {
          "base_uri": "https://localhost:8080/",
          "height": 187
        },
        "outputId": "37aff670-ea99-42e8-b84c-9937a007de7b",
        "id": "flJPQ8iJWf0i"
      },
      "execution_count": null,
      "outputs": [
        {
          "output_type": "error",
          "ename": "ValueError",
          "evalue": "cannot reshape array of size 10 into shape (4)",
          "traceback": [
            "\u001b[0;31m---------------------------------------------------------------------------\u001b[0m",
            "\u001b[0;31mValueError\u001b[0m                                Traceback (most recent call last)",
            "\u001b[0;32m<ipython-input-21-5dff8e75e154>\u001b[0m in \u001b[0;36m<cell line: 4>\u001b[0;34m()\u001b[0m\n\u001b[1;32m      2\u001b[0m \u001b[0;34m\u001b[0m\u001b[0m\n\u001b[1;32m      3\u001b[0m \u001b[0marray1\u001b[0m \u001b[0;34m=\u001b[0m \u001b[0mnp\u001b[0m\u001b[0;34m.\u001b[0m\u001b[0marange\u001b[0m\u001b[0;34m(\u001b[0m\u001b[0;36m10\u001b[0m\u001b[0;34m)\u001b[0m\u001b[0;34m\u001b[0m\u001b[0;34m\u001b[0m\u001b[0m\n\u001b[0;32m----> 4\u001b[0;31m \u001b[0marray4\u001b[0m \u001b[0;34m=\u001b[0m \u001b[0marray1\u001b[0m\u001b[0;34m.\u001b[0m\u001b[0mreshape\u001b[0m\u001b[0;34m(\u001b[0m\u001b[0;34m-\u001b[0m\u001b[0;36m1\u001b[0m\u001b[0;34m,\u001b[0m\u001b[0;36m4\u001b[0m\u001b[0;34m)\u001b[0m\u001b[0;34m\u001b[0m\u001b[0;34m\u001b[0m\u001b[0m\n\u001b[0m",
            "\u001b[0;31mValueError\u001b[0m: cannot reshape array of size 10 into shape (4)"
          ]
        }
      ]
    },
    {
      "cell_type": "markdown",
      "source": [
        "* reshape (-1,1)\n",
        "* 원본 ndarray가 어떤 형태라도 2차원이고 1개의 칼럼을 가지게 변환"
      ],
      "metadata": {
        "id": "o0VllCGdsevs"
      }
    },
    {
      "cell_type": "code",
      "source": [
        "array1 = np.arange(8)\n",
        "array3d = array1.reshape((2,2,2))\n",
        "print('array3d:\\n', array3d.tolist())\n",
        "\n",
        "# 3차원 ndarray를 2차원 ndarray로 변환\n",
        "array5 = array3d.reshape(-1,1)\n",
        "print('array5:\\n',array5.tolist())\n",
        "print('array5 shape:', array5.shape)\n",
        "\n",
        "# 1차원 ndarray를 2차원 ndarray로 변환\n",
        "array6 = array1.reshape(-1,1)\n",
        "print('array6:\\n',array6.tolist())\n",
        "print('array6 shape:', array6.shape)"
      ],
      "metadata": {
        "colab": {
          "base_uri": "https://localhost:8080/"
        },
        "outputId": "8eca045b-3811-4b7a-a3ed-c04f9197b04b",
        "id": "B3C5y3NuWf0j"
      },
      "execution_count": null,
      "outputs": [
        {
          "output_type": "stream",
          "name": "stdout",
          "text": [
            "array3d:\n",
            " [[[0, 1], [2, 3]], [[4, 5], [6, 7]]]\n",
            "array5:\n",
            " [[0], [1], [2], [3], [4], [5], [6], [7]]\n",
            "array5 shape: (8, 1)\n",
            "array6:\n",
            " [[0], [1], [2], [3], [4], [5], [6], [7]]\n",
            "array6 shape: (8, 1)\n"
          ]
        }
      ]
    },
    {
      "cell_type": "markdown",
      "source": [
        "### [넘파이의 ndarray의 데이터 세트 선택하기 - 인덱싱(indexing)]"
      ],
      "metadata": {
        "id": "b-oxHcAiWf0j"
      }
    },
    {
      "cell_type": "markdown",
      "source": [
        "1. 특정한 데이터만 추출\n",
        "2. 슬라이싱 (Slicing)\n",
        "3. 팬시 인덱싱 (Fancy Indexing)\n",
        "4. 불린 인덱싱 (Boolean Indexing)"
      ],
      "metadata": {
        "id": "SvAyXevktM78"
      }
    },
    {
      "cell_type": "markdown",
      "source": [
        "#### 1) 단일 값 추출\n",
        "* 한 개의 데이터만 추출"
      ],
      "metadata": {
        "id": "dFQmrBX9Wf0k"
      }
    },
    {
      "cell_type": "code",
      "source": [
        "# 1부터 9 까지의 1차원 ndarray 생성\n",
        "array1 = np.arange(start=1, stop=10)\n",
        "print('array1 :', array1)\n",
        "\n",
        "# index는 0부터 시작하므로 array1[2]는 3번째 index 위치의 데이터값을 의미\n",
        "value = array1[2]\n",
        "print('value:', value)\n",
        "print(type(value))"
      ],
      "metadata": {
        "id": "tIgVovjhWf0l",
        "colab": {
          "base_uri": "https://localhost:8080/"
        },
        "outputId": "39deb52e-8e75-48b2-f757-61caf734dfed"
      },
      "execution_count": null,
      "outputs": [
        {
          "output_type": "stream",
          "name": "stdout",
          "text": [
            "array1 : [1 2 3 4 5 6 7 8 9]\n",
            "value: 3\n",
            "<class 'numpy.int64'>\n"
          ]
        }
      ]
    },
    {
      "cell_type": "markdown",
      "source": [
        "* 인덱스에 마이너스 기호를 이용하면 맨 뒤에서부터 데이터를 추출"
      ],
      "metadata": {
        "id": "CokmSv16uVe1"
      }
    },
    {
      "cell_type": "code",
      "source": [
        "# 인덱스 -1은 맨 뒤의 데이터값\n",
        "\n",
        "print('맨 뒤의 값:', array1[-1], '맨 뒤에서 두 번째 값:', array1[-2])"
      ],
      "metadata": {
        "colab": {
          "base_uri": "https://localhost:8080/"
        },
        "id": "X2g5lmQwuU4m",
        "outputId": "fed7c515-8d9c-4d6e-fb5a-a8b3e5f66511"
      },
      "execution_count": null,
      "outputs": [
        {
          "output_type": "stream",
          "name": "stdout",
          "text": [
            "맨 뒤의 값: 9 맨 뒤에서 두 번째 값: 8\n"
          ]
        }
      ]
    },
    {
      "cell_type": "markdown",
      "source": [
        "* 단일 인덱스를 이용해 ndarray 내의 데이터값을 간단히 수정"
      ],
      "metadata": {
        "id": "y1c8F148utj-"
      }
    },
    {
      "cell_type": "code",
      "source": [
        "array1[0] = 9\n",
        "array1[8] = 0\n",
        "print('array1:', array1)"
      ],
      "metadata": {
        "colab": {
          "base_uri": "https://localhost:8080/"
        },
        "id": "x3M-EWQAuxiy",
        "outputId": "28342c4c-d382-40a8-9333-3c54b10bb8c8"
      },
      "execution_count": null,
      "outputs": [
        {
          "output_type": "stream",
          "name": "stdout",
          "text": [
            "array1: [9 2 3 4 5 6 7 8 0]\n"
          ]
        }
      ]
    },
    {
      "cell_type": "markdown",
      "source": [
        "* 다차원 ndarray에서 단일 값을 추출"
      ],
      "metadata": {
        "id": "LeS20Xbsu88t"
      }
    },
    {
      "cell_type": "code",
      "source": [
        "array1d = np.arange(start=1, stop=10)\n",
        "array2d = array1d.reshape(3,3)\n",
        "print(array2d)\n",
        "\n",
        "print('(row=0, col=0) index 가리키는 값;', array2d[0,0])\n",
        "print('(row=0, col=1) index 가리키는 값;', array2d[0,1])\n",
        "print('(row=1, col=0) index 가리키는 값;', array2d[1,0])\n",
        "print('(row=2, col=2) index 가리키는 값;', array2d[2,2])"
      ],
      "metadata": {
        "colab": {
          "base_uri": "https://localhost:8080/"
        },
        "id": "ggD2BCC5vDKq",
        "outputId": "a7dac5e8-feb1-418c-b6ae-8c2e51b32c28"
      },
      "execution_count": null,
      "outputs": [
        {
          "output_type": "stream",
          "name": "stdout",
          "text": [
            "[[1 2 3]\n",
            " [4 5 6]\n",
            " [7 8 9]]\n",
            "(row=0, col=0) index 가리키는 값; 1\n",
            "(row=0, col=1) index 가리키는 값; 2\n",
            "(row=1, col=0) index 가리키는 값; 4\n",
            "(row=2, col=2) index 가리키는 값; 9\n"
          ]
        }
      ]
    },
    {
      "cell_type": "markdown",
      "source": [
        "* axis 1 : 칼럼 방향의 축\n",
        "[row=0, col=1] == [axis0=0, axis1=1]"
      ],
      "metadata": {
        "id": "4LfJFMWKvqHB"
      }
    },
    {
      "cell_type": "markdown",
      "source": [
        "#### 2) 슬라이싱\n",
        "* ':' 기호를 이용해 연속한 데이터를 슬라이실해서 추출"
      ],
      "metadata": {
        "id": "Riris8okv6bG"
      }
    },
    {
      "cell_type": "code",
      "source": [
        "array1 = np.arange(start=1, stop=10)\n",
        "array3 = array1[0:3]\n",
        "print(array3)\n",
        "print(type(array3))"
      ],
      "metadata": {
        "colab": {
          "base_uri": "https://localhost:8080/"
        },
        "id": "5iv9F6qUwQ_m",
        "outputId": "b5afb4a1-a8d9-49be-b809-45edeb98c89b"
      },
      "execution_count": null,
      "outputs": [
        {
          "output_type": "stream",
          "name": "stdout",
          "text": [
            "[1 2 3]\n",
            "<class 'numpy.ndarray'>\n"
          ]
        }
      ]
    },
    {
      "cell_type": "markdown",
      "source": [
        "* (1) ':' 기호 앞에 시작 인덱스를 생략 : 맨 처음 인덱스인 0으로 간주\n",
        "* (2) ':' 기호 뒤에 종료 인덱스를 생략 : 맨 마지막 인덱스로 간주\n",
        "* (3) ':' 기호 앞/뒤에 시작/종료 인덱스를 생략 : 맨 처음/맨 마지막 인덱스로 간주"
      ],
      "metadata": {
        "id": "fghnoMKcwewa"
      }
    },
    {
      "cell_type": "code",
      "source": [
        "array1 = np.arange(start=1, stop = 10)\n",
        "array4 = array1[:3]\n",
        "print(array4)\n",
        "\n",
        "array5 = array1[3:]\n",
        "print(array5)\n",
        "\n",
        "array6 = array1[:]\n",
        "print(array6)"
      ],
      "metadata": {
        "colab": {
          "base_uri": "https://localhost:8080/"
        },
        "id": "fnZeMNFrwwBe",
        "outputId": "3aebff39-963e-449d-fc75-ba6787b9fb3e"
      },
      "execution_count": null,
      "outputs": [
        {
          "output_type": "stream",
          "name": "stdout",
          "text": [
            "[1 2 3]\n",
            "[4 5 6 7 8 9]\n",
            "[1 2 3 4 5 6 7 8 9]\n"
          ]
        }
      ]
    },
    {
      "cell_type": "markdown",
      "source": [
        "* 2차원 ndarray에서 슬라이싱"
      ],
      "metadata": {
        "id": "TD0dDz53xZI0"
      }
    },
    {
      "cell_type": "code",
      "source": [
        "array1d = np.arange(start=1, stop=10)\n",
        "array2d = array1d.reshape(3,3)\n",
        "print('array2d:\\n', array2d)\n",
        "\n",
        "print('array2d[0:2, 0:2]\\n', array2d[0:2,0:2])\n",
        "print('array2d[1:3, 0:3]\\n', array2d[1:3,0:3])\n",
        "print('array2d[1:3, :]\\n', array2d[1:3,:])\n",
        "print('array2d[:, :]\\n', array2d[:,:])\n",
        "print('array2d[:2, 1:]\\n', array2d[:2,1:])\n",
        "print('array2d[:2, 0]\\n', array2d[:2,0])"
      ],
      "metadata": {
        "colab": {
          "base_uri": "https://localhost:8080/"
        },
        "id": "CFfmlMM3xfqx",
        "outputId": "083493df-517b-4b14-e8f5-1ee214359148"
      },
      "execution_count": null,
      "outputs": [
        {
          "output_type": "stream",
          "name": "stdout",
          "text": [
            "array2d:\n",
            " [[1 2 3]\n",
            " [4 5 6]\n",
            " [7 8 9]]\n",
            "array2d[0:2, 0:2]\n",
            " [[1 2]\n",
            " [4 5]]\n",
            "array2d[1:3, 0:3]\n",
            " [[4 5 6]\n",
            " [7 8 9]]\n",
            "array2d[1:3, :]\n",
            " [[4 5 6]\n",
            " [7 8 9]]\n",
            "array2d[:, :]\n",
            " [[1 2 3]\n",
            " [4 5 6]\n",
            " [7 8 9]]\n",
            "array2d[:2, 1:]\n",
            " [[2 3]\n",
            " [5 6]]\n",
            "array2d[:2, 0]\n",
            " [1 4]\n"
          ]
        }
      ]
    },
    {
      "cell_type": "markdown",
      "source": [
        "* 2차원 ndarray에서 뒤에 오는 인덱스를 없애면 1차원 ndarray를 반환"
      ],
      "metadata": {
        "id": "Xx4ZrTVtyUx3"
      }
    },
    {
      "cell_type": "code",
      "source": [
        "print(array2d[0])\n",
        "print(array2d[1])\n",
        "print('array2d[0]:', array2d[0].shape, 'array2d[1] shape:', array2d[1].shape)"
      ],
      "metadata": {
        "colab": {
          "base_uri": "https://localhost:8080/"
        },
        "id": "8OoReFlJybeu",
        "outputId": "64cc043c-6705-4b90-82f5-db084ac27581"
      },
      "execution_count": null,
      "outputs": [
        {
          "output_type": "stream",
          "name": "stdout",
          "text": [
            "[1 2 3]\n",
            "[4 5 6]\n",
            "array2d[0]: (3,) array2d[1] shape: (3,)\n"
          ]
        }
      ]
    },
    {
      "cell_type": "markdown",
      "source": [
        "#### 3) 팬시 인덱싱\n",
        "* 리스트나 ndarray로 인덱스 집합을 지정하면 해당 위치의 인덱스에 해당하는 ndarray를 반환하는 인덱싱 방식"
      ],
      "metadata": {
        "id": "gRqdKwa5yq3I"
      }
    },
    {
      "cell_type": "code",
      "source": [
        "array1d = np.arange(start=1, stop=10)\n",
        "array2d = array1d.reshape(3,3)\n",
        "\n",
        "array3 = array2d[[0,1],2]\n",
        "print('array2d[[0,1],2] =>', array3.tolist())\n",
        "\n",
        "array4 = array2d[[0,1],0:2]\n",
        "print('array2d[[0,1],0:2] =>', array4.tolist())\n",
        "\n",
        "array5 = array2d[[0,1]]\n",
        "print('array2d[[0,1]] =>', array5.tolist())"
      ],
      "metadata": {
        "colab": {
          "base_uri": "https://localhost:8080/"
        },
        "id": "SbM_eKh3zZod",
        "outputId": "2df7f19c-9861-44eb-bfa5-04fe62e65ebd"
      },
      "execution_count": null,
      "outputs": [
        {
          "output_type": "stream",
          "name": "stdout",
          "text": [
            "array2d[[0,1],2] => [3, 6]\n",
            "array2d[[0,1],0:2] => [[1, 2], [4, 5]]\n",
            "array2d[[0,1]] => [[1, 2, 3], [4, 5, 6]]\n"
          ]
        }
      ]
    },
    {
      "cell_type": "markdown",
      "source": [
        "#### 4) 불린 인덱싱\n",
        "* 조건 필터링과 검색을 동시에 할 수 있어 자주 사용되는 인덱싱 방식\n",
        "* loop/if else 문보다 훨씬 간단하게 구현 가능"
      ],
      "metadata": {
        "id": "XNBrgIfy0GIe"
      }
    },
    {
      "cell_type": "code",
      "source": [
        "array1d = np.arange(start=1, stop=10)\n",
        "# [] 안에 array1d > 5 Boolean indexing 을 적용\n",
        "array3= array1d[array1d>5]\n",
        "print('array1d > 5 불린 인덱싱 결과 값 :', array3)"
      ],
      "metadata": {
        "colab": {
          "base_uri": "https://localhost:8080/"
        },
        "id": "nBrAkQ6CztY4",
        "outputId": "39f1a469-17ca-4b55-c3eb-48b83a68663d"
      },
      "execution_count": null,
      "outputs": [
        {
          "output_type": "stream",
          "name": "stdout",
          "text": [
            "array1d > 5 불린 인덱싱 결과 값 : [6 7 8 9]\n"
          ]
        }
      ]
    },
    {
      "cell_type": "markdown",
      "source": [
        "* 조건 필터링이 이처럼 간단한 이유"
      ],
      "metadata": {
        "id": "BmcUUJZh0uK5"
      }
    },
    {
      "cell_type": "code",
      "source": [
        "# 넘파이 ndarray 객체에 조건식을 할당하면\n",
        "\n",
        "array1d > 5"
      ],
      "metadata": {
        "colab": {
          "base_uri": "https://localhost:8080/"
        },
        "id": "2ucvWai60xVA",
        "outputId": "3c654659-e86e-4042-8698-3251e9535047"
      },
      "execution_count": null,
      "outputs": [
        {
          "output_type": "execute_result",
          "data": {
            "text/plain": [
              "array([False, False, False, False, False,  True,  True,  True,  True])"
            ]
          },
          "metadata": {},
          "execution_count": 43
        }
      ]
    },
    {
      "cell_type": "code",
      "source": [
        "# False 가 있는 인덱스는 무시함\n",
        "\n",
        "boolean_indexes = np.array([False, False, False, False, False,  True,  True,  True,  True])\n",
        "array3 = array1d[boolean_indexes]\n",
        "print('불린 인덱스로 필터링 결과 :', array3)"
      ],
      "metadata": {
        "colab": {
          "base_uri": "https://localhost:8080/"
        },
        "id": "xHs00oHP08Eq",
        "outputId": "12052ae7-3cc5-48c5-eaf0-00dbdb6b5227"
      },
      "execution_count": null,
      "outputs": [
        {
          "output_type": "stream",
          "name": "stdout",
          "text": [
            "불린 인덱스로 필터링 결과 : [6 7 8 9]\n"
          ]
        }
      ]
    },
    {
      "cell_type": "code",
      "source": [
        "# 직접 인덱스 집합을 만들어 대입한 것과 동일\n",
        "\n",
        "indexes = np.array([5,6,7,8])\n",
        "array4 = array1d[indexes]\n",
        "print('일반 인덱스로 필터링 결과 :', array4)"
      ],
      "metadata": {
        "colab": {
          "base_uri": "https://localhost:8080/"
        },
        "id": "4Kjb7QxG1Uww",
        "outputId": "2d7848b7-16a5-437e-fa8d-303be611789f"
      },
      "execution_count": null,
      "outputs": [
        {
          "output_type": "stream",
          "name": "stdout",
          "text": [
            "일반 인덱스로 필터링 결과 : [6 7 8 9]\n"
          ]
        }
      ]
    },
    {
      "cell_type": "markdown",
      "source": [
        "* step1 : array1d > 5 와 같이 ndarray의 필터링 조건을 [] 안에 기재\n",
        "* step2 : False 값은 무시하고 True 값에 해당하는 인덱스값만 저장\n",
        "* step3 : 저장된 인덱스 데이터 세트로 ndarray 조회"
      ],
      "metadata": {
        "id": "9FrQkZmT1mVS"
      }
    },
    {
      "cell_type": "markdown",
      "source": [
        "### [행렬의 정렬 - sort()와 argsort()]\n",
        "\n"
      ],
      "metadata": {
        "id": "n_Q82TQy13fI"
      }
    },
    {
      "cell_type": "markdown",
      "source": [
        "#### 1) 행렬 정렬\n",
        "* np.sort() : 넘파이에서 sort()를 호출하는 방식, 원 행렬을 그대로 유지한 채 원 행렬의 정렬된 행렬을 반환\n",
        "* ndarray.sort() : 행렬 자체에서 sort()를 호출하는 방식, 원 행렬 자체를 정렬한 형태로 변환하며 반환 값은 None"
      ],
      "metadata": {
        "id": "MUoqnGLB4PnL"
      }
    },
    {
      "cell_type": "code",
      "source": [
        "org_array = np.array([3,1,9,5])\n",
        "print('원본 행렬:', org_array)\n",
        "\n",
        "#np.sort()로 정렬\n",
        "sort_array1 = np.sort(org_array)\n",
        "print('np.sort() 호출 후 반환된 정렬 행렬:', sort_array1)\n",
        "print('np.sort() 호출 후 원본 행렬:', org_array)\n",
        "\n",
        "#ndarray.sort()로 정렬\n",
        "sort_array2 = org_array.sort()\n",
        "print('org_array.sort() 호출 후 반환된 행렬 :', sort_array2)\n",
        "print('org_array.sort() 호출 후 원본 행렬 :', org_array)"
      ],
      "metadata": {
        "colab": {
          "base_uri": "https://localhost:8080/"
        },
        "id": "QLGJIXPL2RSl",
        "outputId": "27d8880d-5f1e-42d7-eb55-a2b8ac3ec08e"
      },
      "execution_count": null,
      "outputs": [
        {
          "output_type": "stream",
          "name": "stdout",
          "text": [
            "원본 행렬: [3 1 9 5]\n",
            "np.sort() 호출 후 반환된 정렬 행렬: [1 3 5 9]\n",
            "np.sort() 호출 후 원본 행렬: [3 1 9 5]\n",
            "org_array.sort() 호출 후 반환된 행렬 : None\n",
            "org_array.sort() 호출 후 원본 행렬 : [1 3 5 9]\n"
          ]
        }
      ]
    },
    {
      "cell_type": "markdown",
      "source": [
        "* 내림차순으로 정렬 : [::-1]"
      ],
      "metadata": {
        "id": "1MTk6xwO3e2E"
      }
    },
    {
      "cell_type": "code",
      "source": [
        "sort_array1_desc = np.sort(org_array)[::-1]\n",
        "print('내림차순으로 정렬:', sort_array1_desc)"
      ],
      "metadata": {
        "colab": {
          "base_uri": "https://localhost:8080/"
        },
        "id": "iP2A_fWl3iuE",
        "outputId": "ef96179c-5219-4d41-ab60-9bf50cb0b864"
      },
      "execution_count": null,
      "outputs": [
        {
          "output_type": "stream",
          "name": "stdout",
          "text": [
            "내림차순으로 정렬: [9 5 3 1]\n"
          ]
        }
      ]
    },
    {
      "cell_type": "code",
      "source": [
        "array2d = np.array([[8,12],\n",
        "                    [7,1]])\n",
        "\n",
        "sort_array2d_axis0 = np.sort(array2d, axis=0)\n",
        "print('로우 방향으로 정렬 : \\n', sort_array2d_axis0)\n",
        "\n",
        "sort_array2d_axis1 = np.sort(array2d, axis=1)\n",
        "print('칼럼 방향으로 정렬 : \\n', sort_array2d_axis1)"
      ],
      "metadata": {
        "colab": {
          "base_uri": "https://localhost:8080/"
        },
        "id": "XwF_JTAz3uEv",
        "outputId": "20d8ddf9-bc31-443f-a45c-fd3c5b6319f5"
      },
      "execution_count": null,
      "outputs": [
        {
          "output_type": "stream",
          "name": "stdout",
          "text": [
            "로우 방향으로 정렬 : \n",
            " [[ 7  1]\n",
            " [ 8 12]]\n",
            "칼럼 방향으로 정렬 : \n",
            " [[ 8 12]\n",
            " [ 1  7]]\n"
          ]
        }
      ]
    },
    {
      "cell_type": "markdown",
      "source": [
        "#### 2) 정렬된 행렬의 인덱스를 반환하기\n",
        "\n",
        "* np.argsort() : 원본 행렬이 정렬되었을 때 기존 원본 행렬의 원소에 대한 인덱스를 필요로 할 때, 정렬 행렬의 원본 행렬 인덱스를 ndarray 형으로 반환"
      ],
      "metadata": {
        "id": "duN5v9W34Lpo"
      }
    },
    {
      "cell_type": "code",
      "source": [
        "# np.argsort()를 이용해 원본 행렬의 정렬 시 행렬 인덱스 값 구하기\n",
        "\n",
        "org_array = np.array([3,1,9,5])\n",
        "sort_indices = np.argsort(org_array)\n",
        "print(type(sort_indices))\n",
        "print('행렬 정렬 시 원본 행렬의 인덱스:', sort_indices)"
      ],
      "metadata": {
        "colab": {
          "base_uri": "https://localhost:8080/"
        },
        "id": "RJOqQ1Oq4n7p",
        "outputId": "d83d1a13-f678-4be7-eabe-e33d679ef47e"
      },
      "execution_count": null,
      "outputs": [
        {
          "output_type": "stream",
          "name": "stdout",
          "text": [
            "<class 'numpy.ndarray'>\n",
            "행렬 정렬 시 원본 행렬의 인덱스: [1 0 3 2]\n"
          ]
        }
      ]
    },
    {
      "cell_type": "code",
      "source": [
        "# 내림차순으로 정렬 시에 원본 행렬의 인덱스를 구하기\n",
        "\n",
        "org_array = np.array([3,1,9,5])\n",
        "sort_indices_desc = np.argsort(org_array)[::-1]\n",
        "print('행렬 내림차순 정렬 시 원본 행렬의 인덱스:', sort_indices_desc)"
      ],
      "metadata": {
        "colab": {
          "base_uri": "https://localhost:8080/"
        },
        "id": "JzxBnGcV48B5",
        "outputId": "440090dd-28aa-48b4-dff5-9f34ba7c54c0"
      },
      "execution_count": null,
      "outputs": [
        {
          "output_type": "stream",
          "name": "stdout",
          "text": [
            "행렬 내림차순 정렬 시 원본 행렬의 인덱스: [2 3 0 1]\n"
          ]
        }
      ]
    },
    {
      "cell_type": "markdown",
      "source": [
        "* argsort()의 활용"
      ],
      "metadata": {
        "id": "ySbQGyKx5R4E"
      }
    },
    {
      "cell_type": "code",
      "source": [
        "import numpy as np\n",
        "\n",
        "name_array = np.array(['John', 'Mike', 'Sarah', 'Kate', 'Samuel'])\n",
        "score_array = np.array([78,95,84,98,88])\n",
        "\n",
        "sort_indices_asc = np.argsort(score_array)\n",
        "print('성적 오름차순 정렬 시 score_array의 인덱스 : ', sort_indices_asc)\n",
        "print('성적 오름차순으로 name_array의 이름 출력:', name_array[sort_indices_asc])"
      ],
      "metadata": {
        "colab": {
          "base_uri": "https://localhost:8080/"
        },
        "id": "FCQP-LnX5QuL",
        "outputId": "4702c4ce-6b7c-4bbb-bf99-f8974074fcc2"
      },
      "execution_count": null,
      "outputs": [
        {
          "output_type": "stream",
          "name": "stdout",
          "text": [
            "성적 오름차순 정렬 시 score_array의 인덱스 :  [0 2 4 1 3]\n",
            "성적 오름차순으로 name_array의 이름 출력: ['John' 'Sarah' 'Samuel' 'Mike' 'Kate']\n"
          ]
        }
      ]
    },
    {
      "cell_type": "markdown",
      "source": [
        "### [선형대수 연산 - 행렬 내적과 전치 행렬 구하기]"
      ],
      "metadata": {
        "id": "w_APkStw58Bf"
      }
    },
    {
      "cell_type": "markdown",
      "source": [
        "#### 1) 행렬 내적 (행렬 곱)\n",
        "* np.dot() : 두 행렬의 내적 계산"
      ],
      "metadata": {
        "id": "4CO32ehb5_3t"
      }
    },
    {
      "cell_type": "code",
      "source": [
        "A = np.array([[1,2,3],\n",
        "              [4,5,6]])\n",
        "B = np.array([[7,8],\n",
        "             [9,10],\n",
        "             [11,12]])\n",
        "dot_product = np.dot(A,B)\n",
        "print('행렬 내적 결과:\\n', dot_product)"
      ],
      "metadata": {
        "colab": {
          "base_uri": "https://localhost:8080/"
        },
        "id": "UbznJWw66Iyz",
        "outputId": "382945b1-20bf-4407-dfb6-4fd511d025d6"
      },
      "execution_count": null,
      "outputs": [
        {
          "output_type": "stream",
          "name": "stdout",
          "text": [
            "행렬 내적 결과:\n",
            " [[ 58  64]\n",
            " [139 154]]\n"
          ]
        }
      ]
    },
    {
      "cell_type": "markdown",
      "source": [
        "#### 2) 전치 행렬\n",
        "* 전치 행렬 : 원 행렬에서 행과 열 위치를 교환한 원소로 구성한 행렬\n",
        "* transpose() : 전치 행렬 구하기"
      ],
      "metadata": {
        "id": "WMBC5Grj6fVs"
      }
    },
    {
      "cell_type": "code",
      "source": [
        "A = np.array([[1,2],\n",
        "              [3,4]])\n",
        "transpose_mat = np.transpose(A)\n",
        "print('A의 전치 행렬:\\n', transpose_mat)"
      ],
      "metadata": {
        "colab": {
          "base_uri": "https://localhost:8080/"
        },
        "id": "P1IQvRED6rgT",
        "outputId": "13b3a458-7463-42ba-8853-b262fbefcd47"
      },
      "execution_count": null,
      "outputs": [
        {
          "output_type": "stream",
          "name": "stdout",
          "text": [
            "A의 전치 행렬:\n",
            " [[1 3]\n",
            " [2 4]]\n"
          ]
        }
      ]
    },
    {
      "cell_type": "markdown",
      "source": [],
      "metadata": {
        "id": "uUaLk0ce6rMT"
      }
    }
  ]
}