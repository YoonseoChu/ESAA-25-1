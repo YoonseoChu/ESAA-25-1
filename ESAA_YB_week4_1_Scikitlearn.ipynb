{
  "nbformat": 4,
  "nbformat_minor": 0,
  "metadata": {
    "colab": {
      "provenance": []
    },
    "kernelspec": {
      "name": "python3",
      "display_name": "Python 3"
    },
    "language_info": {
      "name": "python"
    }
  },
  "cells": [
    {
      "cell_type": "markdown",
      "source": [
        "85-115\n",
        "\n",
        "## [2] 사이킷런으로 시작하는 머신러닝\n",
        "### 01. 사이킷런 소개와 특징\n",
        "사이킷런의 특징\n",
        "* 가장 파이썬스러운 API를 제공\n",
        "* 머신러닝을 위한 다양한 알고리즘과 개발을 위한 편리한 프레임워크와 API를 제공\n",
        "* 오랜 기간 실전 환경에서 검증됨, 매우 많은 환경에서 사용되는 성숙한 라이브러리"
      ],
      "metadata": {
        "id": "9Dq4FNPvquWG"
      }
    },
    {
      "cell_type": "code",
      "source": [
        "# 사이킷런 설치\n",
        "!pip install scikit-learn"
      ],
      "metadata": {
        "colab": {
          "base_uri": "https://localhost:8080/"
        },
        "id": "m0wb8q4WsMF-",
        "outputId": "ca084837-d81a-428b-d905-86482404906a"
      },
      "execution_count": 54,
      "outputs": [
        {
          "output_type": "stream",
          "name": "stdout",
          "text": [
            "Requirement already satisfied: scikit-learn in /usr/local/lib/python3.10/dist-packages (1.5.2)\n",
            "Requirement already satisfied: numpy>=1.19.5 in /usr/local/lib/python3.10/dist-packages (from scikit-learn) (1.26.4)\n",
            "Requirement already satisfied: scipy>=1.6.0 in /usr/local/lib/python3.10/dist-packages (from scikit-learn) (1.13.1)\n",
            "Requirement already satisfied: joblib>=1.2.0 in /usr/local/lib/python3.10/dist-packages (from scikit-learn) (1.4.2)\n",
            "Requirement already satisfied: threadpoolctl>=3.1.0 in /usr/local/lib/python3.10/dist-packages (from scikit-learn) (3.5.0)\n"
          ]
        }
      ]
    },
    {
      "cell_type": "code",
      "source": [
        "import sklearn\n",
        "\n",
        "print(sklearn.__version__) # 사이킷런 버전 확인"
      ],
      "metadata": {
        "colab": {
          "base_uri": "https://localhost:8080/"
        },
        "id": "W4owA_r0slnb",
        "outputId": "7cf9e943-7883-45d3-8a32-59268d952b07"
      },
      "execution_count": 55,
      "outputs": [
        {
          "output_type": "stream",
          "name": "stdout",
          "text": [
            "1.5.2\n"
          ]
        }
      ]
    },
    {
      "cell_type": "markdown",
      "source": [
        "### 02. 첫 번째 머신러닝 만들어 보기 - 붓꽃 품종 예측하기\n",
        "* 붓꽃(Iris) 데이터 세트로 붓꽃의 품종을 분류(Classificatioin)하기\n",
        "* 꽃잎의 길이, 너비, 꽃받침의 길이, 너비 피처를 기반으로 꽃의 품종을 예측\n",
        "\n",
        "<분류(Classification)>\n",
        "- 대표적인 지도학습(Surpervised Learning) 방법의 하나\n",
        "- 지도학습 : 명확한 정답이 주어진 데이터를 먼저 학습한 뒤 미지의 정답을 예측하는 방식\n",
        "- 학습 데이터 세트 : 학습을 위해 주어진 데이터 세트\n",
        "- 테스트 데이터 세트 : 머신러닝 모델의 예측 성능을 평가하기 위해 별도로 주어진 데이터 세트"
      ],
      "metadata": {
        "id": "60EhZFSwst_P"
      }
    },
    {
      "cell_type": "markdown",
      "source": [
        "- sklearn.datasets 내의 모듈 : 사이킷런에서 자체적으로 제공하는 데이터 세트를 생성하는 모듈의 모임\n",
        "- sklearn.tree 내의 모듈 : 트리 기반 ML 알고리즘을 구현한 클래스의 모임\n",
        "- sklearn.model_selection : 학습 데이터와 검증 데이터, 예측 데이터로 데이터를 분리하거나 최적의 하이퍼 파라미터로 평가하기 위한 다양한 모듈의 모임\n",
        "- 하이퍼 파라미터 : 머신러닝 알고리즘별로 최적의 학습을 위해 직접 입력하는 파리미터들을 통칭, 하이퍼 파라미터를 통해 머신러닝 알고리즘의 성능을 튜닝"
      ],
      "metadata": {
        "id": "0bLnAD1Etkr-"
      }
    },
    {
      "cell_type": "markdown",
      "source": [
        "- 붓꽃 데이터 세트를 생성하기 : load_iris()를 이용\n",
        "- 의사 결정 트리(Decision Tree) 알고리즘, 이를 구현한 DecisionTreeClassifier를 적용\n",
        "- 데이터 세트를 학습 데이터와 테스트 데이터로 분리 : train_test_split() 함수 사용"
      ],
      "metadata": {
        "id": "SVYLSsNWuBeY"
      }
    },
    {
      "cell_type": "code",
      "source": [
        "from sklearn.datasets import load_iris\n",
        "from sklearn.tree import DecisionTreeClassifier\n",
        "from sklearn.model_selection import train_test_split"
      ],
      "metadata": {
        "id": "s1BaCl_zuxJe"
      },
      "execution_count": 56,
      "outputs": []
    },
    {
      "cell_type": "markdown",
      "source": [
        "load_iris() : 붓꽃 데이터 세트를 로딩, 피처들과 데이터 값이 어떻게 구성돼 있는지 확인하기 위해 DataFrame으로 변환"
      ],
      "metadata": {
        "id": "38BqVZI6vBl3"
      }
    },
    {
      "cell_type": "code",
      "source": [
        "import pandas as pd\n",
        "\n",
        "# 붓꽃 데이터 세트를 로딩\n",
        "iris = load_iris()\n",
        "\n",
        "# iris.data는 Iris 데이터 세트에서 피처(Feature)만으로 된 데이터를 numpy로 가지고 있습니다.\n",
        "iris_data = iris.data\n",
        "\n",
        "# iris.target은 붓꽃 데이터 세트에서 레이블(결정 값) 데이터를 numpy로 가지고 있습니다.\n",
        "iris_label = iris.target\n",
        "print('iris target 값 :', iris_label)\n",
        "print('iris target 명 :', iris.target_names)\n",
        "\n",
        "# 붓꽃 데이터 세트를 자세히 보기 위해 DataFrame으로 변환하기\n",
        "iris_df = pd.DataFrame(data = iris_data, columns = iris.feature_names)\n",
        "iris_df['label'] = iris.target\n",
        "iris_df.head(3)"
      ],
      "metadata": {
        "colab": {
          "base_uri": "https://localhost:8080/",
          "height": 252
        },
        "id": "NKNxTvRPvIpY",
        "outputId": "dfc288c9-b62b-4079-fa42-ad5abdeffedc"
      },
      "execution_count": 57,
      "outputs": [
        {
          "output_type": "stream",
          "name": "stdout",
          "text": [
            "iris target 값 : [0 0 0 0 0 0 0 0 0 0 0 0 0 0 0 0 0 0 0 0 0 0 0 0 0 0 0 0 0 0 0 0 0 0 0 0 0\n",
            " 0 0 0 0 0 0 0 0 0 0 0 0 0 1 1 1 1 1 1 1 1 1 1 1 1 1 1 1 1 1 1 1 1 1 1 1 1\n",
            " 1 1 1 1 1 1 1 1 1 1 1 1 1 1 1 1 1 1 1 1 1 1 1 1 1 1 2 2 2 2 2 2 2 2 2 2 2\n",
            " 2 2 2 2 2 2 2 2 2 2 2 2 2 2 2 2 2 2 2 2 2 2 2 2 2 2 2 2 2 2 2 2 2 2 2 2 2\n",
            " 2 2]\n",
            "iris target 명 : ['setosa' 'versicolor' 'virginica']\n"
          ]
        },
        {
          "output_type": "execute_result",
          "data": {
            "text/plain": [
              "   sepal length (cm)  sepal width (cm)  petal length (cm)  petal width (cm)  \\\n",
              "0                5.1               3.5                1.4               0.2   \n",
              "1                4.9               3.0                1.4               0.2   \n",
              "2                4.7               3.2                1.3               0.2   \n",
              "\n",
              "   label  \n",
              "0      0  \n",
              "1      0  \n",
              "2      0  "
            ],
            "text/html": [
              "\n",
              "  <div id=\"df-4cb1a73a-6fe6-40dc-abbb-4fc85c45706e\" class=\"colab-df-container\">\n",
              "    <div>\n",
              "<style scoped>\n",
              "    .dataframe tbody tr th:only-of-type {\n",
              "        vertical-align: middle;\n",
              "    }\n",
              "\n",
              "    .dataframe tbody tr th {\n",
              "        vertical-align: top;\n",
              "    }\n",
              "\n",
              "    .dataframe thead th {\n",
              "        text-align: right;\n",
              "    }\n",
              "</style>\n",
              "<table border=\"1\" class=\"dataframe\">\n",
              "  <thead>\n",
              "    <tr style=\"text-align: right;\">\n",
              "      <th></th>\n",
              "      <th>sepal length (cm)</th>\n",
              "      <th>sepal width (cm)</th>\n",
              "      <th>petal length (cm)</th>\n",
              "      <th>petal width (cm)</th>\n",
              "      <th>label</th>\n",
              "    </tr>\n",
              "  </thead>\n",
              "  <tbody>\n",
              "    <tr>\n",
              "      <th>0</th>\n",
              "      <td>5.1</td>\n",
              "      <td>3.5</td>\n",
              "      <td>1.4</td>\n",
              "      <td>0.2</td>\n",
              "      <td>0</td>\n",
              "    </tr>\n",
              "    <tr>\n",
              "      <th>1</th>\n",
              "      <td>4.9</td>\n",
              "      <td>3.0</td>\n",
              "      <td>1.4</td>\n",
              "      <td>0.2</td>\n",
              "      <td>0</td>\n",
              "    </tr>\n",
              "    <tr>\n",
              "      <th>2</th>\n",
              "      <td>4.7</td>\n",
              "      <td>3.2</td>\n",
              "      <td>1.3</td>\n",
              "      <td>0.2</td>\n",
              "      <td>0</td>\n",
              "    </tr>\n",
              "  </tbody>\n",
              "</table>\n",
              "</div>\n",
              "    <div class=\"colab-df-buttons\">\n",
              "\n",
              "  <div class=\"colab-df-container\">\n",
              "    <button class=\"colab-df-convert\" onclick=\"convertToInteractive('df-4cb1a73a-6fe6-40dc-abbb-4fc85c45706e')\"\n",
              "            title=\"Convert this dataframe to an interactive table.\"\n",
              "            style=\"display:none;\">\n",
              "\n",
              "  <svg xmlns=\"http://www.w3.org/2000/svg\" height=\"24px\" viewBox=\"0 -960 960 960\">\n",
              "    <path d=\"M120-120v-720h720v720H120Zm60-500h600v-160H180v160Zm220 220h160v-160H400v160Zm0 220h160v-160H400v160ZM180-400h160v-160H180v160Zm440 0h160v-160H620v160ZM180-180h160v-160H180v160Zm440 0h160v-160H620v160Z\"/>\n",
              "  </svg>\n",
              "    </button>\n",
              "\n",
              "  <style>\n",
              "    .colab-df-container {\n",
              "      display:flex;\n",
              "      gap: 12px;\n",
              "    }\n",
              "\n",
              "    .colab-df-convert {\n",
              "      background-color: #E8F0FE;\n",
              "      border: none;\n",
              "      border-radius: 50%;\n",
              "      cursor: pointer;\n",
              "      display: none;\n",
              "      fill: #1967D2;\n",
              "      height: 32px;\n",
              "      padding: 0 0 0 0;\n",
              "      width: 32px;\n",
              "    }\n",
              "\n",
              "    .colab-df-convert:hover {\n",
              "      background-color: #E2EBFA;\n",
              "      box-shadow: 0px 1px 2px rgba(60, 64, 67, 0.3), 0px 1px 3px 1px rgba(60, 64, 67, 0.15);\n",
              "      fill: #174EA6;\n",
              "    }\n",
              "\n",
              "    .colab-df-buttons div {\n",
              "      margin-bottom: 4px;\n",
              "    }\n",
              "\n",
              "    [theme=dark] .colab-df-convert {\n",
              "      background-color: #3B4455;\n",
              "      fill: #D2E3FC;\n",
              "    }\n",
              "\n",
              "    [theme=dark] .colab-df-convert:hover {\n",
              "      background-color: #434B5C;\n",
              "      box-shadow: 0px 1px 3px 1px rgba(0, 0, 0, 0.15);\n",
              "      filter: drop-shadow(0px 1px 2px rgba(0, 0, 0, 0.3));\n",
              "      fill: #FFFFFF;\n",
              "    }\n",
              "  </style>\n",
              "\n",
              "    <script>\n",
              "      const buttonEl =\n",
              "        document.querySelector('#df-4cb1a73a-6fe6-40dc-abbb-4fc85c45706e button.colab-df-convert');\n",
              "      buttonEl.style.display =\n",
              "        google.colab.kernel.accessAllowed ? 'block' : 'none';\n",
              "\n",
              "      async function convertToInteractive(key) {\n",
              "        const element = document.querySelector('#df-4cb1a73a-6fe6-40dc-abbb-4fc85c45706e');\n",
              "        const dataTable =\n",
              "          await google.colab.kernel.invokeFunction('convertToInteractive',\n",
              "                                                    [key], {});\n",
              "        if (!dataTable) return;\n",
              "\n",
              "        const docLinkHtml = 'Like what you see? Visit the ' +\n",
              "          '<a target=\"_blank\" href=https://colab.research.google.com/notebooks/data_table.ipynb>data table notebook</a>'\n",
              "          + ' to learn more about interactive tables.';\n",
              "        element.innerHTML = '';\n",
              "        dataTable['output_type'] = 'display_data';\n",
              "        await google.colab.output.renderOutput(dataTable, element);\n",
              "        const docLink = document.createElement('div');\n",
              "        docLink.innerHTML = docLinkHtml;\n",
              "        element.appendChild(docLink);\n",
              "      }\n",
              "    </script>\n",
              "  </div>\n",
              "\n",
              "\n",
              "<div id=\"df-6eb613d9-a205-4b90-b1df-55dffdc27cbc\">\n",
              "  <button class=\"colab-df-quickchart\" onclick=\"quickchart('df-6eb613d9-a205-4b90-b1df-55dffdc27cbc')\"\n",
              "            title=\"Suggest charts\"\n",
              "            style=\"display:none;\">\n",
              "\n",
              "<svg xmlns=\"http://www.w3.org/2000/svg\" height=\"24px\"viewBox=\"0 0 24 24\"\n",
              "     width=\"24px\">\n",
              "    <g>\n",
              "        <path d=\"M19 3H5c-1.1 0-2 .9-2 2v14c0 1.1.9 2 2 2h14c1.1 0 2-.9 2-2V5c0-1.1-.9-2-2-2zM9 17H7v-7h2v7zm4 0h-2V7h2v10zm4 0h-2v-4h2v4z\"/>\n",
              "    </g>\n",
              "</svg>\n",
              "  </button>\n",
              "\n",
              "<style>\n",
              "  .colab-df-quickchart {\n",
              "      --bg-color: #E8F0FE;\n",
              "      --fill-color: #1967D2;\n",
              "      --hover-bg-color: #E2EBFA;\n",
              "      --hover-fill-color: #174EA6;\n",
              "      --disabled-fill-color: #AAA;\n",
              "      --disabled-bg-color: #DDD;\n",
              "  }\n",
              "\n",
              "  [theme=dark] .colab-df-quickchart {\n",
              "      --bg-color: #3B4455;\n",
              "      --fill-color: #D2E3FC;\n",
              "      --hover-bg-color: #434B5C;\n",
              "      --hover-fill-color: #FFFFFF;\n",
              "      --disabled-bg-color: #3B4455;\n",
              "      --disabled-fill-color: #666;\n",
              "  }\n",
              "\n",
              "  .colab-df-quickchart {\n",
              "    background-color: var(--bg-color);\n",
              "    border: none;\n",
              "    border-radius: 50%;\n",
              "    cursor: pointer;\n",
              "    display: none;\n",
              "    fill: var(--fill-color);\n",
              "    height: 32px;\n",
              "    padding: 0;\n",
              "    width: 32px;\n",
              "  }\n",
              "\n",
              "  .colab-df-quickchart:hover {\n",
              "    background-color: var(--hover-bg-color);\n",
              "    box-shadow: 0 1px 2px rgba(60, 64, 67, 0.3), 0 1px 3px 1px rgba(60, 64, 67, 0.15);\n",
              "    fill: var(--button-hover-fill-color);\n",
              "  }\n",
              "\n",
              "  .colab-df-quickchart-complete:disabled,\n",
              "  .colab-df-quickchart-complete:disabled:hover {\n",
              "    background-color: var(--disabled-bg-color);\n",
              "    fill: var(--disabled-fill-color);\n",
              "    box-shadow: none;\n",
              "  }\n",
              "\n",
              "  .colab-df-spinner {\n",
              "    border: 2px solid var(--fill-color);\n",
              "    border-color: transparent;\n",
              "    border-bottom-color: var(--fill-color);\n",
              "    animation:\n",
              "      spin 1s steps(1) infinite;\n",
              "  }\n",
              "\n",
              "  @keyframes spin {\n",
              "    0% {\n",
              "      border-color: transparent;\n",
              "      border-bottom-color: var(--fill-color);\n",
              "      border-left-color: var(--fill-color);\n",
              "    }\n",
              "    20% {\n",
              "      border-color: transparent;\n",
              "      border-left-color: var(--fill-color);\n",
              "      border-top-color: var(--fill-color);\n",
              "    }\n",
              "    30% {\n",
              "      border-color: transparent;\n",
              "      border-left-color: var(--fill-color);\n",
              "      border-top-color: var(--fill-color);\n",
              "      border-right-color: var(--fill-color);\n",
              "    }\n",
              "    40% {\n",
              "      border-color: transparent;\n",
              "      border-right-color: var(--fill-color);\n",
              "      border-top-color: var(--fill-color);\n",
              "    }\n",
              "    60% {\n",
              "      border-color: transparent;\n",
              "      border-right-color: var(--fill-color);\n",
              "    }\n",
              "    80% {\n",
              "      border-color: transparent;\n",
              "      border-right-color: var(--fill-color);\n",
              "      border-bottom-color: var(--fill-color);\n",
              "    }\n",
              "    90% {\n",
              "      border-color: transparent;\n",
              "      border-bottom-color: var(--fill-color);\n",
              "    }\n",
              "  }\n",
              "</style>\n",
              "\n",
              "  <script>\n",
              "    async function quickchart(key) {\n",
              "      const quickchartButtonEl =\n",
              "        document.querySelector('#' + key + ' button');\n",
              "      quickchartButtonEl.disabled = true;  // To prevent multiple clicks.\n",
              "      quickchartButtonEl.classList.add('colab-df-spinner');\n",
              "      try {\n",
              "        const charts = await google.colab.kernel.invokeFunction(\n",
              "            'suggestCharts', [key], {});\n",
              "      } catch (error) {\n",
              "        console.error('Error during call to suggestCharts:', error);\n",
              "      }\n",
              "      quickchartButtonEl.classList.remove('colab-df-spinner');\n",
              "      quickchartButtonEl.classList.add('colab-df-quickchart-complete');\n",
              "    }\n",
              "    (() => {\n",
              "      let quickchartButtonEl =\n",
              "        document.querySelector('#df-6eb613d9-a205-4b90-b1df-55dffdc27cbc button');\n",
              "      quickchartButtonEl.style.display =\n",
              "        google.colab.kernel.accessAllowed ? 'block' : 'none';\n",
              "    })();\n",
              "  </script>\n",
              "</div>\n",
              "\n",
              "    </div>\n",
              "  </div>\n"
            ],
            "application/vnd.google.colaboratory.intrinsic+json": {
              "type": "dataframe",
              "variable_name": "iris_df",
              "summary": "{\n  \"name\": \"iris_df\",\n  \"rows\": 150,\n  \"fields\": [\n    {\n      \"column\": \"sepal length (cm)\",\n      \"properties\": {\n        \"dtype\": \"number\",\n        \"std\": 0.828066127977863,\n        \"min\": 4.3,\n        \"max\": 7.9,\n        \"num_unique_values\": 35,\n        \"samples\": [\n          6.2,\n          4.5,\n          5.6\n        ],\n        \"semantic_type\": \"\",\n        \"description\": \"\"\n      }\n    },\n    {\n      \"column\": \"sepal width (cm)\",\n      \"properties\": {\n        \"dtype\": \"number\",\n        \"std\": 0.4358662849366982,\n        \"min\": 2.0,\n        \"max\": 4.4,\n        \"num_unique_values\": 23,\n        \"samples\": [\n          2.3,\n          4.0,\n          3.5\n        ],\n        \"semantic_type\": \"\",\n        \"description\": \"\"\n      }\n    },\n    {\n      \"column\": \"petal length (cm)\",\n      \"properties\": {\n        \"dtype\": \"number\",\n        \"std\": 1.7652982332594662,\n        \"min\": 1.0,\n        \"max\": 6.9,\n        \"num_unique_values\": 43,\n        \"samples\": [\n          6.7,\n          3.8,\n          3.7\n        ],\n        \"semantic_type\": \"\",\n        \"description\": \"\"\n      }\n    },\n    {\n      \"column\": \"petal width (cm)\",\n      \"properties\": {\n        \"dtype\": \"number\",\n        \"std\": 0.7622376689603465,\n        \"min\": 0.1,\n        \"max\": 2.5,\n        \"num_unique_values\": 22,\n        \"samples\": [\n          0.2,\n          1.2,\n          1.3\n        ],\n        \"semantic_type\": \"\",\n        \"description\": \"\"\n      }\n    },\n    {\n      \"column\": \"label\",\n      \"properties\": {\n        \"dtype\": \"number\",\n        \"std\": 0,\n        \"min\": 0,\n        \"max\": 2,\n        \"num_unique_values\": 3,\n        \"samples\": [\n          0,\n          1,\n          2\n        ],\n        \"semantic_type\": \"\",\n        \"description\": \"\"\n      }\n    }\n  ]\n}"
            }
          },
          "metadata": {},
          "execution_count": 57
        }
      ]
    },
    {
      "cell_type": "markdown",
      "source": [
        "* 피처 : sepal length, sepal width, petal length, petal WindowsPath\n",
        "* 레이블(Label, 결정값) : 0은 Setosa, 1은 versicolor, 2는 virginica"
      ],
      "metadata": {
        "id": "8sfPP4ExwfWW"
      }
    },
    {
      "cell_type": "markdown",
      "source": [
        "* 학습용 데이터와 테스트용 데이터 분리 (반드시 분리해야 함)\n",
        "* 학스 데이터로 학습된 모델이 얼마나 뛰어난 성능을 가지는 지 평가하기 위해 테스트 데이터 세트가 필요하기 때문\n",
        "* trian_Test_split() : test_size() 파라미터 입력값의 비율로 테스트 데이터와 학습 데이터를 분할함"
      ],
      "metadata": {
        "id": "VM3yBRF21xyC"
      }
    },
    {
      "cell_type": "code",
      "source": [
        "X_train, X_test, y_train, y_test = train_test_split(iris_data, iris_label, test_size=0.2, random_state=11)\n",
        "# iris_data : 피처 데이터 세트\n",
        "# iris_label ; 레이블(label) 데이터 세트\n",
        "# test_size = 0.2 : 테스트 데이터가 20%, 학습 데이터가 80%\n",
        "# random_state : 호출할 때마다 같은 학습/테스트 용 데이터 세트를 생성하기 위해 주어지는 난수 발생 값\n",
        "# random_state를 지정하지 않으면 수행할 때마다 다른 학습/테스트 용 데이터를 만듦"
      ],
      "metadata": {
        "id": "XPLAI-Fl2Syd"
      },
      "execution_count": 58,
      "outputs": []
    },
    {
      "cell_type": "markdown",
      "source": [
        "* 의사 결정 트리를 이용해 학습과 예측을 수행"
      ],
      "metadata": {
        "id": "Y1ooEJdF3HgP"
      }
    },
    {
      "cell_type": "code",
      "source": [
        "# DecisionTreeClassifier 객체 생성\n",
        "dt_clf = DecisionTreeClassifier(random_state=11)\n",
        "\n",
        "# 학습 수행\n",
        "dt_clf.fit(X_train, y_train)"
      ],
      "metadata": {
        "colab": {
          "base_uri": "https://localhost:8080/",
          "height": 80
        },
        "id": "ryH56BJX3NPP",
        "outputId": "a4d5fe66-387c-46e6-ea3d-716a2ba161e2"
      },
      "execution_count": 59,
      "outputs": [
        {
          "output_type": "execute_result",
          "data": {
            "text/plain": [
              "DecisionTreeClassifier(random_state=11)"
            ],
            "text/html": [
              "<style>#sk-container-id-2 {\n",
              "  /* Definition of color scheme common for light and dark mode */\n",
              "  --sklearn-color-text: black;\n",
              "  --sklearn-color-line: gray;\n",
              "  /* Definition of color scheme for unfitted estimators */\n",
              "  --sklearn-color-unfitted-level-0: #fff5e6;\n",
              "  --sklearn-color-unfitted-level-1: #f6e4d2;\n",
              "  --sklearn-color-unfitted-level-2: #ffe0b3;\n",
              "  --sklearn-color-unfitted-level-3: chocolate;\n",
              "  /* Definition of color scheme for fitted estimators */\n",
              "  --sklearn-color-fitted-level-0: #f0f8ff;\n",
              "  --sklearn-color-fitted-level-1: #d4ebff;\n",
              "  --sklearn-color-fitted-level-2: #b3dbfd;\n",
              "  --sklearn-color-fitted-level-3: cornflowerblue;\n",
              "\n",
              "  /* Specific color for light theme */\n",
              "  --sklearn-color-text-on-default-background: var(--sg-text-color, var(--theme-code-foreground, var(--jp-content-font-color1, black)));\n",
              "  --sklearn-color-background: var(--sg-background-color, var(--theme-background, var(--jp-layout-color0, white)));\n",
              "  --sklearn-color-border-box: var(--sg-text-color, var(--theme-code-foreground, var(--jp-content-font-color1, black)));\n",
              "  --sklearn-color-icon: #696969;\n",
              "\n",
              "  @media (prefers-color-scheme: dark) {\n",
              "    /* Redefinition of color scheme for dark theme */\n",
              "    --sklearn-color-text-on-default-background: var(--sg-text-color, var(--theme-code-foreground, var(--jp-content-font-color1, white)));\n",
              "    --sklearn-color-background: var(--sg-background-color, var(--theme-background, var(--jp-layout-color0, #111)));\n",
              "    --sklearn-color-border-box: var(--sg-text-color, var(--theme-code-foreground, var(--jp-content-font-color1, white)));\n",
              "    --sklearn-color-icon: #878787;\n",
              "  }\n",
              "}\n",
              "\n",
              "#sk-container-id-2 {\n",
              "  color: var(--sklearn-color-text);\n",
              "}\n",
              "\n",
              "#sk-container-id-2 pre {\n",
              "  padding: 0;\n",
              "}\n",
              "\n",
              "#sk-container-id-2 input.sk-hidden--visually {\n",
              "  border: 0;\n",
              "  clip: rect(1px 1px 1px 1px);\n",
              "  clip: rect(1px, 1px, 1px, 1px);\n",
              "  height: 1px;\n",
              "  margin: -1px;\n",
              "  overflow: hidden;\n",
              "  padding: 0;\n",
              "  position: absolute;\n",
              "  width: 1px;\n",
              "}\n",
              "\n",
              "#sk-container-id-2 div.sk-dashed-wrapped {\n",
              "  border: 1px dashed var(--sklearn-color-line);\n",
              "  margin: 0 0.4em 0.5em 0.4em;\n",
              "  box-sizing: border-box;\n",
              "  padding-bottom: 0.4em;\n",
              "  background-color: var(--sklearn-color-background);\n",
              "}\n",
              "\n",
              "#sk-container-id-2 div.sk-container {\n",
              "  /* jupyter's `normalize.less` sets `[hidden] { display: none; }`\n",
              "     but bootstrap.min.css set `[hidden] { display: none !important; }`\n",
              "     so we also need the `!important` here to be able to override the\n",
              "     default hidden behavior on the sphinx rendered scikit-learn.org.\n",
              "     See: https://github.com/scikit-learn/scikit-learn/issues/21755 */\n",
              "  display: inline-block !important;\n",
              "  position: relative;\n",
              "}\n",
              "\n",
              "#sk-container-id-2 div.sk-text-repr-fallback {\n",
              "  display: none;\n",
              "}\n",
              "\n",
              "div.sk-parallel-item,\n",
              "div.sk-serial,\n",
              "div.sk-item {\n",
              "  /* draw centered vertical line to link estimators */\n",
              "  background-image: linear-gradient(var(--sklearn-color-text-on-default-background), var(--sklearn-color-text-on-default-background));\n",
              "  background-size: 2px 100%;\n",
              "  background-repeat: no-repeat;\n",
              "  background-position: center center;\n",
              "}\n",
              "\n",
              "/* Parallel-specific style estimator block */\n",
              "\n",
              "#sk-container-id-2 div.sk-parallel-item::after {\n",
              "  content: \"\";\n",
              "  width: 100%;\n",
              "  border-bottom: 2px solid var(--sklearn-color-text-on-default-background);\n",
              "  flex-grow: 1;\n",
              "}\n",
              "\n",
              "#sk-container-id-2 div.sk-parallel {\n",
              "  display: flex;\n",
              "  align-items: stretch;\n",
              "  justify-content: center;\n",
              "  background-color: var(--sklearn-color-background);\n",
              "  position: relative;\n",
              "}\n",
              "\n",
              "#sk-container-id-2 div.sk-parallel-item {\n",
              "  display: flex;\n",
              "  flex-direction: column;\n",
              "}\n",
              "\n",
              "#sk-container-id-2 div.sk-parallel-item:first-child::after {\n",
              "  align-self: flex-end;\n",
              "  width: 50%;\n",
              "}\n",
              "\n",
              "#sk-container-id-2 div.sk-parallel-item:last-child::after {\n",
              "  align-self: flex-start;\n",
              "  width: 50%;\n",
              "}\n",
              "\n",
              "#sk-container-id-2 div.sk-parallel-item:only-child::after {\n",
              "  width: 0;\n",
              "}\n",
              "\n",
              "/* Serial-specific style estimator block */\n",
              "\n",
              "#sk-container-id-2 div.sk-serial {\n",
              "  display: flex;\n",
              "  flex-direction: column;\n",
              "  align-items: center;\n",
              "  background-color: var(--sklearn-color-background);\n",
              "  padding-right: 1em;\n",
              "  padding-left: 1em;\n",
              "}\n",
              "\n",
              "\n",
              "/* Toggleable style: style used for estimator/Pipeline/ColumnTransformer box that is\n",
              "clickable and can be expanded/collapsed.\n",
              "- Pipeline and ColumnTransformer use this feature and define the default style\n",
              "- Estimators will overwrite some part of the style using the `sk-estimator` class\n",
              "*/\n",
              "\n",
              "/* Pipeline and ColumnTransformer style (default) */\n",
              "\n",
              "#sk-container-id-2 div.sk-toggleable {\n",
              "  /* Default theme specific background. It is overwritten whether we have a\n",
              "  specific estimator or a Pipeline/ColumnTransformer */\n",
              "  background-color: var(--sklearn-color-background);\n",
              "}\n",
              "\n",
              "/* Toggleable label */\n",
              "#sk-container-id-2 label.sk-toggleable__label {\n",
              "  cursor: pointer;\n",
              "  display: block;\n",
              "  width: 100%;\n",
              "  margin-bottom: 0;\n",
              "  padding: 0.5em;\n",
              "  box-sizing: border-box;\n",
              "  text-align: center;\n",
              "}\n",
              "\n",
              "#sk-container-id-2 label.sk-toggleable__label-arrow:before {\n",
              "  /* Arrow on the left of the label */\n",
              "  content: \"▸\";\n",
              "  float: left;\n",
              "  margin-right: 0.25em;\n",
              "  color: var(--sklearn-color-icon);\n",
              "}\n",
              "\n",
              "#sk-container-id-2 label.sk-toggleable__label-arrow:hover:before {\n",
              "  color: var(--sklearn-color-text);\n",
              "}\n",
              "\n",
              "/* Toggleable content - dropdown */\n",
              "\n",
              "#sk-container-id-2 div.sk-toggleable__content {\n",
              "  max-height: 0;\n",
              "  max-width: 0;\n",
              "  overflow: hidden;\n",
              "  text-align: left;\n",
              "  /* unfitted */\n",
              "  background-color: var(--sklearn-color-unfitted-level-0);\n",
              "}\n",
              "\n",
              "#sk-container-id-2 div.sk-toggleable__content.fitted {\n",
              "  /* fitted */\n",
              "  background-color: var(--sklearn-color-fitted-level-0);\n",
              "}\n",
              "\n",
              "#sk-container-id-2 div.sk-toggleable__content pre {\n",
              "  margin: 0.2em;\n",
              "  border-radius: 0.25em;\n",
              "  color: var(--sklearn-color-text);\n",
              "  /* unfitted */\n",
              "  background-color: var(--sklearn-color-unfitted-level-0);\n",
              "}\n",
              "\n",
              "#sk-container-id-2 div.sk-toggleable__content.fitted pre {\n",
              "  /* unfitted */\n",
              "  background-color: var(--sklearn-color-fitted-level-0);\n",
              "}\n",
              "\n",
              "#sk-container-id-2 input.sk-toggleable__control:checked~div.sk-toggleable__content {\n",
              "  /* Expand drop-down */\n",
              "  max-height: 200px;\n",
              "  max-width: 100%;\n",
              "  overflow: auto;\n",
              "}\n",
              "\n",
              "#sk-container-id-2 input.sk-toggleable__control:checked~label.sk-toggleable__label-arrow:before {\n",
              "  content: \"▾\";\n",
              "}\n",
              "\n",
              "/* Pipeline/ColumnTransformer-specific style */\n",
              "\n",
              "#sk-container-id-2 div.sk-label input.sk-toggleable__control:checked~label.sk-toggleable__label {\n",
              "  color: var(--sklearn-color-text);\n",
              "  background-color: var(--sklearn-color-unfitted-level-2);\n",
              "}\n",
              "\n",
              "#sk-container-id-2 div.sk-label.fitted input.sk-toggleable__control:checked~label.sk-toggleable__label {\n",
              "  background-color: var(--sklearn-color-fitted-level-2);\n",
              "}\n",
              "\n",
              "/* Estimator-specific style */\n",
              "\n",
              "/* Colorize estimator box */\n",
              "#sk-container-id-2 div.sk-estimator input.sk-toggleable__control:checked~label.sk-toggleable__label {\n",
              "  /* unfitted */\n",
              "  background-color: var(--sklearn-color-unfitted-level-2);\n",
              "}\n",
              "\n",
              "#sk-container-id-2 div.sk-estimator.fitted input.sk-toggleable__control:checked~label.sk-toggleable__label {\n",
              "  /* fitted */\n",
              "  background-color: var(--sklearn-color-fitted-level-2);\n",
              "}\n",
              "\n",
              "#sk-container-id-2 div.sk-label label.sk-toggleable__label,\n",
              "#sk-container-id-2 div.sk-label label {\n",
              "  /* The background is the default theme color */\n",
              "  color: var(--sklearn-color-text-on-default-background);\n",
              "}\n",
              "\n",
              "/* On hover, darken the color of the background */\n",
              "#sk-container-id-2 div.sk-label:hover label.sk-toggleable__label {\n",
              "  color: var(--sklearn-color-text);\n",
              "  background-color: var(--sklearn-color-unfitted-level-2);\n",
              "}\n",
              "\n",
              "/* Label box, darken color on hover, fitted */\n",
              "#sk-container-id-2 div.sk-label.fitted:hover label.sk-toggleable__label.fitted {\n",
              "  color: var(--sklearn-color-text);\n",
              "  background-color: var(--sklearn-color-fitted-level-2);\n",
              "}\n",
              "\n",
              "/* Estimator label */\n",
              "\n",
              "#sk-container-id-2 div.sk-label label {\n",
              "  font-family: monospace;\n",
              "  font-weight: bold;\n",
              "  display: inline-block;\n",
              "  line-height: 1.2em;\n",
              "}\n",
              "\n",
              "#sk-container-id-2 div.sk-label-container {\n",
              "  text-align: center;\n",
              "}\n",
              "\n",
              "/* Estimator-specific */\n",
              "#sk-container-id-2 div.sk-estimator {\n",
              "  font-family: monospace;\n",
              "  border: 1px dotted var(--sklearn-color-border-box);\n",
              "  border-radius: 0.25em;\n",
              "  box-sizing: border-box;\n",
              "  margin-bottom: 0.5em;\n",
              "  /* unfitted */\n",
              "  background-color: var(--sklearn-color-unfitted-level-0);\n",
              "}\n",
              "\n",
              "#sk-container-id-2 div.sk-estimator.fitted {\n",
              "  /* fitted */\n",
              "  background-color: var(--sklearn-color-fitted-level-0);\n",
              "}\n",
              "\n",
              "/* on hover */\n",
              "#sk-container-id-2 div.sk-estimator:hover {\n",
              "  /* unfitted */\n",
              "  background-color: var(--sklearn-color-unfitted-level-2);\n",
              "}\n",
              "\n",
              "#sk-container-id-2 div.sk-estimator.fitted:hover {\n",
              "  /* fitted */\n",
              "  background-color: var(--sklearn-color-fitted-level-2);\n",
              "}\n",
              "\n",
              "/* Specification for estimator info (e.g. \"i\" and \"?\") */\n",
              "\n",
              "/* Common style for \"i\" and \"?\" */\n",
              "\n",
              ".sk-estimator-doc-link,\n",
              "a:link.sk-estimator-doc-link,\n",
              "a:visited.sk-estimator-doc-link {\n",
              "  float: right;\n",
              "  font-size: smaller;\n",
              "  line-height: 1em;\n",
              "  font-family: monospace;\n",
              "  background-color: var(--sklearn-color-background);\n",
              "  border-radius: 1em;\n",
              "  height: 1em;\n",
              "  width: 1em;\n",
              "  text-decoration: none !important;\n",
              "  margin-left: 1ex;\n",
              "  /* unfitted */\n",
              "  border: var(--sklearn-color-unfitted-level-1) 1pt solid;\n",
              "  color: var(--sklearn-color-unfitted-level-1);\n",
              "}\n",
              "\n",
              ".sk-estimator-doc-link.fitted,\n",
              "a:link.sk-estimator-doc-link.fitted,\n",
              "a:visited.sk-estimator-doc-link.fitted {\n",
              "  /* fitted */\n",
              "  border: var(--sklearn-color-fitted-level-1) 1pt solid;\n",
              "  color: var(--sklearn-color-fitted-level-1);\n",
              "}\n",
              "\n",
              "/* On hover */\n",
              "div.sk-estimator:hover .sk-estimator-doc-link:hover,\n",
              ".sk-estimator-doc-link:hover,\n",
              "div.sk-label-container:hover .sk-estimator-doc-link:hover,\n",
              ".sk-estimator-doc-link:hover {\n",
              "  /* unfitted */\n",
              "  background-color: var(--sklearn-color-unfitted-level-3);\n",
              "  color: var(--sklearn-color-background);\n",
              "  text-decoration: none;\n",
              "}\n",
              "\n",
              "div.sk-estimator.fitted:hover .sk-estimator-doc-link.fitted:hover,\n",
              ".sk-estimator-doc-link.fitted:hover,\n",
              "div.sk-label-container:hover .sk-estimator-doc-link.fitted:hover,\n",
              ".sk-estimator-doc-link.fitted:hover {\n",
              "  /* fitted */\n",
              "  background-color: var(--sklearn-color-fitted-level-3);\n",
              "  color: var(--sklearn-color-background);\n",
              "  text-decoration: none;\n",
              "}\n",
              "\n",
              "/* Span, style for the box shown on hovering the info icon */\n",
              ".sk-estimator-doc-link span {\n",
              "  display: none;\n",
              "  z-index: 9999;\n",
              "  position: relative;\n",
              "  font-weight: normal;\n",
              "  right: .2ex;\n",
              "  padding: .5ex;\n",
              "  margin: .5ex;\n",
              "  width: min-content;\n",
              "  min-width: 20ex;\n",
              "  max-width: 50ex;\n",
              "  color: var(--sklearn-color-text);\n",
              "  box-shadow: 2pt 2pt 4pt #999;\n",
              "  /* unfitted */\n",
              "  background: var(--sklearn-color-unfitted-level-0);\n",
              "  border: .5pt solid var(--sklearn-color-unfitted-level-3);\n",
              "}\n",
              "\n",
              ".sk-estimator-doc-link.fitted span {\n",
              "  /* fitted */\n",
              "  background: var(--sklearn-color-fitted-level-0);\n",
              "  border: var(--sklearn-color-fitted-level-3);\n",
              "}\n",
              "\n",
              ".sk-estimator-doc-link:hover span {\n",
              "  display: block;\n",
              "}\n",
              "\n",
              "/* \"?\"-specific style due to the `<a>` HTML tag */\n",
              "\n",
              "#sk-container-id-2 a.estimator_doc_link {\n",
              "  float: right;\n",
              "  font-size: 1rem;\n",
              "  line-height: 1em;\n",
              "  font-family: monospace;\n",
              "  background-color: var(--sklearn-color-background);\n",
              "  border-radius: 1rem;\n",
              "  height: 1rem;\n",
              "  width: 1rem;\n",
              "  text-decoration: none;\n",
              "  /* unfitted */\n",
              "  color: var(--sklearn-color-unfitted-level-1);\n",
              "  border: var(--sklearn-color-unfitted-level-1) 1pt solid;\n",
              "}\n",
              "\n",
              "#sk-container-id-2 a.estimator_doc_link.fitted {\n",
              "  /* fitted */\n",
              "  border: var(--sklearn-color-fitted-level-1) 1pt solid;\n",
              "  color: var(--sklearn-color-fitted-level-1);\n",
              "}\n",
              "\n",
              "/* On hover */\n",
              "#sk-container-id-2 a.estimator_doc_link:hover {\n",
              "  /* unfitted */\n",
              "  background-color: var(--sklearn-color-unfitted-level-3);\n",
              "  color: var(--sklearn-color-background);\n",
              "  text-decoration: none;\n",
              "}\n",
              "\n",
              "#sk-container-id-2 a.estimator_doc_link.fitted:hover {\n",
              "  /* fitted */\n",
              "  background-color: var(--sklearn-color-fitted-level-3);\n",
              "}\n",
              "</style><div id=\"sk-container-id-2\" class=\"sk-top-container\"><div class=\"sk-text-repr-fallback\"><pre>DecisionTreeClassifier(random_state=11)</pre><b>In a Jupyter environment, please rerun this cell to show the HTML representation or trust the notebook. <br />On GitHub, the HTML representation is unable to render, please try loading this page with nbviewer.org.</b></div><div class=\"sk-container\" hidden><div class=\"sk-item\"><div class=\"sk-estimator fitted sk-toggleable\"><input class=\"sk-toggleable__control sk-hidden--visually\" id=\"sk-estimator-id-2\" type=\"checkbox\" checked><label for=\"sk-estimator-id-2\" class=\"sk-toggleable__label fitted sk-toggleable__label-arrow fitted\">&nbsp;&nbsp;DecisionTreeClassifier<a class=\"sk-estimator-doc-link fitted\" rel=\"noreferrer\" target=\"_blank\" href=\"https://scikit-learn.org/1.5/modules/generated/sklearn.tree.DecisionTreeClassifier.html\">?<span>Documentation for DecisionTreeClassifier</span></a><span class=\"sk-estimator-doc-link fitted\">i<span>Fitted</span></span></label><div class=\"sk-toggleable__content fitted\"><pre>DecisionTreeClassifier(random_state=11)</pre></div> </div></div></div></div>"
            ]
          },
          "metadata": {},
          "execution_count": 59
        }
      ]
    },
    {
      "cell_type": "markdown",
      "source": [
        "* 예측 수행 : 학습 데이터가 아닌 다른 데이터를 이용해야 함, 일반적으로 테스트 데이터 세트를 이용\n",
        "* predict() 매서드에 테스트용 피처 데이터 세트를 입력해 호출 : 학습된 모델 기반에서 테스트 데이터 세트에 대한 예측값을 반환"
      ],
      "metadata": {
        "id": "xYFy-WwE3kpf"
      }
    },
    {
      "cell_type": "code",
      "source": [
        "# 학습이 완료된 DecisionTreeClassifier 객체에서 테스트 데이터 세트로 예측 수행\n",
        "pred = dt_clf.predict(X_test)"
      ],
      "metadata": {
        "id": "0eqEt0YP35KI"
      },
      "execution_count": 60,
      "outputs": []
    },
    {
      "cell_type": "markdown",
      "source": [
        "* 예측 결과를 기반으로 의사 결정 트리 기반의 DecisionTreeClassifier의 예측 성능을 평가\n",
        "* 정확도를 측정\n",
        "* 정확도 : 예측 결과가 실제 레이블 값과 얼마나 정확하게 맞는지를 평가하는 지표\n",
        "* 예측한 붓꽃 품종과 실제 테스트 데이터 세트의 붓꽃 품종이 얼마나 일치하는지 확인\n",
        "* accuracy_score(실제 레이블 데이터 세트, 예측 레이블 데이터 세트) : 정확도 측정"
      ],
      "metadata": {
        "id": "--Otca4N4IWc"
      }
    },
    {
      "cell_type": "code",
      "source": [
        "from sklearn.metrics import accuracy_score\n",
        "print('예측 정확도 : {0:.4f}'. format(accuracy_score(y_test, pred)))"
      ],
      "metadata": {
        "colab": {
          "base_uri": "https://localhost:8080/"
        },
        "id": "YItFVO2f4ieP",
        "outputId": "535a116f-ae91-4df0-8357-bf630c1d469c"
      },
      "execution_count": 61,
      "outputs": [
        {
          "output_type": "stream",
          "name": "stdout",
          "text": [
            "예측 정확도 : 0.9333\n"
          ]
        }
      ]
    },
    {
      "cell_type": "markdown",
      "source": [
        "[붓꽃 데이터 세트로 분류를 예측한 프로세스]\n",
        "* 1. 데이터 세트 분리 : 데이터를 학습 데이터와 테스트 데이터로 분리\n",
        "* 2. 모델 학습 : 학습 데이터를 기반으로 ML 알고리즘을 적용해 모델을 학습시킴\n",
        "* 3. 예측 수행 : 학습된 ML 모델을 이용해 테스트 데이터의 분류(붓꽃 종류)를 예측\n",
        "* 4. 평가 : 이렇게 예측된 결괏값과 테스트 데이터의 실제 결괏값을 비교해 ML 모델 성능을 평가\n"
      ],
      "metadata": {
        "id": "K1QlZtbv40L9"
      }
    },
    {
      "cell_type": "markdown",
      "source": [
        "### [3] 사이킷런의 기반 프레임워크 익히기\n",
        "### [Estimator 이해 및 fit(), predict() 메서드]\n",
        "* fit() : ML 모델 학습을 위해\n",
        "* predict() : 학습된 모델의 예측을 위해\n",
        "* Classifier : 분류 알고리즘을 구현한 클래스\n",
        "* Regressor : 회귀 알고리즘을 구현한 클래스\n",
        "* Estimator 클래스 : Classifier 와 Regressor를 합쳐서, 지도학습의 모든 알고리즘을 구현한 클래스를 통칭"
      ],
      "metadata": {
        "id": "eQfdaYmw5VVq"
      }
    },
    {
      "cell_type": "markdown",
      "source": [
        "### [사이킷런의 주요 모듈]\n",
        "* 예제 데이터 : sklearn.datasets\n",
        "* 피처 처리 : sklearn.preprocessing, sklearn.feature_selection, sklearn.feature_extraction\n",
        "* 피처 처리 & 차원 축소 : sklearn.decomposition\n",
        "* 데이터 분리, 검증 & 파라미터 튜닝 : sklearn.model_selection\n",
        "* 평가 : sklearn.metrics\n",
        "* ML 알고리즘 : sklearn.ensemble, sklean.linear_model, sklearn.naive_bayes, sklearn.neighbors, sklearn.svm, sklearn.tree, sklearn.cluster\n",
        "* 유틸리티 : sklearn.pipeline"
      ],
      "metadata": {
        "id": "ze94gu3058y2"
      }
    },
    {
      "cell_type": "markdown",
      "source": [
        "### [내장된 예제 데이터 세트]\n",
        "[datasets 모듈]\n",
        "* 회귀 용도 : datasets.load_bostorn(), datasets.load_diabetes\n",
        "* 분류 용도 : datasets.load_breast_cancer(), datasets.load_digits(), datasets.load_iris()"
      ],
      "metadata": {
        "id": "X9u1NiMv7dMj"
      }
    },
    {
      "cell_type": "markdown",
      "source": [
        "[fetch 게열 명령] (최초 사용 시 인터넷 연결 필수)\n",
        "* fetch_covtype() : 회귀 분석용 토지 조사 자료\n",
        "* fetch_20newsgroups(), fetch_olivetti_faces(), fetch_lfw_people(), fetch_lfw_pairs(), fetch_rcv1(), fetch_mldata()"
      ],
      "metadata": {
        "id": "AAxCMr4N9G1i"
      }
    },
    {
      "cell_type": "markdown",
      "source": [
        "[분류와 클러스을 위한 표본 데이터 생성기]\n",
        "* datasets.make_classifications() : 분류를 위한 데이터 세트를 만듦, 높은 상관도와 불필요한 속성 등의 노이즈 효과를 위한 데이터를 무작위로 생성\n",
        "* datasets.make_blobs() : 클러스터링을 위한 데이터 세트를 무작위로 생성, 군집 지정 개수에 따라 여러 가지 클러스터링을 위한 데이터 세트를 쉽게 만듦"
      ],
      "metadata": {
        "id": "uK8gN4wv9xDA"
      }
    },
    {
      "cell_type": "markdown",
      "source": [
        "[개별 키(Key)가 가리키는 데이터 세트의 의미]\n",
        "* data : 피처의 데이터 세트, ndarray\n",
        "* target : 분류 시 레이블 값, 회귀일 때는 숫자 결괏값 데이터 세트, ndarray\n",
        "* target_names : 개별 레이블의 이름, ndarray 또는 list\n",
        "* feature_names : 피처의 이름, ndarray 또는 list\n",
        "* DESCR : 데이터 세트에 대한 설명과 각 피처의 설명, 스트링"
      ],
      "metadata": {
        "id": "5NFnBJA_-MV0"
      }
    },
    {
      "cell_type": "code",
      "source": [
        "from sklearn.datasets import load_iris\n",
        "\n",
        "iris_data = load_iris()\n",
        "print(type(iris_data))"
      ],
      "metadata": {
        "colab": {
          "base_uri": "https://localhost:8080/"
        },
        "id": "9HMm7Cd7-vOX",
        "outputId": "56dd586b-97da-4c52-ed10-c65cec9b41d9"
      },
      "execution_count": 62,
      "outputs": [
        {
          "output_type": "stream",
          "name": "stdout",
          "text": [
            "<class 'sklearn.utils._bunch.Bunch'>\n"
          ]
        }
      ]
    },
    {
      "cell_type": "code",
      "source": [
        "keys = iris_data.keys()\n",
        "print('붓꽃 데이터 세트의 키들:', keys)"
      ],
      "metadata": {
        "colab": {
          "base_uri": "https://localhost:8080/"
        },
        "id": "N7wcVQU8_Asm",
        "outputId": "75fe109f-70a2-4a7b-c5b7-982f9b48eaaa"
      },
      "execution_count": 63,
      "outputs": [
        {
          "output_type": "stream",
          "name": "stdout",
          "text": [
            "붓꽃 데이터 세트의 키들: dict_keys(['data', 'target', 'frame', 'target_names', 'DESCR', 'feature_names', 'filename', 'data_module'])\n"
          ]
        }
      ]
    },
    {
      "cell_type": "code",
      "source": [
        "# load_iris()가 반환하는 객체의 키인 feature_names, target_name, data, target이 가리키는 값\n",
        "print('\\n feature_names의 type:', type(iris_data.feature_names))\n",
        "print('feature_names의 shape:', len(iris_data.feature_names))\n",
        "print(iris_data.feature_names)\n",
        "\n",
        "print('\\n target_names의 type:', type(iris_data.target_names))\n",
        "print('target_names의 shape:', len(iris_data.target_names))\n",
        "print(iris_data.target_names)\n",
        "\n",
        "print('\\n data의 type:', type(iris_data.data))\n",
        "print('datat의 shape:', len(iris_data.data))\n",
        "print(iris_data['data'])\n",
        "\n",
        "print('\\n target의 type:', type(iris_data.target))\n",
        "print('target의 shape:', len(iris_data.target))\n",
        "print(iris_data.target)"
      ],
      "metadata": {
        "colab": {
          "base_uri": "https://localhost:8080/"
        },
        "id": "f5VNFW_T_ONk",
        "outputId": "8adc1fe3-7faf-4e02-a771-649674db97c9"
      },
      "execution_count": 64,
      "outputs": [
        {
          "output_type": "stream",
          "name": "stdout",
          "text": [
            "\n",
            " feature_names의 type: <class 'list'>\n",
            "feature_names의 shape: 4\n",
            "['sepal length (cm)', 'sepal width (cm)', 'petal length (cm)', 'petal width (cm)']\n",
            "\n",
            " target_names의 type: <class 'numpy.ndarray'>\n",
            "target_names의 shape: 3\n",
            "['setosa' 'versicolor' 'virginica']\n",
            "\n",
            " data의 type: <class 'numpy.ndarray'>\n",
            "datat의 shape: 150\n",
            "[[5.1 3.5 1.4 0.2]\n",
            " [4.9 3.  1.4 0.2]\n",
            " [4.7 3.2 1.3 0.2]\n",
            " [4.6 3.1 1.5 0.2]\n",
            " [5.  3.6 1.4 0.2]\n",
            " [5.4 3.9 1.7 0.4]\n",
            " [4.6 3.4 1.4 0.3]\n",
            " [5.  3.4 1.5 0.2]\n",
            " [4.4 2.9 1.4 0.2]\n",
            " [4.9 3.1 1.5 0.1]\n",
            " [5.4 3.7 1.5 0.2]\n",
            " [4.8 3.4 1.6 0.2]\n",
            " [4.8 3.  1.4 0.1]\n",
            " [4.3 3.  1.1 0.1]\n",
            " [5.8 4.  1.2 0.2]\n",
            " [5.7 4.4 1.5 0.4]\n",
            " [5.4 3.9 1.3 0.4]\n",
            " [5.1 3.5 1.4 0.3]\n",
            " [5.7 3.8 1.7 0.3]\n",
            " [5.1 3.8 1.5 0.3]\n",
            " [5.4 3.4 1.7 0.2]\n",
            " [5.1 3.7 1.5 0.4]\n",
            " [4.6 3.6 1.  0.2]\n",
            " [5.1 3.3 1.7 0.5]\n",
            " [4.8 3.4 1.9 0.2]\n",
            " [5.  3.  1.6 0.2]\n",
            " [5.  3.4 1.6 0.4]\n",
            " [5.2 3.5 1.5 0.2]\n",
            " [5.2 3.4 1.4 0.2]\n",
            " [4.7 3.2 1.6 0.2]\n",
            " [4.8 3.1 1.6 0.2]\n",
            " [5.4 3.4 1.5 0.4]\n",
            " [5.2 4.1 1.5 0.1]\n",
            " [5.5 4.2 1.4 0.2]\n",
            " [4.9 3.1 1.5 0.2]\n",
            " [5.  3.2 1.2 0.2]\n",
            " [5.5 3.5 1.3 0.2]\n",
            " [4.9 3.6 1.4 0.1]\n",
            " [4.4 3.  1.3 0.2]\n",
            " [5.1 3.4 1.5 0.2]\n",
            " [5.  3.5 1.3 0.3]\n",
            " [4.5 2.3 1.3 0.3]\n",
            " [4.4 3.2 1.3 0.2]\n",
            " [5.  3.5 1.6 0.6]\n",
            " [5.1 3.8 1.9 0.4]\n",
            " [4.8 3.  1.4 0.3]\n",
            " [5.1 3.8 1.6 0.2]\n",
            " [4.6 3.2 1.4 0.2]\n",
            " [5.3 3.7 1.5 0.2]\n",
            " [5.  3.3 1.4 0.2]\n",
            " [7.  3.2 4.7 1.4]\n",
            " [6.4 3.2 4.5 1.5]\n",
            " [6.9 3.1 4.9 1.5]\n",
            " [5.5 2.3 4.  1.3]\n",
            " [6.5 2.8 4.6 1.5]\n",
            " [5.7 2.8 4.5 1.3]\n",
            " [6.3 3.3 4.7 1.6]\n",
            " [4.9 2.4 3.3 1. ]\n",
            " [6.6 2.9 4.6 1.3]\n",
            " [5.2 2.7 3.9 1.4]\n",
            " [5.  2.  3.5 1. ]\n",
            " [5.9 3.  4.2 1.5]\n",
            " [6.  2.2 4.  1. ]\n",
            " [6.1 2.9 4.7 1.4]\n",
            " [5.6 2.9 3.6 1.3]\n",
            " [6.7 3.1 4.4 1.4]\n",
            " [5.6 3.  4.5 1.5]\n",
            " [5.8 2.7 4.1 1. ]\n",
            " [6.2 2.2 4.5 1.5]\n",
            " [5.6 2.5 3.9 1.1]\n",
            " [5.9 3.2 4.8 1.8]\n",
            " [6.1 2.8 4.  1.3]\n",
            " [6.3 2.5 4.9 1.5]\n",
            " [6.1 2.8 4.7 1.2]\n",
            " [6.4 2.9 4.3 1.3]\n",
            " [6.6 3.  4.4 1.4]\n",
            " [6.8 2.8 4.8 1.4]\n",
            " [6.7 3.  5.  1.7]\n",
            " [6.  2.9 4.5 1.5]\n",
            " [5.7 2.6 3.5 1. ]\n",
            " [5.5 2.4 3.8 1.1]\n",
            " [5.5 2.4 3.7 1. ]\n",
            " [5.8 2.7 3.9 1.2]\n",
            " [6.  2.7 5.1 1.6]\n",
            " [5.4 3.  4.5 1.5]\n",
            " [6.  3.4 4.5 1.6]\n",
            " [6.7 3.1 4.7 1.5]\n",
            " [6.3 2.3 4.4 1.3]\n",
            " [5.6 3.  4.1 1.3]\n",
            " [5.5 2.5 4.  1.3]\n",
            " [5.5 2.6 4.4 1.2]\n",
            " [6.1 3.  4.6 1.4]\n",
            " [5.8 2.6 4.  1.2]\n",
            " [5.  2.3 3.3 1. ]\n",
            " [5.6 2.7 4.2 1.3]\n",
            " [5.7 3.  4.2 1.2]\n",
            " [5.7 2.9 4.2 1.3]\n",
            " [6.2 2.9 4.3 1.3]\n",
            " [5.1 2.5 3.  1.1]\n",
            " [5.7 2.8 4.1 1.3]\n",
            " [6.3 3.3 6.  2.5]\n",
            " [5.8 2.7 5.1 1.9]\n",
            " [7.1 3.  5.9 2.1]\n",
            " [6.3 2.9 5.6 1.8]\n",
            " [6.5 3.  5.8 2.2]\n",
            " [7.6 3.  6.6 2.1]\n",
            " [4.9 2.5 4.5 1.7]\n",
            " [7.3 2.9 6.3 1.8]\n",
            " [6.7 2.5 5.8 1.8]\n",
            " [7.2 3.6 6.1 2.5]\n",
            " [6.5 3.2 5.1 2. ]\n",
            " [6.4 2.7 5.3 1.9]\n",
            " [6.8 3.  5.5 2.1]\n",
            " [5.7 2.5 5.  2. ]\n",
            " [5.8 2.8 5.1 2.4]\n",
            " [6.4 3.2 5.3 2.3]\n",
            " [6.5 3.  5.5 1.8]\n",
            " [7.7 3.8 6.7 2.2]\n",
            " [7.7 2.6 6.9 2.3]\n",
            " [6.  2.2 5.  1.5]\n",
            " [6.9 3.2 5.7 2.3]\n",
            " [5.6 2.8 4.9 2. ]\n",
            " [7.7 2.8 6.7 2. ]\n",
            " [6.3 2.7 4.9 1.8]\n",
            " [6.7 3.3 5.7 2.1]\n",
            " [7.2 3.2 6.  1.8]\n",
            " [6.2 2.8 4.8 1.8]\n",
            " [6.1 3.  4.9 1.8]\n",
            " [6.4 2.8 5.6 2.1]\n",
            " [7.2 3.  5.8 1.6]\n",
            " [7.4 2.8 6.1 1.9]\n",
            " [7.9 3.8 6.4 2. ]\n",
            " [6.4 2.8 5.6 2.2]\n",
            " [6.3 2.8 5.1 1.5]\n",
            " [6.1 2.6 5.6 1.4]\n",
            " [7.7 3.  6.1 2.3]\n",
            " [6.3 3.4 5.6 2.4]\n",
            " [6.4 3.1 5.5 1.8]\n",
            " [6.  3.  4.8 1.8]\n",
            " [6.9 3.1 5.4 2.1]\n",
            " [6.7 3.1 5.6 2.4]\n",
            " [6.9 3.1 5.1 2.3]\n",
            " [5.8 2.7 5.1 1.9]\n",
            " [6.8 3.2 5.9 2.3]\n",
            " [6.7 3.3 5.7 2.5]\n",
            " [6.7 3.  5.2 2.3]\n",
            " [6.3 2.5 5.  1.9]\n",
            " [6.5 3.  5.2 2. ]\n",
            " [6.2 3.4 5.4 2.3]\n",
            " [5.9 3.  5.1 1.8]]\n",
            "\n",
            " target의 type: <class 'numpy.ndarray'>\n",
            "target의 shape: 150\n",
            "[0 0 0 0 0 0 0 0 0 0 0 0 0 0 0 0 0 0 0 0 0 0 0 0 0 0 0 0 0 0 0 0 0 0 0 0 0\n",
            " 0 0 0 0 0 0 0 0 0 0 0 0 0 1 1 1 1 1 1 1 1 1 1 1 1 1 1 1 1 1 1 1 1 1 1 1 1\n",
            " 1 1 1 1 1 1 1 1 1 1 1 1 1 1 1 1 1 1 1 1 1 1 1 1 1 1 2 2 2 2 2 2 2 2 2 2 2\n",
            " 2 2 2 2 2 2 2 2 2 2 2 2 2 2 2 2 2 2 2 2 2 2 2 2 2 2 2 2 2 2 2 2 2 2 2 2 2\n",
            " 2 2]\n"
          ]
        }
      ]
    },
    {
      "cell_type": "markdown",
      "source": [
        "### [04 Model Selection 모듈 소개]\n",
        "### [학습/테스트 데이터 세트 분리 - train_test_split()]"
      ],
      "metadata": {
        "id": "Za-Brk14ALmK"
      }
    },
    {
      "cell_type": "markdown",
      "source": [
        "* 테스트 데이터 세트를 이요하지 않고 학습 데이터 세트로만 학습하고 예측하면 발생하는 문제점"
      ],
      "metadata": {
        "id": "ONVHxP_srC56"
      }
    },
    {
      "cell_type": "code",
      "source": [
        "from sklearn.datasets import load_iris\n",
        "from sklearn.tree import DecisionTreeClassifier\n",
        "from sklearn.metrics import accuracy_score\n",
        "\n",
        "iris = load_iris()\n",
        "dt_clf = DecisionTreeClassifier()\n",
        "train_data = iris.data\n",
        "train_label = iris.target\n",
        "dt_clf.fit(train_data, train_label)\n",
        "\n",
        "# 학습 데이터 세트로 예측 수행\n",
        "pred = dt_clf.predict(train_data)\n",
        "print('예측 정확도:', accuracy_score(train_label, pred))"
      ],
      "metadata": {
        "colab": {
          "base_uri": "https://localhost:8080/"
        },
        "id": "cL1Yb8vvrIBM",
        "outputId": "622ed00d-adce-478e-9acb-22d6038a2b0a"
      },
      "execution_count": 65,
      "outputs": [
        {
          "output_type": "stream",
          "name": "stdout",
          "text": [
            "예측 정확도: 1.0\n"
          ]
        }
      ]
    },
    {
      "cell_type": "markdown",
      "source": [
        "* 정확도 100%\n",
        "* 이미 학습한 학습 데이터 세트를 기반으로 예측함\n",
        "* 예측을 수행하는 데이터 세트는 학습을 수행한 학습용 데이터 세트가 아닌 전용의 테스트 데이터 세트여야 함"
      ],
      "metadata": {
        "id": "o-_e2_CXrsfL"
      }
    },
    {
      "cell_type": "markdown",
      "source": [
        "train_test_split()\n",
        "* 첫 번째 파라미터 : 피처 데이터 세트\n",
        "* 두 번째 파라미터 : 레이블 데이터 세트\n",
        "* 추가 파라미터 : test_size, train_size, shuffle, random_state"
      ],
      "metadata": {
        "id": "vlQt-OGxr_wD"
      }
    },
    {
      "cell_type": "code",
      "source": [
        "# 테스트 데이터 세트를 전체의 30%. 학습 데이터 세트를 70%\n",
        "\n",
        "from sklearn.tree import DecisionTreeClassifier\n",
        "from sklearn.metrics import accuracy_score\n",
        "from sklearn.datasets import load_iris\n",
        "from sklearn.model_selection import train_test_split\n",
        "\n",
        "dt_clf = DecisionTreeClassifier()\n",
        "iris_data = load_iris()\n",
        "\n",
        "X_train, X_test, y_train, y_test = train_test_split(iris_data.data, iris_data.target, \\\n",
        "                                                    test_size = 0.3, random_state=121)"
      ],
      "metadata": {
        "id": "Vmqdz2ncsSRy"
      },
      "execution_count": 66,
      "outputs": []
    },
    {
      "cell_type": "code",
      "source": [
        "dt_clf.fit(X_train, y_train)\n",
        "pred = dt_clf.predict(X_test)\n",
        "print('예측 정확도: {0:.4f}'.format(accuracy_score(y_test, pred)))"
      ],
      "metadata": {
        "colab": {
          "base_uri": "https://localhost:8080/"
        },
        "id": "tFe8Pt9Ns4pZ",
        "outputId": "1f87059f-850b-4568-9d7a-75f08f947209"
      },
      "execution_count": 67,
      "outputs": [
        {
          "output_type": "stream",
          "name": "stdout",
          "text": [
            "예측 정확도: 0.9556\n"
          ]
        }
      ]
    },
    {
      "cell_type": "markdown",
      "source": [
        "[교차 검증]\n",
        "* 과적합 문제 해결 위해\n",
        "* 과적합 : 모델이 학습 데이터에만 과도하게 최적화되어, 실제 예측을 다른 데이터로 수행할 경우에는 예측 성능이 과도하게 떨어지는 것\n",
        "* 교차 검증 : 데이터 편중을 막기 위해 별도의 여러 세트로 구성된 학습 데이터 세트와 검증 데이터 세트에서 학습과 평가를 수행, 각 세트에서 수행한 평가 결과에 따라 하이퍼 파라미터 튜닝 등의 모델 최적화를 더욱 손쉽게 할 수 있음"
      ],
      "metadata": {
        "id": "HjguHOTmt5N7"
      }
    },
    {
      "cell_type": "markdown",
      "source": [
        "#### 1) K 폴드 교차 검증\n",
        "* 가장 보편적으로 사용되는 교차 검증 기법\n",
        "* K개의 데이터 폴드 세트를 만들어서 K번만큼 각 폴트 세트에 학습과 검증 평가를 반복적으로 수행하는 방법\n",
        "![image.png](data:image/png;base64,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)"
      ],
      "metadata": {
        "id": "cV7QTYEEu1j_"
      }
    },
    {
      "cell_type": "markdown",
      "source": [
        "* 사이킷런에서 K 폴드 교차 검증 프로세스 구현을 위해 KFold와 StratifiedKFold 클래스를 제공"
      ],
      "metadata": {
        "id": "_hvZST3UvLcc"
      }
    },
    {
      "cell_type": "markdown",
      "source": [
        "* Kfold 클래스 이용\n",
        "* 붓꽃 데이터 세트와 DecisionTreeClassifier를 다시 생성, 5개의 폴드 세트로 분리하는 KFold 객체를 생성"
      ],
      "metadata": {
        "id": "OhKNMPXUvcT1"
      }
    },
    {
      "cell_type": "code",
      "source": [
        "from sklearn.tree import DecisionTreeClassifier\n",
        "from sklearn.metrics import accuracy_score\n",
        "from sklearn.model_selection import KFold\n",
        "import numpy as np\n",
        "\n",
        "iris = load_iris()\n",
        "features = iris.data\n",
        "label = iris.target\n",
        "dt_clf = DecisionTreeClassifier(random_state = 156)\n",
        "\n",
        "# 5개의 폴드 세트로 분리하는 KFold 객체와 폴드 세트별 정확도를 담을 리스트 객체 생성\n",
        "kfold = KFold(n_splits=5)\n",
        "cv_accuracy = []\n",
        "print('붓꽃 데이터 세트 크기:', features.shape[0])"
      ],
      "metadata": {
        "colab": {
          "base_uri": "https://localhost:8080/"
        },
        "id": "xfNFyXiBvmjk",
        "outputId": "73dcd7ea-7225-4d3b-df06-9ba9ca45a6b1"
      },
      "execution_count": 68,
      "outputs": [
        {
          "output_type": "stream",
          "name": "stdout",
          "text": [
            "붓꽃 데이터 세트 크기: 150\n"
          ]
        }
      ]
    },
    {
      "cell_type": "markdown",
      "source": [
        "* KFold(n_splits=5)로 KFold 객체를 생성, 생성된 KFold 객체의 split()을 호출해 전체 붓꽃 데이터를 5개의 폴드 데이터 세트로 분리\n",
        "* 학습용 데이터 세트 : 120개(4/5), 검증 테스트 데이터 세트 : 30개(1/5)\n",
        "* split() 호출 : 학습용/검증용 데이터로 분할할 수 있는 인덱스를 반환"
      ],
      "metadata": {
        "id": "jT6NlsRqwj_O"
      }
    },
    {
      "cell_type": "code",
      "source": [
        "n_iter = 0\n",
        "\n",
        "# KFold 객체의 split()를 호출하면 폴드별 학습용, 검증용 테스트의 로우 인덱스를 array로 반환\n",
        "for train_index, test_index in kfold.split(features):\n",
        "    # kfold.split()으로 반환된 인덱스를 이용해 학습용, 검증용 테스트 데이터 추출\n",
        "    X_train, X_test = features[train_index], features[test_index]\n",
        "    y_train, y_test = label[train_index], label[test_index]\n",
        "    # 학습 및 예측\n",
        "    dt_clf.fit(X_train, y_train)\n",
        "    pred = dt_clf.predict(X_test)\n",
        "    n_iter +=1\n",
        "    # 반복 시마다 정확도 측정\n",
        "    accuracy = np.round(accuracy_score(y_test, pred), 4)\n",
        "    train_size = X_train.shape[0]\n",
        "    test_size = X_test.shape[0]\n",
        "    print('\\n#{0} 교차 검증 정확도 : {1}, 학습 데이터 크기 : {2}, 검증 데이터 크기 : {3}'.format(n_iter,accuracy,train_size,test_size))\n",
        "    print('#{0} 검증 세트 인덱스 : {1}'.format(n_iter, test_index))\n",
        "    cv_accuracy.append(accuracy)\n",
        "\n",
        "# 개별 iteration별 정확도를 합하여 평균 정확도 계산\n",
        "print('\\n## 평균 검증 정확도:', np.mean(cv_accuracy))"
      ],
      "metadata": {
        "colab": {
          "base_uri": "https://localhost:8080/"
        },
        "id": "D1IoOd7axFFV",
        "outputId": "8a4d4862-1459-475f-b713-40149e2a2cb1"
      },
      "execution_count": 69,
      "outputs": [
        {
          "output_type": "stream",
          "name": "stdout",
          "text": [
            "\n",
            "#1 교차 검증 정확도 : 1.0, 학습 데이터 크기 : 120, 검증 데이터 크기 : 30\n",
            "#1 검증 세트 인덱스 : [ 0  1  2  3  4  5  6  7  8  9 10 11 12 13 14 15 16 17 18 19 20 21 22 23\n",
            " 24 25 26 27 28 29]\n",
            "\n",
            "#2 교차 검증 정확도 : 0.9667, 학습 데이터 크기 : 120, 검증 데이터 크기 : 30\n",
            "#2 검증 세트 인덱스 : [30 31 32 33 34 35 36 37 38 39 40 41 42 43 44 45 46 47 48 49 50 51 52 53\n",
            " 54 55 56 57 58 59]\n",
            "\n",
            "#3 교차 검증 정확도 : 0.8667, 학습 데이터 크기 : 120, 검증 데이터 크기 : 30\n",
            "#3 검증 세트 인덱스 : [60 61 62 63 64 65 66 67 68 69 70 71 72 73 74 75 76 77 78 79 80 81 82 83\n",
            " 84 85 86 87 88 89]\n",
            "\n",
            "#4 교차 검증 정확도 : 0.9333, 학습 데이터 크기 : 120, 검증 데이터 크기 : 30\n",
            "#4 검증 세트 인덱스 : [ 90  91  92  93  94  95  96  97  98  99 100 101 102 103 104 105 106 107\n",
            " 108 109 110 111 112 113 114 115 116 117 118 119]\n",
            "\n",
            "#5 교차 검증 정확도 : 0.7333, 학습 데이터 크기 : 120, 검증 데이터 크기 : 30\n",
            "#5 검증 세트 인덱스 : [120 121 122 123 124 125 126 127 128 129 130 131 132 133 134 135 136 137\n",
            " 138 139 140 141 142 143 144 145 146 147 148 149]\n",
            "\n",
            "## 평균 검증 정확도: 0.9\n"
          ]
        }
      ]
    },
    {
      "cell_type": "markdown",
      "source": [
        "#### 2) Stratified K 폴드\n",
        "* 불균형한 분포도를 가진 레이블(결정 클래스) 데이터 집합을 위한 K 폴드 방식\n",
        "* 불균형한 분포도를 가진 레이블 데이터 집합 : 특정 레이블 값이 특이하게 많거나 매우 적어서 값의 분포가 한쪽으로 치우지는 것\n",
        "* K 폴드가 레이블 데이터 집합이 원본 데이터 집합의 레이블 분포를 학습 및 테스트 세트에 제대로 분배하지 못하는 경우의 문제를 해결\n",
        "* 원본 데이터의 레이블 분포를 먼저 고려한 뒤 이 분포와 동일하게 학습과 검증 데이터 세트를 분배"
      ],
      "metadata": {
        "id": "pwMzYwlEyrWI"
      }
    },
    {
      "cell_type": "code",
      "source": [
        "import pandas as pd\n",
        "\n",
        "iris = load_iris()\n",
        "iris_df = pd.DataFrame(data = iris.data, columns = iris.feature_names)\n",
        "iris_df['label'] = iris.target\n",
        "iris_df['label'].value_counts()"
      ],
      "metadata": {
        "colab": {
          "base_uri": "https://localhost:8080/",
          "height": 209
        },
        "id": "Fw0F3UzUzdC-",
        "outputId": "ea56ed70-e481-4b63-80fe-18738d1655ef"
      },
      "execution_count": 70,
      "outputs": [
        {
          "output_type": "execute_result",
          "data": {
            "text/plain": [
              "label\n",
              "0    50\n",
              "1    50\n",
              "2    50\n",
              "Name: count, dtype: int64"
            ],
            "text/html": [
              "<div>\n",
              "<style scoped>\n",
              "    .dataframe tbody tr th:only-of-type {\n",
              "        vertical-align: middle;\n",
              "    }\n",
              "\n",
              "    .dataframe tbody tr th {\n",
              "        vertical-align: top;\n",
              "    }\n",
              "\n",
              "    .dataframe thead th {\n",
              "        text-align: right;\n",
              "    }\n",
              "</style>\n",
              "<table border=\"1\" class=\"dataframe\">\n",
              "  <thead>\n",
              "    <tr style=\"text-align: right;\">\n",
              "      <th></th>\n",
              "      <th>count</th>\n",
              "    </tr>\n",
              "    <tr>\n",
              "      <th>label</th>\n",
              "      <th></th>\n",
              "    </tr>\n",
              "  </thead>\n",
              "  <tbody>\n",
              "    <tr>\n",
              "      <th>0</th>\n",
              "      <td>50</td>\n",
              "    </tr>\n",
              "    <tr>\n",
              "      <th>1</th>\n",
              "      <td>50</td>\n",
              "    </tr>\n",
              "    <tr>\n",
              "      <th>2</th>\n",
              "      <td>50</td>\n",
              "    </tr>\n",
              "  </tbody>\n",
              "</table>\n",
              "</div><br><label><b>dtype:</b> int64</label>"
            ]
          },
          "metadata": {},
          "execution_count": 70
        }
      ]
    },
    {
      "cell_type": "code",
      "source": [
        "# 이슈가 발생하는 현상 도출을 위해 3개의 폴드 세트를 KFold로 생성\n",
        "# 각 교차 검증 시마다 생성되는 학습/검증 레이블 데이터 값의 분포도를 확인\n",
        "kfold = KFold(n_splits=3)\n",
        "n_iter = 0\n",
        "for train_index, test_index in kfold.split(iris_df):\n",
        "    n_iter +=1\n",
        "    label_train = iris_df['label'].iloc[train_index]\n",
        "    label_test = iris_df['label'].iloc[test_index]\n",
        "    print('##교차 검증: {0}'.format(n_iter))\n",
        "    print('학습 레이블 데이터 분포:\\n', label_train.value_counts())\n",
        "    print('검증 레이블 데이터 분포:\\n', label_test.value_counts())"
      ],
      "metadata": {
        "colab": {
          "base_uri": "https://localhost:8080/"
        },
        "id": "X3Cwyf9H0DeV",
        "outputId": "f402d9d0-1161-45e1-c15b-f24e2455c039"
      },
      "execution_count": 71,
      "outputs": [
        {
          "output_type": "stream",
          "name": "stdout",
          "text": [
            "##교차 검증: 1\n",
            "학습 레이블 데이터 분포:\n",
            " label\n",
            "1    50\n",
            "2    50\n",
            "Name: count, dtype: int64\n",
            "검증 레이블 데이터 분포:\n",
            " label\n",
            "0    50\n",
            "Name: count, dtype: int64\n",
            "##교차 검증: 2\n",
            "학습 레이블 데이터 분포:\n",
            " label\n",
            "0    50\n",
            "2    50\n",
            "Name: count, dtype: int64\n",
            "검증 레이블 데이터 분포:\n",
            " label\n",
            "1    50\n",
            "Name: count, dtype: int64\n",
            "##교차 검증: 3\n",
            "학습 레이블 데이터 분포:\n",
            " label\n",
            "0    50\n",
            "1    50\n",
            "Name: count, dtype: int64\n",
            "검증 레이블 데이터 분포:\n",
            " label\n",
            "2    50\n",
            "Name: count, dtype: int64\n"
          ]
        }
      ]
    },
    {
      "cell_type": "markdown",
      "source": [
        "학습 레이블이 1,2밖에 없으므로 0의 경우는 전혀 학습하지 못함 -> 검증 예측 정확도는 0\n",
        "\n"
      ],
      "metadata": {
        "id": "JV274QJoz99_"
      }
    },
    {
      "cell_type": "markdown",
      "source": [
        "* StratifiedKFold 사용\n",
        "* 레이블 데이터 분포도에 따라 학습/검증 데이터를 나누기 때문에 split() 메서드에 인자로 피처 데이터 세트뿐만 아니라 레이블 데이터 세트도 반드시 필요함"
      ],
      "metadata": {
        "id": "HrSmN49B1KuM"
      }
    },
    {
      "cell_type": "code",
      "source": [
        "from sklearn.model_selection import StratifiedKFold\n",
        "\n",
        "skf = StratifiedKFold(n_splits=3)\n",
        "n_iter = 0\n",
        "\n",
        "for train_index, test_index in skf.split(iris_df, iris_df['label']) :\n",
        "    n_iter+=1\n",
        "    label_train = iris_df['label'].iloc[train_index]\n",
        "    label_test = iris_df['label'].iloc[test_index]\n",
        "    print('## 교차 검증:{0}'.format(n_iter))\n",
        "    print('학습 레이블 데이터 분포:\\n', label_train.value_counts())\n",
        "    print('검증 레이블 데이터 분포:\\n', label_test.value_counts())"
      ],
      "metadata": {
        "colab": {
          "base_uri": "https://localhost:8080/"
        },
        "id": "T3N7307C1cYV",
        "outputId": "0d873b0f-b8db-40d8-a8e9-63d989b53ffe"
      },
      "execution_count": 72,
      "outputs": [
        {
          "output_type": "stream",
          "name": "stdout",
          "text": [
            "## 교차 검증:1\n",
            "학습 레이블 데이터 분포:\n",
            " label\n",
            "2    34\n",
            "0    33\n",
            "1    33\n",
            "Name: count, dtype: int64\n",
            "검증 레이블 데이터 분포:\n",
            " label\n",
            "0    17\n",
            "1    17\n",
            "2    16\n",
            "Name: count, dtype: int64\n",
            "## 교차 검증:2\n",
            "학습 레이블 데이터 분포:\n",
            " label\n",
            "1    34\n",
            "0    33\n",
            "2    33\n",
            "Name: count, dtype: int64\n",
            "검증 레이블 데이터 분포:\n",
            " label\n",
            "0    17\n",
            "2    17\n",
            "1    16\n",
            "Name: count, dtype: int64\n",
            "## 교차 검증:3\n",
            "학습 레이블 데이터 분포:\n",
            " label\n",
            "0    34\n",
            "1    33\n",
            "2    33\n",
            "Name: count, dtype: int64\n",
            "검증 레이블 데이터 분포:\n",
            " label\n",
            "1    17\n",
            "2    17\n",
            "0    16\n",
            "Name: count, dtype: int64\n"
          ]
        }
      ]
    },
    {
      "cell_type": "markdown",
      "source": [
        "학습 레이블과 검증 레이블 데이터 값의 분포도가 거의 동일하게 할당됐음"
      ],
      "metadata": {
        "id": "ByHau54q2Oeh"
      }
    },
    {
      "cell_type": "code",
      "source": [
        "df_clf = DecisionTreeClassifier(random_state = 156)\n",
        "\n",
        "skfold = StratifiedKFold(n_splits=3)\n",
        "n_iter=0\n",
        "cv_accuracy=[]\n",
        "\n",
        "# StratifiedKFold의 split() 호출 시 반드시 레이블 데이터 세트도 추가 입력 필요\n",
        "for train_index, test_index in skfold.split(features, label):\n",
        "    # split()으로 반환된 인덱스를 이용해 학습용, 검증용 테스트 데이터 추출\n",
        "    X_train, X_test = features[train_index], features[test_index]\n",
        "    y_train, y_test = label[train_index], label[test_index]\n",
        "    # 학습 및 예측\n",
        "    dt_clf.fit(X_train, y_train)\n",
        "    pred = dt_clf.predict(X_test)\n",
        "\n",
        "    # 반복 시마다 정확도 측정\n",
        "    n_iter += 1\n",
        "    accuracy = np.round(accuracy_score(y_test, pred), 4)\n",
        "    train_size = X_train.shape[0]\n",
        "    test_size = X_test.shape[0]\n",
        "    print('\\n#{0} 교차 검증 정확도 : {1}, 학습 데이터 크기 : {2}, 검증 데이터 크기 : {3}'.format(n_iter, accuracy, train_size, test_size))\n",
        "    print('#{0} 검증 세트 인덱스:{1}'.format(n_iter, test_index))\n",
        "    cv_accuracy.append(accuracy)\n",
        "\n",
        "# 교차 검증별 정확도 및 평균 정확도 계산\n",
        "print('n\\## 교차 검증별 정확도 :', np.round(cv_accuracy, 4))\n",
        "print('## 평균 검증 정확도:', np.round(np.mean(cv_accuracy), 4))"
      ],
      "metadata": {
        "colab": {
          "base_uri": "https://localhost:8080/"
        },
        "id": "AMPGeIDx2TdE",
        "outputId": "1c269953-2b43-41fa-fd82-8c5074551f2a"
      },
      "execution_count": 73,
      "outputs": [
        {
          "output_type": "stream",
          "name": "stdout",
          "text": [
            "\n",
            "#1 교차 검증 정확도 : 0.98, 학습 데이터 크기 : 100, 검증 데이터 크기 : 50\n",
            "#1 검증 세트 인덱스:[  0   1   2   3   4   5   6   7   8   9  10  11  12  13  14  15  16  50\n",
            "  51  52  53  54  55  56  57  58  59  60  61  62  63  64  65  66 100 101\n",
            " 102 103 104 105 106 107 108 109 110 111 112 113 114 115]\n",
            "\n",
            "#2 교차 검증 정확도 : 0.94, 학습 데이터 크기 : 100, 검증 데이터 크기 : 50\n",
            "#2 검증 세트 인덱스:[ 17  18  19  20  21  22  23  24  25  26  27  28  29  30  31  32  33  67\n",
            "  68  69  70  71  72  73  74  75  76  77  78  79  80  81  82 116 117 118\n",
            " 119 120 121 122 123 124 125 126 127 128 129 130 131 132]\n",
            "\n",
            "#3 교차 검증 정확도 : 0.98, 학습 데이터 크기 : 100, 검증 데이터 크기 : 50\n",
            "#3 검증 세트 인덱스:[ 34  35  36  37  38  39  40  41  42  43  44  45  46  47  48  49  83  84\n",
            "  85  86  87  88  89  90  91  92  93  94  95  96  97  98  99 133 134 135\n",
            " 136 137 138 139 140 141 142 143 144 145 146 147 148 149]\n",
            "n\\## 교차 검증별 정확도 : [0.98 0.94 0.98]\n",
            "## 평균 검증 정확도: 0.9667\n"
          ]
        }
      ]
    },
    {
      "cell_type": "markdown",
      "source": [
        "* Stratified K 폴드 : 원본 데이터의 레이블 분포도 특성을 반영한 학습 및 검증 데이터 세트를 만들 수 있음\n",
        "* 왜곡된 레이블 데이터 세트에서 반드시 사용\n",
        "* 분류에서의 교차 검증 : K 폴드가 아니라 Stratified K 폴드로 분할\n",
        "* 회귀에서 : Stratified K 폴드가 지원되지 않음"
      ],
      "metadata": {
        "id": "RTzNqzLc33pP"
      }
    },
    {
      "cell_type": "markdown",
      "source": [
        "### 3) 교차 검증을 보다 간편하게 - cross_val_score()\n",
        "\n",
        "\n",
        "```\n",
        "cross_val_score(estimator, X, y=None, scoring = None, cv=None, n_jobs=1, verbose=0, fit_params=None, pre_dispatch='2*n_jobs')\n",
        "```\n",
        "* estimator : 사이킷런의 분류 알고리즘 클래스인 Classifier 또는 회귀 알고리즘 클래스인 Regressor\n",
        "* X : 피처 데이터 세트\n",
        "* y : 레이블 데이터 세트\n",
        "* scoring : 예측 성능 평가 지표를 기술\n",
        "* cv : 교차 검증 폴드 수\n",
        "* cross_val_score() 수행 후 반환 값 : scoring 파라미터로 지정된 성능 지표 측정값을 배열 형태로 반환\n",
        "* cross_val_score()는 classifier가 입력되면 Stratified K 폴드 방식으로 레이블값의 분포에 따라 학습/테스트 세트를 분할 (회귀인 경우 : K 폴드 방식으로 분할)\n",
        "\n"
      ],
      "metadata": {
        "id": "b5cmDhVh4NWP"
      }
    },
    {
      "cell_type": "code",
      "source": [
        "from sklearn.tree import DecisionTreeClassifier\n",
        "from sklearn.model_selection import cross_val_score, cross_validate\n",
        "from sklearn.datasets import load_iris\n",
        "\n",
        "iris_data = load_iris()\n",
        "dt_clf = DecisionTreeClassifier(random_state = 156)\n",
        "\n",
        "data = iris_data.data\n",
        "label = iris_data.target\n",
        "\n",
        "# 성능 지표는 정확도(accuracy), 교차 검증 세트는 3개\n",
        "scores = cross_val_score(dt_clf, data, label, scoring='accuracy', cv=3)\n",
        "print('교차 검증별 정확도:', np.round(scores, 4))\n",
        "print('평균 검증 정확도:', np.round(np.mean(scores),4))"
      ],
      "metadata": {
        "colab": {
          "base_uri": "https://localhost:8080/"
        },
        "id": "k4LNX1ng5UIZ",
        "outputId": "d16f4736-c21a-4979-867d-7b4b29a05178"
      },
      "execution_count": 74,
      "outputs": [
        {
          "output_type": "stream",
          "name": "stdout",
          "text": [
            "교차 검증별 정확도: [0.98 0.94 0.98]\n",
            "평균 검증 정확도: 0.9667\n"
          ]
        }
      ]
    },
    {
      "cell_type": "markdown",
      "source": [
        "### [GridSearchCV - 교차 검증과 최적 하이퍼 파라미터 튜닝을 한 번에]\n",
        "* 하이퍼 파라미터 : 머신러닝 알고리즘을 구성하는 주요 구성 요소, 이 값을 조정해 알고리즘의 예측 성능을 개선\n",
        "* 사이킷런은 GridSearchCV API를 이용하여 Classifier나 Regressor와 같은 알고리즘에 사용되는 하이퍼 파라미터를 순차적으로 입력하면서 편리하게 최적의 파라미터를 도출할 수 있는 방안을 제공"
      ],
      "metadata": {
        "id": "P7fupz9q6ELM"
      }
    },
    {
      "cell_type": "code",
      "source": [
        "# 결정 트리 알고리즘의 여러 하이퍼 파라미터를 순차적으로 변경하면서 최고 성능을 가지는 파라미터 조합을 찾기\n",
        "# 파라미터의 집합을 만들고 이를 순차적으로 적용함녀서 최적화를 수행\n",
        "\n",
        "grid_parameters = {'max_depth': [1, 2, 3],\n",
        "                   'min_samples_split': [2, 3]}"
      ],
      "metadata": {
        "id": "pBkoGS6E-Nk_"
      },
      "execution_count": 75,
      "outputs": []
    },
    {
      "cell_type": "code",
      "source": [
        "from sklearn.datasets import load_iris\n",
        "from sklearn.tree import DecisionTreeClassifier\n",
        "from sklearn.model_selection import GridSearchCV\n",
        "\n",
        "#데이터를 로딩하고 학습 데이터와 테스트 데이터 분리\n",
        "iris_data = load_iris()\n",
        "X_train, X_test, y_train, y_test = train_test_split(iris_data.data, iris_data.target,\n",
        "                                                    test_size=0.2, random_state=121)\n",
        "dtree = DecisionTreeClassifier()\n",
        "\n",
        "#파라미터를 딕셔너리 형태로 설정\n",
        "parameters = {'max_depth': [1, 2, 3], 'min_samples_split': [1, 2, 3]}"
      ],
      "metadata": {
        "id": "H_9wvjvU-P4t"
      },
      "execution_count": 76,
      "outputs": []
    },
    {
      "cell_type": "code",
      "source": [
        "import pandas as pd\n",
        "\n",
        "#param_grid의 하이퍼 파라미터를 3개의 train, test set fold로 우누어트테스트 수행 설정\n",
        "#refit=True가 default. True이면 가장 좋은 파라미터 설정으로 재학습시킴\n",
        "grid_dtree = GridSearchCV(dtree, param_grid=parameters, cv=3, refit=True)"
      ],
      "metadata": {
        "id": "BxrXsaYn-Sty"
      },
      "execution_count": 77,
      "outputs": []
    },
    {
      "cell_type": "code",
      "source": [
        "#붓꽃 학습 데이터로 param_grid의 하이퍼 파라미터를 순차적으로 학습/평가\n",
        "grid_dtree.fit(X_train, y_train)\n",
        "\n",
        "#GridSearchCV 결과를 추출해 DataFrame으로 변환\n",
        "scores_df = pd.DataFrame(grid_dtree.cv_results_)\n",
        "scores_df[['params', 'mean_test_score', 'rank_test_score',\n",
        "           'split0_test_score', 'split1_test_score', 'split2_test_score']]"
      ],
      "metadata": {
        "colab": {
          "base_uri": "https://localhost:8080/",
          "height": 770
        },
        "id": "db8dJ3Mw-ViB",
        "outputId": "1aa934c4-5f25-43e6-f618-87ec2bc561c1"
      },
      "execution_count": 78,
      "outputs": [
        {
          "output_type": "stream",
          "name": "stderr",
          "text": [
            "/usr/local/lib/python3.10/dist-packages/sklearn/model_selection/_validation.py:540: FitFailedWarning: \n",
            "9 fits failed out of a total of 27.\n",
            "The score on these train-test partitions for these parameters will be set to nan.\n",
            "If these failures are not expected, you can try to debug them by setting error_score='raise'.\n",
            "\n",
            "Below are more details about the failures:\n",
            "--------------------------------------------------------------------------------\n",
            "9 fits failed with the following error:\n",
            "Traceback (most recent call last):\n",
            "  File \"/usr/local/lib/python3.10/dist-packages/sklearn/model_selection/_validation.py\", line 888, in _fit_and_score\n",
            "    estimator.fit(X_train, y_train, **fit_params)\n",
            "  File \"/usr/local/lib/python3.10/dist-packages/sklearn/base.py\", line 1466, in wrapper\n",
            "    estimator._validate_params()\n",
            "  File \"/usr/local/lib/python3.10/dist-packages/sklearn/base.py\", line 666, in _validate_params\n",
            "    validate_parameter_constraints(\n",
            "  File \"/usr/local/lib/python3.10/dist-packages/sklearn/utils/_param_validation.py\", line 95, in validate_parameter_constraints\n",
            "    raise InvalidParameterError(\n",
            "sklearn.utils._param_validation.InvalidParameterError: The 'min_samples_split' parameter of DecisionTreeClassifier must be an int in the range [2, inf) or a float in the range (0.0, 1.0]. Got 1 instead.\n",
            "\n",
            "  warnings.warn(some_fits_failed_message, FitFailedWarning)\n",
            "/usr/local/lib/python3.10/dist-packages/sklearn/model_selection/_search.py:1103: UserWarning: One or more of the test scores are non-finite: [       nan 0.7        0.7               nan 0.95833333 0.95833333\n",
            "        nan 0.975      0.975     ]\n",
            "  warnings.warn(\n"
          ]
        },
        {
          "output_type": "execute_result",
          "data": {
            "text/plain": [
              "                                     params  mean_test_score  rank_test_score  \\\n",
              "0  {'max_depth': 1, 'min_samples_split': 1}              NaN                7   \n",
              "1  {'max_depth': 1, 'min_samples_split': 2}         0.700000                5   \n",
              "2  {'max_depth': 1, 'min_samples_split': 3}         0.700000                5   \n",
              "3  {'max_depth': 2, 'min_samples_split': 1}              NaN                7   \n",
              "4  {'max_depth': 2, 'min_samples_split': 2}         0.958333                3   \n",
              "5  {'max_depth': 2, 'min_samples_split': 3}         0.958333                3   \n",
              "6  {'max_depth': 3, 'min_samples_split': 1}              NaN                7   \n",
              "7  {'max_depth': 3, 'min_samples_split': 2}         0.975000                1   \n",
              "8  {'max_depth': 3, 'min_samples_split': 3}         0.975000                1   \n",
              "\n",
              "   split0_test_score  split1_test_score  split2_test_score  \n",
              "0                NaN                NaN                NaN  \n",
              "1              0.700                0.7               0.70  \n",
              "2              0.700                0.7               0.70  \n",
              "3                NaN                NaN                NaN  \n",
              "4              0.925                1.0               0.95  \n",
              "5              0.925                1.0               0.95  \n",
              "6                NaN                NaN                NaN  \n",
              "7              0.975                1.0               0.95  \n",
              "8              0.975                1.0               0.95  "
            ],
            "text/html": [
              "\n",
              "  <div id=\"df-e297b169-75b8-41dc-80df-5b7d79ecd94b\" class=\"colab-df-container\">\n",
              "    <div>\n",
              "<style scoped>\n",
              "    .dataframe tbody tr th:only-of-type {\n",
              "        vertical-align: middle;\n",
              "    }\n",
              "\n",
              "    .dataframe tbody tr th {\n",
              "        vertical-align: top;\n",
              "    }\n",
              "\n",
              "    .dataframe thead th {\n",
              "        text-align: right;\n",
              "    }\n",
              "</style>\n",
              "<table border=\"1\" class=\"dataframe\">\n",
              "  <thead>\n",
              "    <tr style=\"text-align: right;\">\n",
              "      <th></th>\n",
              "      <th>params</th>\n",
              "      <th>mean_test_score</th>\n",
              "      <th>rank_test_score</th>\n",
              "      <th>split0_test_score</th>\n",
              "      <th>split1_test_score</th>\n",
              "      <th>split2_test_score</th>\n",
              "    </tr>\n",
              "  </thead>\n",
              "  <tbody>\n",
              "    <tr>\n",
              "      <th>0</th>\n",
              "      <td>{'max_depth': 1, 'min_samples_split': 1}</td>\n",
              "      <td>NaN</td>\n",
              "      <td>7</td>\n",
              "      <td>NaN</td>\n",
              "      <td>NaN</td>\n",
              "      <td>NaN</td>\n",
              "    </tr>\n",
              "    <tr>\n",
              "      <th>1</th>\n",
              "      <td>{'max_depth': 1, 'min_samples_split': 2}</td>\n",
              "      <td>0.700000</td>\n",
              "      <td>5</td>\n",
              "      <td>0.700</td>\n",
              "      <td>0.7</td>\n",
              "      <td>0.70</td>\n",
              "    </tr>\n",
              "    <tr>\n",
              "      <th>2</th>\n",
              "      <td>{'max_depth': 1, 'min_samples_split': 3}</td>\n",
              "      <td>0.700000</td>\n",
              "      <td>5</td>\n",
              "      <td>0.700</td>\n",
              "      <td>0.7</td>\n",
              "      <td>0.70</td>\n",
              "    </tr>\n",
              "    <tr>\n",
              "      <th>3</th>\n",
              "      <td>{'max_depth': 2, 'min_samples_split': 1}</td>\n",
              "      <td>NaN</td>\n",
              "      <td>7</td>\n",
              "      <td>NaN</td>\n",
              "      <td>NaN</td>\n",
              "      <td>NaN</td>\n",
              "    </tr>\n",
              "    <tr>\n",
              "      <th>4</th>\n",
              "      <td>{'max_depth': 2, 'min_samples_split': 2}</td>\n",
              "      <td>0.958333</td>\n",
              "      <td>3</td>\n",
              "      <td>0.925</td>\n",
              "      <td>1.0</td>\n",
              "      <td>0.95</td>\n",
              "    </tr>\n",
              "    <tr>\n",
              "      <th>5</th>\n",
              "      <td>{'max_depth': 2, 'min_samples_split': 3}</td>\n",
              "      <td>0.958333</td>\n",
              "      <td>3</td>\n",
              "      <td>0.925</td>\n",
              "      <td>1.0</td>\n",
              "      <td>0.95</td>\n",
              "    </tr>\n",
              "    <tr>\n",
              "      <th>6</th>\n",
              "      <td>{'max_depth': 3, 'min_samples_split': 1}</td>\n",
              "      <td>NaN</td>\n",
              "      <td>7</td>\n",
              "      <td>NaN</td>\n",
              "      <td>NaN</td>\n",
              "      <td>NaN</td>\n",
              "    </tr>\n",
              "    <tr>\n",
              "      <th>7</th>\n",
              "      <td>{'max_depth': 3, 'min_samples_split': 2}</td>\n",
              "      <td>0.975000</td>\n",
              "      <td>1</td>\n",
              "      <td>0.975</td>\n",
              "      <td>1.0</td>\n",
              "      <td>0.95</td>\n",
              "    </tr>\n",
              "    <tr>\n",
              "      <th>8</th>\n",
              "      <td>{'max_depth': 3, 'min_samples_split': 3}</td>\n",
              "      <td>0.975000</td>\n",
              "      <td>1</td>\n",
              "      <td>0.975</td>\n",
              "      <td>1.0</td>\n",
              "      <td>0.95</td>\n",
              "    </tr>\n",
              "  </tbody>\n",
              "</table>\n",
              "</div>\n",
              "    <div class=\"colab-df-buttons\">\n",
              "\n",
              "  <div class=\"colab-df-container\">\n",
              "    <button class=\"colab-df-convert\" onclick=\"convertToInteractive('df-e297b169-75b8-41dc-80df-5b7d79ecd94b')\"\n",
              "            title=\"Convert this dataframe to an interactive table.\"\n",
              "            style=\"display:none;\">\n",
              "\n",
              "  <svg xmlns=\"http://www.w3.org/2000/svg\" height=\"24px\" viewBox=\"0 -960 960 960\">\n",
              "    <path d=\"M120-120v-720h720v720H120Zm60-500h600v-160H180v160Zm220 220h160v-160H400v160Zm0 220h160v-160H400v160ZM180-400h160v-160H180v160Zm440 0h160v-160H620v160ZM180-180h160v-160H180v160Zm440 0h160v-160H620v160Z\"/>\n",
              "  </svg>\n",
              "    </button>\n",
              "\n",
              "  <style>\n",
              "    .colab-df-container {\n",
              "      display:flex;\n",
              "      gap: 12px;\n",
              "    }\n",
              "\n",
              "    .colab-df-convert {\n",
              "      background-color: #E8F0FE;\n",
              "      border: none;\n",
              "      border-radius: 50%;\n",
              "      cursor: pointer;\n",
              "      display: none;\n",
              "      fill: #1967D2;\n",
              "      height: 32px;\n",
              "      padding: 0 0 0 0;\n",
              "      width: 32px;\n",
              "    }\n",
              "\n",
              "    .colab-df-convert:hover {\n",
              "      background-color: #E2EBFA;\n",
              "      box-shadow: 0px 1px 2px rgba(60, 64, 67, 0.3), 0px 1px 3px 1px rgba(60, 64, 67, 0.15);\n",
              "      fill: #174EA6;\n",
              "    }\n",
              "\n",
              "    .colab-df-buttons div {\n",
              "      margin-bottom: 4px;\n",
              "    }\n",
              "\n",
              "    [theme=dark] .colab-df-convert {\n",
              "      background-color: #3B4455;\n",
              "      fill: #D2E3FC;\n",
              "    }\n",
              "\n",
              "    [theme=dark] .colab-df-convert:hover {\n",
              "      background-color: #434B5C;\n",
              "      box-shadow: 0px 1px 3px 1px rgba(0, 0, 0, 0.15);\n",
              "      filter: drop-shadow(0px 1px 2px rgba(0, 0, 0, 0.3));\n",
              "      fill: #FFFFFF;\n",
              "    }\n",
              "  </style>\n",
              "\n",
              "    <script>\n",
              "      const buttonEl =\n",
              "        document.querySelector('#df-e297b169-75b8-41dc-80df-5b7d79ecd94b button.colab-df-convert');\n",
              "      buttonEl.style.display =\n",
              "        google.colab.kernel.accessAllowed ? 'block' : 'none';\n",
              "\n",
              "      async function convertToInteractive(key) {\n",
              "        const element = document.querySelector('#df-e297b169-75b8-41dc-80df-5b7d79ecd94b');\n",
              "        const dataTable =\n",
              "          await google.colab.kernel.invokeFunction('convertToInteractive',\n",
              "                                                    [key], {});\n",
              "        if (!dataTable) return;\n",
              "\n",
              "        const docLinkHtml = 'Like what you see? Visit the ' +\n",
              "          '<a target=\"_blank\" href=https://colab.research.google.com/notebooks/data_table.ipynb>data table notebook</a>'\n",
              "          + ' to learn more about interactive tables.';\n",
              "        element.innerHTML = '';\n",
              "        dataTable['output_type'] = 'display_data';\n",
              "        await google.colab.output.renderOutput(dataTable, element);\n",
              "        const docLink = document.createElement('div');\n",
              "        docLink.innerHTML = docLinkHtml;\n",
              "        element.appendChild(docLink);\n",
              "      }\n",
              "    </script>\n",
              "  </div>\n",
              "\n",
              "\n",
              "<div id=\"df-2cbecfb4-5645-4079-b4f6-9c8715f9aa2e\">\n",
              "  <button class=\"colab-df-quickchart\" onclick=\"quickchart('df-2cbecfb4-5645-4079-b4f6-9c8715f9aa2e')\"\n",
              "            title=\"Suggest charts\"\n",
              "            style=\"display:none;\">\n",
              "\n",
              "<svg xmlns=\"http://www.w3.org/2000/svg\" height=\"24px\"viewBox=\"0 0 24 24\"\n",
              "     width=\"24px\">\n",
              "    <g>\n",
              "        <path d=\"M19 3H5c-1.1 0-2 .9-2 2v14c0 1.1.9 2 2 2h14c1.1 0 2-.9 2-2V5c0-1.1-.9-2-2-2zM9 17H7v-7h2v7zm4 0h-2V7h2v10zm4 0h-2v-4h2v4z\"/>\n",
              "    </g>\n",
              "</svg>\n",
              "  </button>\n",
              "\n",
              "<style>\n",
              "  .colab-df-quickchart {\n",
              "      --bg-color: #E8F0FE;\n",
              "      --fill-color: #1967D2;\n",
              "      --hover-bg-color: #E2EBFA;\n",
              "      --hover-fill-color: #174EA6;\n",
              "      --disabled-fill-color: #AAA;\n",
              "      --disabled-bg-color: #DDD;\n",
              "  }\n",
              "\n",
              "  [theme=dark] .colab-df-quickchart {\n",
              "      --bg-color: #3B4455;\n",
              "      --fill-color: #D2E3FC;\n",
              "      --hover-bg-color: #434B5C;\n",
              "      --hover-fill-color: #FFFFFF;\n",
              "      --disabled-bg-color: #3B4455;\n",
              "      --disabled-fill-color: #666;\n",
              "  }\n",
              "\n",
              "  .colab-df-quickchart {\n",
              "    background-color: var(--bg-color);\n",
              "    border: none;\n",
              "    border-radius: 50%;\n",
              "    cursor: pointer;\n",
              "    display: none;\n",
              "    fill: var(--fill-color);\n",
              "    height: 32px;\n",
              "    padding: 0;\n",
              "    width: 32px;\n",
              "  }\n",
              "\n",
              "  .colab-df-quickchart:hover {\n",
              "    background-color: var(--hover-bg-color);\n",
              "    box-shadow: 0 1px 2px rgba(60, 64, 67, 0.3), 0 1px 3px 1px rgba(60, 64, 67, 0.15);\n",
              "    fill: var(--button-hover-fill-color);\n",
              "  }\n",
              "\n",
              "  .colab-df-quickchart-complete:disabled,\n",
              "  .colab-df-quickchart-complete:disabled:hover {\n",
              "    background-color: var(--disabled-bg-color);\n",
              "    fill: var(--disabled-fill-color);\n",
              "    box-shadow: none;\n",
              "  }\n",
              "\n",
              "  .colab-df-spinner {\n",
              "    border: 2px solid var(--fill-color);\n",
              "    border-color: transparent;\n",
              "    border-bottom-color: var(--fill-color);\n",
              "    animation:\n",
              "      spin 1s steps(1) infinite;\n",
              "  }\n",
              "\n",
              "  @keyframes spin {\n",
              "    0% {\n",
              "      border-color: transparent;\n",
              "      border-bottom-color: var(--fill-color);\n",
              "      border-left-color: var(--fill-color);\n",
              "    }\n",
              "    20% {\n",
              "      border-color: transparent;\n",
              "      border-left-color: var(--fill-color);\n",
              "      border-top-color: var(--fill-color);\n",
              "    }\n",
              "    30% {\n",
              "      border-color: transparent;\n",
              "      border-left-color: var(--fill-color);\n",
              "      border-top-color: var(--fill-color);\n",
              "      border-right-color: var(--fill-color);\n",
              "    }\n",
              "    40% {\n",
              "      border-color: transparent;\n",
              "      border-right-color: var(--fill-color);\n",
              "      border-top-color: var(--fill-color);\n",
              "    }\n",
              "    60% {\n",
              "      border-color: transparent;\n",
              "      border-right-color: var(--fill-color);\n",
              "    }\n",
              "    80% {\n",
              "      border-color: transparent;\n",
              "      border-right-color: var(--fill-color);\n",
              "      border-bottom-color: var(--fill-color);\n",
              "    }\n",
              "    90% {\n",
              "      border-color: transparent;\n",
              "      border-bottom-color: var(--fill-color);\n",
              "    }\n",
              "  }\n",
              "</style>\n",
              "\n",
              "  <script>\n",
              "    async function quickchart(key) {\n",
              "      const quickchartButtonEl =\n",
              "        document.querySelector('#' + key + ' button');\n",
              "      quickchartButtonEl.disabled = true;  // To prevent multiple clicks.\n",
              "      quickchartButtonEl.classList.add('colab-df-spinner');\n",
              "      try {\n",
              "        const charts = await google.colab.kernel.invokeFunction(\n",
              "            'suggestCharts', [key], {});\n",
              "      } catch (error) {\n",
              "        console.error('Error during call to suggestCharts:', error);\n",
              "      }\n",
              "      quickchartButtonEl.classList.remove('colab-df-spinner');\n",
              "      quickchartButtonEl.classList.add('colab-df-quickchart-complete');\n",
              "    }\n",
              "    (() => {\n",
              "      let quickchartButtonEl =\n",
              "        document.querySelector('#df-2cbecfb4-5645-4079-b4f6-9c8715f9aa2e button');\n",
              "      quickchartButtonEl.style.display =\n",
              "        google.colab.kernel.accessAllowed ? 'block' : 'none';\n",
              "    })();\n",
              "  </script>\n",
              "</div>\n",
              "\n",
              "    </div>\n",
              "  </div>\n"
            ],
            "application/vnd.google.colaboratory.intrinsic+json": {
              "type": "dataframe",
              "summary": "{\n  \"name\": \"           'split0_test_score', 'split1_test_score', 'split2_test_score']]\",\n  \"rows\": 9,\n  \"fields\": [\n    {\n      \"column\": \"params\",\n      \"properties\": {\n        \"dtype\": \"object\",\n        \"semantic_type\": \"\",\n        \"description\": \"\"\n      }\n    },\n    {\n      \"column\": \"mean_test_score\",\n      \"properties\": {\n        \"dtype\": \"number\",\n        \"std\": 0.13790764488786886,\n        \"min\": 0.6999999999999998,\n        \"max\": 0.975,\n        \"num_unique_values\": 3,\n        \"samples\": [\n          0.6999999999999998,\n          0.9583333333333334,\n          0.975\n        ],\n        \"semantic_type\": \"\",\n        \"description\": \"\"\n      }\n    },\n    {\n      \"column\": \"rank_test_score\",\n      \"properties\": {\n        \"dtype\": \"int32\",\n        \"num_unique_values\": 4,\n        \"samples\": [\n          5,\n          1,\n          7\n        ],\n        \"semantic_type\": \"\",\n        \"description\": \"\"\n      }\n    },\n    {\n      \"column\": \"split0_test_score\",\n      \"properties\": {\n        \"dtype\": \"number\",\n        \"std\": 0.131021626713557,\n        \"min\": 0.7,\n        \"max\": 0.975,\n        \"num_unique_values\": 3,\n        \"samples\": [\n          0.7,\n          0.925,\n          0.975\n        ],\n        \"semantic_type\": \"\",\n        \"description\": \"\"\n      }\n    },\n    {\n      \"column\": \"split1_test_score\",\n      \"properties\": {\n        \"dtype\": \"number\",\n        \"std\": 0.1549193338482967,\n        \"min\": 0.7,\n        \"max\": 1.0,\n        \"num_unique_values\": 2,\n        \"samples\": [\n          1.0,\n          0.7\n        ],\n        \"semantic_type\": \"\",\n        \"description\": \"\"\n      }\n    },\n    {\n      \"column\": \"split2_test_score\",\n      \"properties\": {\n        \"dtype\": \"number\",\n        \"std\": 0.12909944487358055,\n        \"min\": 0.7,\n        \"max\": 0.95,\n        \"num_unique_values\": 2,\n        \"samples\": [\n          0.95,\n          0.7\n        ],\n        \"semantic_type\": \"\",\n        \"description\": \"\"\n      }\n    }\n  ]\n}"
            }
          },
          "metadata": {},
          "execution_count": 78
        }
      ]
    },
    {
      "cell_type": "code",
      "source": [
        "print('GridSearchCV 최적 파라미터:', grid_dtree.best_params_)\n",
        "print('GridSearchCV 최고 정확도: {0:.4f}'.format(grid_dtree.best_score_))"
      ],
      "metadata": {
        "colab": {
          "base_uri": "https://localhost:8080/"
        },
        "id": "Dj2__Uzk-inj",
        "outputId": "79cc23dd-e43e-4604-85f9-30176f263f27"
      },
      "execution_count": 79,
      "outputs": [
        {
          "output_type": "stream",
          "name": "stdout",
          "text": [
            "GridSearchCV 최적 파라미터: {'max_depth': 3, 'min_samples_split': 2}\n",
            "GridSearchCV 최고 정확도: 0.9750\n"
          ]
        }
      ]
    },
    {
      "cell_type": "code",
      "source": [
        "#GridSearchCV의 refit으로 이미 학습된 estimator 반환\n",
        "estimator = grid_dtree.best_estimator_\n",
        "\n",
        "#GridSearchCV의 best_estimator_는 이미 최적 학습이 됐으므로 별도 학습이 필요 없음\n",
        "pred = estimator.predict(X_test)\n",
        "print('테스트 데이터 세트 정확도: {0:.4f}'.format(accuracy_score(y_test, pred)))"
      ],
      "metadata": {
        "id": "N8qEbjDL-mX6",
        "outputId": "f0b8a10d-3045-42a5-c445-2c788434f6b5",
        "colab": {
          "base_uri": "https://localhost:8080/"
        }
      },
      "execution_count": 80,
      "outputs": [
        {
          "output_type": "stream",
          "name": "stdout",
          "text": [
            "테스트 데이터 세트 정확도: 0.9667\n"
          ]
        }
      ]
    }
  ]
}